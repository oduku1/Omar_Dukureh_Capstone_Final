{
 "cells": [
  {
   "cell_type": "code",
   "execution_count": 32,
   "metadata": {},
   "outputs": [],
   "source": [
    "import pandas as pd\n",
    "import numpy as np\n",
    "import matplotlib.pyplot as plt\n",
    "import seaborn as sns\n",
    "import scipy.stats as stats\n",
    "from sklearn.model_selection import train_test_split, GridSearchCV\n",
    "from sklearn.metrics import mean_squared_error, r2_score\n"
   ]
  },
  {
   "cell_type": "code",
   "execution_count": 33,
   "metadata": {},
   "outputs": [],
   "source": [
    "Cleaned_Nbacombined = pd.read_csv('/Users/omardukureh12/Capstone_377/data/processed/nba_combined.csv')\n",
    "Cleaned_Nbacombined = Cleaned_Nbacombined.dropna()"
   ]
  },
  {
   "cell_type": "code",
   "execution_count": 34,
   "metadata": {},
   "outputs": [
    {
     "name": "stdout",
     "output_type": "stream",
     "text": [
      "3464\n",
      "514\n"
     ]
    }
   ],
   "source": [
    "print(Cleaned_Nbacombined.shape[0])\n",
    "print(Cleaned_Nbacombined[Cleaned_Nbacombined['Year'] == 2024].shape[0])\n"
   ]
  },
  {
   "cell_type": "markdown",
   "metadata": {},
   "source": [
    "With the Percentage of the data of 2024 stats being a little around 15% of the entire data set, I will be using data from the 2024 stats as a test set and the rest of the data as a training set."
   ]
  },
  {
   "cell_type": "code",
   "execution_count": 35,
   "metadata": {},
   "outputs": [],
   "source": [
    "train  = Cleaned_Nbacombined[Cleaned_Nbacombined['Year']<2024]\n",
    "test = Cleaned_Nbacombined[Cleaned_Nbacombined['Year']==2024]"
   ]
  },
  {
   "cell_type": "code",
   "execution_count": 36,
   "metadata": {},
   "outputs": [],
   "source": [
    "features = [ 'VORP', 'FG',  'TRB',  'PER',  'FTA', 'MP', 'GS', 'PTS', 'G', 'Year']\n",
    "target = ['WS']\n",
    "\n",
    "X_train = train[features]\n",
    "y_train = train[target]\n",
    "\n",
    "X_test = test[features]\n",
    "y_test = test[target]"
   ]
  },
  {
   "cell_type": "markdown",
   "metadata": {},
   "source": [
    "# XGBoost Model"
   ]
  },
  {
   "cell_type": "code",
   "execution_count": 37,
   "metadata": {},
   "outputs": [],
   "source": [
    "import xgboost as xgb\n",
    "from xgboost import XGBRegressor"
   ]
  },
  {
   "cell_type": "code",
   "execution_count": 38,
   "metadata": {},
   "outputs": [
    {
     "name": "stdout",
     "output_type": "stream",
     "text": [
      "[0]\tvalidation_0-rmse:2.19243\tvalidation_1-rmse:2.34938\n"
     ]
    },
    {
     "name": "stdout",
     "output_type": "stream",
     "text": [
      "[100]\tvalidation_0-rmse:0.19633\tvalidation_1-rmse:0.61472\n",
      "[200]\tvalidation_0-rmse:0.10481\tvalidation_1-rmse:0.61634\n",
      "[265]\tvalidation_0-rmse:0.07217\tvalidation_1-rmse:0.61704\n"
     ]
    },
    {
     "data": {
      "text/html": [
       "<style>#sk-container-id-5 {color: black;}#sk-container-id-5 pre{padding: 0;}#sk-container-id-5 div.sk-toggleable {background-color: white;}#sk-container-id-5 label.sk-toggleable__label {cursor: pointer;display: block;width: 100%;margin-bottom: 0;padding: 0.3em;box-sizing: border-box;text-align: center;}#sk-container-id-5 label.sk-toggleable__label-arrow:before {content: \"▸\";float: left;margin-right: 0.25em;color: #696969;}#sk-container-id-5 label.sk-toggleable__label-arrow:hover:before {color: black;}#sk-container-id-5 div.sk-estimator:hover label.sk-toggleable__label-arrow:before {color: black;}#sk-container-id-5 div.sk-toggleable__content {max-height: 0;max-width: 0;overflow: hidden;text-align: left;background-color: #f0f8ff;}#sk-container-id-5 div.sk-toggleable__content pre {margin: 0.2em;color: black;border-radius: 0.25em;background-color: #f0f8ff;}#sk-container-id-5 input.sk-toggleable__control:checked~div.sk-toggleable__content {max-height: 200px;max-width: 100%;overflow: auto;}#sk-container-id-5 input.sk-toggleable__control:checked~label.sk-toggleable__label-arrow:before {content: \"▾\";}#sk-container-id-5 div.sk-estimator input.sk-toggleable__control:checked~label.sk-toggleable__label {background-color: #d4ebff;}#sk-container-id-5 div.sk-label input.sk-toggleable__control:checked~label.sk-toggleable__label {background-color: #d4ebff;}#sk-container-id-5 input.sk-hidden--visually {border: 0;clip: rect(1px 1px 1px 1px);clip: rect(1px, 1px, 1px, 1px);height: 1px;margin: -1px;overflow: hidden;padding: 0;position: absolute;width: 1px;}#sk-container-id-5 div.sk-estimator {font-family: monospace;background-color: #f0f8ff;border: 1px dotted black;border-radius: 0.25em;box-sizing: border-box;margin-bottom: 0.5em;}#sk-container-id-5 div.sk-estimator:hover {background-color: #d4ebff;}#sk-container-id-5 div.sk-parallel-item::after {content: \"\";width: 100%;border-bottom: 1px solid gray;flex-grow: 1;}#sk-container-id-5 div.sk-label:hover label.sk-toggleable__label {background-color: #d4ebff;}#sk-container-id-5 div.sk-serial::before {content: \"\";position: absolute;border-left: 1px solid gray;box-sizing: border-box;top: 0;bottom: 0;left: 50%;z-index: 0;}#sk-container-id-5 div.sk-serial {display: flex;flex-direction: column;align-items: center;background-color: white;padding-right: 0.2em;padding-left: 0.2em;position: relative;}#sk-container-id-5 div.sk-item {position: relative;z-index: 1;}#sk-container-id-5 div.sk-parallel {display: flex;align-items: stretch;justify-content: center;background-color: white;position: relative;}#sk-container-id-5 div.sk-item::before, #sk-container-id-5 div.sk-parallel-item::before {content: \"\";position: absolute;border-left: 1px solid gray;box-sizing: border-box;top: 0;bottom: 0;left: 50%;z-index: -1;}#sk-container-id-5 div.sk-parallel-item {display: flex;flex-direction: column;z-index: 1;position: relative;background-color: white;}#sk-container-id-5 div.sk-parallel-item:first-child::after {align-self: flex-end;width: 50%;}#sk-container-id-5 div.sk-parallel-item:last-child::after {align-self: flex-start;width: 50%;}#sk-container-id-5 div.sk-parallel-item:only-child::after {width: 0;}#sk-container-id-5 div.sk-dashed-wrapped {border: 1px dashed gray;margin: 0 0.4em 0.5em 0.4em;box-sizing: border-box;padding-bottom: 0.4em;background-color: white;}#sk-container-id-5 div.sk-label label {font-family: monospace;font-weight: bold;display: inline-block;line-height: 1.2em;}#sk-container-id-5 div.sk-label-container {text-align: center;}#sk-container-id-5 div.sk-container {/* jupyter's `normalize.less` sets `[hidden] { display: none; }` but bootstrap.min.css set `[hidden] { display: none !important; }` so we also need the `!important` here to be able to override the default hidden behavior on the sphinx rendered scikit-learn.org. See: https://github.com/scikit-learn/scikit-learn/issues/21755 */display: inline-block !important;position: relative;}#sk-container-id-5 div.sk-text-repr-fallback {display: none;}</style><div id=\"sk-container-id-5\" class=\"sk-top-container\"><div class=\"sk-text-repr-fallback\"><pre>XGBRegressor(base_score=None, booster=None, callbacks=None,\n",
       "             colsample_bylevel=None, colsample_bynode=None,\n",
       "             colsample_bytree=None, device=None, early_stopping_rounds=150,\n",
       "             enable_categorical=False, eval_metric=None, feature_types=None,\n",
       "             feature_weights=None, gamma=None, grow_policy=None,\n",
       "             importance_type=None, interaction_constraints=None,\n",
       "             learning_rate=0.15, max_bin=None, max_cat_threshold=None,\n",
       "             max_cat_to_onehot=None, max_delta_step=None, max_depth=None,\n",
       "             max_leaves=None, min_child_weight=None, missing=nan,\n",
       "             monotone_constraints=None, multi_strategy=None, n_estimators=2000,\n",
       "             n_jobs=None, num_parallel_tree=None, ...)</pre><b>In a Jupyter environment, please rerun this cell to show the HTML representation or trust the notebook. <br />On GitHub, the HTML representation is unable to render, please try loading this page with nbviewer.org.</b></div><div class=\"sk-container\" hidden><div class=\"sk-item\"><div class=\"sk-estimator sk-toggleable\"><input class=\"sk-toggleable__control sk-hidden--visually\" id=\"sk-estimator-id-5\" type=\"checkbox\" checked><label for=\"sk-estimator-id-5\" class=\"sk-toggleable__label sk-toggleable__label-arrow\">XGBRegressor</label><div class=\"sk-toggleable__content\"><pre>XGBRegressor(base_score=None, booster=None, callbacks=None,\n",
       "             colsample_bylevel=None, colsample_bynode=None,\n",
       "             colsample_bytree=None, device=None, early_stopping_rounds=150,\n",
       "             enable_categorical=False, eval_metric=None, feature_types=None,\n",
       "             feature_weights=None, gamma=None, grow_policy=None,\n",
       "             importance_type=None, interaction_constraints=None,\n",
       "             learning_rate=0.15, max_bin=None, max_cat_threshold=None,\n",
       "             max_cat_to_onehot=None, max_delta_step=None, max_depth=None,\n",
       "             max_leaves=None, min_child_weight=None, missing=nan,\n",
       "             monotone_constraints=None, multi_strategy=None, n_estimators=2000,\n",
       "             n_jobs=None, num_parallel_tree=None, ...)</pre></div></div></div></div></div>"
      ],
      "text/plain": [
       "XGBRegressor(base_score=None, booster=None, callbacks=None,\n",
       "             colsample_bylevel=None, colsample_bynode=None,\n",
       "             colsample_bytree=None, device=None, early_stopping_rounds=150,\n",
       "             enable_categorical=False, eval_metric=None, feature_types=None,\n",
       "             feature_weights=None, gamma=None, grow_policy=None,\n",
       "             importance_type=None, interaction_constraints=None,\n",
       "             learning_rate=0.15, max_bin=None, max_cat_threshold=None,\n",
       "             max_cat_to_onehot=None, max_delta_step=None, max_depth=None,\n",
       "             max_leaves=None, min_child_weight=None, missing=nan,\n",
       "             monotone_constraints=None, multi_strategy=None, n_estimators=2000,\n",
       "             n_jobs=None, num_parallel_tree=None, ...)"
      ]
     },
     "execution_count": 38,
     "metadata": {},
     "output_type": "execute_result"
    }
   ],
   "source": [
    "\n",
    "# Initialize an XGBRegressor model with specified hyperparameters\n",
    "XGB_reg = XGBRegressor(\n",
    "    n_estimators=2000,         # Maximum number of boosting rounds (trees)\n",
    "    learning_rate=0.15,        # Step size shrinkage to prevent overfitting\n",
    "    early_stopping_rounds= 150, # Stop training if no improvement in 150 rounds on eval_set[1]\n",
    "    reg_alpha= 0.1,        # L1 regularization strength\n",
    "    reg_lambda= 1    # L2 regularization strength\n",
    "    )\n",
    "\n",
    "# Train the model on the training data\n",
    "XGB_reg.fit(\n",
    "    X_train, y_train,                         # Training features and target\n",
    "    eval_set=[(X_train, y_train), (X_test, y_test)], # Evaluation on both train and test sets\n",
    "    verbose=100                               # Print training progress every 100 iterations\n",
    ")"
   ]
  },
  {
   "cell_type": "markdown",
   "metadata": {},
   "source": [
    "# Simple Linear Regression"
   ]
  },
  {
   "cell_type": "code",
   "execution_count": 39,
   "metadata": {},
   "outputs": [],
   "source": [
    "from sklearn.linear_model import LinearRegression"
   ]
  },
  {
   "cell_type": "code",
   "execution_count": 40,
   "metadata": {},
   "outputs": [
    {
     "data": {
      "text/html": [
       "<style>#sk-container-id-6 {color: black;}#sk-container-id-6 pre{padding: 0;}#sk-container-id-6 div.sk-toggleable {background-color: white;}#sk-container-id-6 label.sk-toggleable__label {cursor: pointer;display: block;width: 100%;margin-bottom: 0;padding: 0.3em;box-sizing: border-box;text-align: center;}#sk-container-id-6 label.sk-toggleable__label-arrow:before {content: \"▸\";float: left;margin-right: 0.25em;color: #696969;}#sk-container-id-6 label.sk-toggleable__label-arrow:hover:before {color: black;}#sk-container-id-6 div.sk-estimator:hover label.sk-toggleable__label-arrow:before {color: black;}#sk-container-id-6 div.sk-toggleable__content {max-height: 0;max-width: 0;overflow: hidden;text-align: left;background-color: #f0f8ff;}#sk-container-id-6 div.sk-toggleable__content pre {margin: 0.2em;color: black;border-radius: 0.25em;background-color: #f0f8ff;}#sk-container-id-6 input.sk-toggleable__control:checked~div.sk-toggleable__content {max-height: 200px;max-width: 100%;overflow: auto;}#sk-container-id-6 input.sk-toggleable__control:checked~label.sk-toggleable__label-arrow:before {content: \"▾\";}#sk-container-id-6 div.sk-estimator input.sk-toggleable__control:checked~label.sk-toggleable__label {background-color: #d4ebff;}#sk-container-id-6 div.sk-label input.sk-toggleable__control:checked~label.sk-toggleable__label {background-color: #d4ebff;}#sk-container-id-6 input.sk-hidden--visually {border: 0;clip: rect(1px 1px 1px 1px);clip: rect(1px, 1px, 1px, 1px);height: 1px;margin: -1px;overflow: hidden;padding: 0;position: absolute;width: 1px;}#sk-container-id-6 div.sk-estimator {font-family: monospace;background-color: #f0f8ff;border: 1px dotted black;border-radius: 0.25em;box-sizing: border-box;margin-bottom: 0.5em;}#sk-container-id-6 div.sk-estimator:hover {background-color: #d4ebff;}#sk-container-id-6 div.sk-parallel-item::after {content: \"\";width: 100%;border-bottom: 1px solid gray;flex-grow: 1;}#sk-container-id-6 div.sk-label:hover label.sk-toggleable__label {background-color: #d4ebff;}#sk-container-id-6 div.sk-serial::before {content: \"\";position: absolute;border-left: 1px solid gray;box-sizing: border-box;top: 0;bottom: 0;left: 50%;z-index: 0;}#sk-container-id-6 div.sk-serial {display: flex;flex-direction: column;align-items: center;background-color: white;padding-right: 0.2em;padding-left: 0.2em;position: relative;}#sk-container-id-6 div.sk-item {position: relative;z-index: 1;}#sk-container-id-6 div.sk-parallel {display: flex;align-items: stretch;justify-content: center;background-color: white;position: relative;}#sk-container-id-6 div.sk-item::before, #sk-container-id-6 div.sk-parallel-item::before {content: \"\";position: absolute;border-left: 1px solid gray;box-sizing: border-box;top: 0;bottom: 0;left: 50%;z-index: -1;}#sk-container-id-6 div.sk-parallel-item {display: flex;flex-direction: column;z-index: 1;position: relative;background-color: white;}#sk-container-id-6 div.sk-parallel-item:first-child::after {align-self: flex-end;width: 50%;}#sk-container-id-6 div.sk-parallel-item:last-child::after {align-self: flex-start;width: 50%;}#sk-container-id-6 div.sk-parallel-item:only-child::after {width: 0;}#sk-container-id-6 div.sk-dashed-wrapped {border: 1px dashed gray;margin: 0 0.4em 0.5em 0.4em;box-sizing: border-box;padding-bottom: 0.4em;background-color: white;}#sk-container-id-6 div.sk-label label {font-family: monospace;font-weight: bold;display: inline-block;line-height: 1.2em;}#sk-container-id-6 div.sk-label-container {text-align: center;}#sk-container-id-6 div.sk-container {/* jupyter's `normalize.less` sets `[hidden] { display: none; }` but bootstrap.min.css set `[hidden] { display: none !important; }` so we also need the `!important` here to be able to override the default hidden behavior on the sphinx rendered scikit-learn.org. See: https://github.com/scikit-learn/scikit-learn/issues/21755 */display: inline-block !important;position: relative;}#sk-container-id-6 div.sk-text-repr-fallback {display: none;}</style><div id=\"sk-container-id-6\" class=\"sk-top-container\"><div class=\"sk-text-repr-fallback\"><pre>LinearRegression()</pre><b>In a Jupyter environment, please rerun this cell to show the HTML representation or trust the notebook. <br />On GitHub, the HTML representation is unable to render, please try loading this page with nbviewer.org.</b></div><div class=\"sk-container\" hidden><div class=\"sk-item\"><div class=\"sk-estimator sk-toggleable\"><input class=\"sk-toggleable__control sk-hidden--visually\" id=\"sk-estimator-id-6\" type=\"checkbox\" checked><label for=\"sk-estimator-id-6\" class=\"sk-toggleable__label sk-toggleable__label-arrow\">LinearRegression</label><div class=\"sk-toggleable__content\"><pre>LinearRegression()</pre></div></div></div></div></div>"
      ],
      "text/plain": [
       "LinearRegression()"
      ]
     },
     "execution_count": 40,
     "metadata": {},
     "output_type": "execute_result"
    }
   ],
   "source": [
    "target_log  = [\"log_WS\"] #need to  change this to becuase linear regression assumes normality. \n",
    "features_log = [ 'VORP', 'FG',  'TRB',  'PER',  'FTA', 'MP', 'GS', 'PTS', 'G','Year']\n",
    "Xtrain2 = train[features_log]\n",
    "ytrain2 = train[target_log]\n",
    "\n",
    "LR_Model = LinearRegression()\n",
    "LR_Model.fit(Xtrain2, ytrain2)"
   ]
  },
  {
   "cell_type": "markdown",
   "metadata": {},
   "source": [
    "# Random Forest Regression Model"
   ]
  },
  {
   "cell_type": "code",
   "execution_count": 41,
   "metadata": {},
   "outputs": [],
   "source": [
    "from sklearn.ensemble import RandomForestRegressor\n",
    "from sklearn.model_selection import GridSearchCV  "
   ]
  },
  {
   "cell_type": "code",
   "execution_count": 56,
   "metadata": {},
   "outputs": [
    {
     "name": "stdout",
     "output_type": "stream",
     "text": [
      "Fitting 5 folds for each of 108 candidates, totalling 540 fits\n",
      "[CV 5/5; 1/108] START max_depth=None, min_samples_leaf=1, min_samples_split=2, n_estimators=50\n",
      "[CV 3/5; 1/108] START max_depth=None, min_samples_leaf=1, min_samples_split=2, n_estimators=50\n",
      "[CV 4/5; 1/108] START max_depth=None, min_samples_leaf=1, min_samples_split=2, n_estimators=50\n",
      "[CV 1/5; 1/108] START max_depth=None, min_samples_leaf=1, min_samples_split=2, n_estimators=50\n",
      "[CV 2/5; 1/108] START max_depth=None, min_samples_leaf=1, min_samples_split=2, n_estimators=50\n",
      "[CV 3/5; 2/108] START max_depth=None, min_samples_leaf=1, min_samples_split=2, n_estimators=100\n",
      "[CV 2/5; 2/108] START max_depth=None, min_samples_leaf=1, min_samples_split=2, n_estimators=100\n",
      "[CV 1/5; 2/108] START max_depth=None, min_samples_leaf=1, min_samples_split=2, n_estimators=100\n"
     ]
    },
    {
     "name": "stderr",
     "output_type": "stream",
     "text": [
      "/Users/omardukureh12/anaconda3/lib/python3.11/site-packages/sklearn/base.py:1151: DataConversionWarning: A column-vector y was passed when a 1d array was expected. Please change the shape of y to (n_samples,), for example using ravel().\n",
      "  return fit_method(estimator, *args, **kwargs)\n",
      "/Users/omardukureh12/anaconda3/lib/python3.11/site-packages/sklearn/base.py:1151: DataConversionWarning: A column-vector y was passed when a 1d array was expected. Please change the shape of y to (n_samples,), for example using ravel().\n",
      "  return fit_method(estimator, *args, **kwargs)\n",
      "/Users/omardukureh12/anaconda3/lib/python3.11/site-packages/sklearn/base.py:1151: DataConversionWarning: A column-vector y was passed when a 1d array was expected. Please change the shape of y to (n_samples,), for example using ravel().\n",
      "  return fit_method(estimator, *args, **kwargs)\n",
      "/Users/omardukureh12/anaconda3/lib/python3.11/site-packages/sklearn/base.py:1151: DataConversionWarning: A column-vector y was passed when a 1d array was expected. Please change the shape of y to (n_samples,), for example using ravel().\n",
      "  return fit_method(estimator, *args, **kwargs)\n",
      "/Users/omardukureh12/anaconda3/lib/python3.11/site-packages/sklearn/base.py:1151: DataConversionWarning: A column-vector y was passed when a 1d array was expected. Please change the shape of y to (n_samples,), for example using ravel().\n",
      "  return fit_method(estimator, *args, **kwargs)\n",
      "/Users/omardukureh12/anaconda3/lib/python3.11/site-packages/sklearn/base.py:1151: DataConversionWarning: A column-vector y was passed when a 1d array was expected. Please change the shape of y to (n_samples,), for example using ravel().\n",
      "  return fit_method(estimator, *args, **kwargs)\n",
      "/Users/omardukureh12/anaconda3/lib/python3.11/site-packages/sklearn/base.py:1151: DataConversionWarning: A column-vector y was passed when a 1d array was expected. Please change the shape of y to (n_samples,), for example using ravel().\n",
      "  return fit_method(estimator, *args, **kwargs)\n",
      "/Users/omardukureh12/anaconda3/lib/python3.11/site-packages/sklearn/base.py:1151: DataConversionWarning: A column-vector y was passed when a 1d array was expected. Please change the shape of y to (n_samples,), for example using ravel().\n",
      "  return fit_method(estimator, *args, **kwargs)\n"
     ]
    },
    {
     "name": "stdout",
     "output_type": "stream",
     "text": [
      "[CV 2/5; 1/108] END max_depth=None, min_samples_leaf=1, min_samples_split=2, n_estimators=50;, score=-0.450 total time=   0.9s\n",
      "[CV 5/5; 1/108] END max_depth=None, min_samples_leaf=1, min_samples_split=2, n_estimators=50;, score=-0.421 total time=   0.9s\n",
      "[CV 1/5; 1/108] END max_depth=None, min_samples_leaf=1, min_samples_split=2, n_estimators=50;, score=-0.407 total time=   0.9s\n",
      "[CV 3/5; 1/108] END max_depth=None, min_samples_leaf=1, min_samples_split=2, n_estimators=50;, score=-0.470 total time=   0.9s\n",
      "[CV 4/5; 1/108] END max_depth=None, min_samples_leaf=1, min_samples_split=2, n_estimators=50;, score=-0.410 total time=   0.9s\n",
      "[CV 4/5; 2/108] START max_depth=None, min_samples_leaf=1, min_samples_split=2, n_estimators=100\n",
      "[CV 5/5; 2/108] START max_depth=None, min_samples_leaf=1, min_samples_split=2, n_estimators=100\n",
      "[CV 1/5; 3/108] START max_depth=None, min_samples_leaf=1, min_samples_split=2, n_estimators=200\n",
      "[CV 2/5; 3/108] START max_depth=None, min_samples_leaf=1, min_samples_split=2, n_estimators=200\n",
      "[CV 3/5; 3/108] START max_depth=None, min_samples_leaf=1, min_samples_split=2, n_estimators=200\n"
     ]
    },
    {
     "name": "stderr",
     "output_type": "stream",
     "text": [
      "/Users/omardukureh12/anaconda3/lib/python3.11/site-packages/sklearn/base.py:1151: DataConversionWarning: A column-vector y was passed when a 1d array was expected. Please change the shape of y to (n_samples,), for example using ravel().\n",
      "  return fit_method(estimator, *args, **kwargs)\n",
      "/Users/omardukureh12/anaconda3/lib/python3.11/site-packages/sklearn/base.py:1151: DataConversionWarning: A column-vector y was passed when a 1d array was expected. Please change the shape of y to (n_samples,), for example using ravel().\n",
      "  return fit_method(estimator, *args, **kwargs)\n",
      "/Users/omardukureh12/anaconda3/lib/python3.11/site-packages/sklearn/base.py:1151: DataConversionWarning: A column-vector y was passed when a 1d array was expected. Please change the shape of y to (n_samples,), for example using ravel().\n",
      "  return fit_method(estimator, *args, **kwargs)\n",
      "/Users/omardukureh12/anaconda3/lib/python3.11/site-packages/sklearn/base.py:1151: DataConversionWarning: A column-vector y was passed when a 1d array was expected. Please change the shape of y to (n_samples,), for example using ravel().\n",
      "  return fit_method(estimator, *args, **kwargs)\n",
      "/Users/omardukureh12/anaconda3/lib/python3.11/site-packages/sklearn/base.py:1151: DataConversionWarning: A column-vector y was passed when a 1d array was expected. Please change the shape of y to (n_samples,), for example using ravel().\n",
      "  return fit_method(estimator, *args, **kwargs)\n"
     ]
    },
    {
     "name": "stdout",
     "output_type": "stream",
     "text": [
      "[CV 2/5; 2/108] END max_depth=None, min_samples_leaf=1, min_samples_split=2, n_estimators=100;, score=-0.451 total time=   1.9s\n",
      "[CV 1/5; 2/108] END max_depth=None, min_samples_leaf=1, min_samples_split=2, n_estimators=100;, score=-0.405 total time=   1.8s\n",
      "[CV 3/5; 2/108] END max_depth=None, min_samples_leaf=1, min_samples_split=2, n_estimators=100;, score=-0.463 total time=   1.9s\n",
      "[CV 4/5; 3/108] START max_depth=None, min_samples_leaf=1, min_samples_split=2, n_estimators=200\n",
      "[CV 5/5; 3/108] START max_depth=None, min_samples_leaf=1, min_samples_split=2, n_estimators=200\n",
      "[CV 1/5; 4/108] START max_depth=None, min_samples_leaf=1, min_samples_split=5, n_estimators=50\n"
     ]
    },
    {
     "name": "stderr",
     "output_type": "stream",
     "text": [
      "/Users/omardukureh12/anaconda3/lib/python3.11/site-packages/sklearn/base.py:1151: DataConversionWarning: A column-vector y was passed when a 1d array was expected. Please change the shape of y to (n_samples,), for example using ravel().\n",
      "  return fit_method(estimator, *args, **kwargs)\n",
      "/Users/omardukureh12/anaconda3/lib/python3.11/site-packages/sklearn/base.py:1151: DataConversionWarning: A column-vector y was passed when a 1d array was expected. Please change the shape of y to (n_samples,), for example using ravel().\n",
      "  return fit_method(estimator, *args, **kwargs)\n",
      "/Users/omardukureh12/anaconda3/lib/python3.11/site-packages/sklearn/base.py:1151: DataConversionWarning: A column-vector y was passed when a 1d array was expected. Please change the shape of y to (n_samples,), for example using ravel().\n",
      "  return fit_method(estimator, *args, **kwargs)\n"
     ]
    },
    {
     "name": "stdout",
     "output_type": "stream",
     "text": [
      "[CV 5/5; 2/108] END max_depth=None, min_samples_leaf=1, min_samples_split=2, n_estimators=100;, score=-0.414 total time=   1.7s\n",
      "[CV 4/5; 2/108] END max_depth=None, min_samples_leaf=1, min_samples_split=2, n_estimators=100;, score=-0.411 total time=   1.7s\n",
      "[CV 2/5; 4/108] START max_depth=None, min_samples_leaf=1, min_samples_split=5, n_estimators=50\n",
      "[CV 3/5; 4/108] START max_depth=None, min_samples_leaf=1, min_samples_split=5, n_estimators=50\n",
      "[CV 1/5; 4/108] END max_depth=None, min_samples_leaf=1, min_samples_split=5, n_estimators=50;, score=-0.410 total time=   0.7s\n",
      "[CV 4/5; 4/108] START max_depth=None, min_samples_leaf=1, min_samples_split=5, n_estimators=50\n"
     ]
    },
    {
     "name": "stderr",
     "output_type": "stream",
     "text": [
      "/Users/omardukureh12/anaconda3/lib/python3.11/site-packages/sklearn/base.py:1151: DataConversionWarning: A column-vector y was passed when a 1d array was expected. Please change the shape of y to (n_samples,), for example using ravel().\n",
      "  return fit_method(estimator, *args, **kwargs)\n",
      "/Users/omardukureh12/anaconda3/lib/python3.11/site-packages/sklearn/base.py:1151: DataConversionWarning: A column-vector y was passed when a 1d array was expected. Please change the shape of y to (n_samples,), for example using ravel().\n",
      "  return fit_method(estimator, *args, **kwargs)\n",
      "/Users/omardukureh12/anaconda3/lib/python3.11/site-packages/sklearn/base.py:1151: DataConversionWarning: A column-vector y was passed when a 1d array was expected. Please change the shape of y to (n_samples,), for example using ravel().\n",
      "  return fit_method(estimator, *args, **kwargs)\n"
     ]
    },
    {
     "name": "stdout",
     "output_type": "stream",
     "text": [
      "[CV 2/5; 4/108] END max_depth=None, min_samples_leaf=1, min_samples_split=5, n_estimators=50;, score=-0.447 total time=   0.8s\n",
      "[CV 5/5; 4/108] START max_depth=None, min_samples_leaf=1, min_samples_split=5, n_estimators=50\n",
      "[CV 3/5; 4/108] END max_depth=None, min_samples_leaf=1, min_samples_split=5, n_estimators=50;, score=-0.470 total time=   0.8s\n",
      "[CV 1/5; 5/108] START max_depth=None, min_samples_leaf=1, min_samples_split=5, n_estimators=100\n",
      "[CV 4/5; 4/108] END max_depth=None, min_samples_leaf=1, min_samples_split=5, n_estimators=50;, score=-0.413 total time=   0.8s\n",
      "[CV 2/5; 5/108] START max_depth=None, min_samples_leaf=1, min_samples_split=5, n_estimators=100\n"
     ]
    },
    {
     "name": "stderr",
     "output_type": "stream",
     "text": [
      "/Users/omardukureh12/anaconda3/lib/python3.11/site-packages/sklearn/base.py:1151: DataConversionWarning: A column-vector y was passed when a 1d array was expected. Please change the shape of y to (n_samples,), for example using ravel().\n",
      "  return fit_method(estimator, *args, **kwargs)\n",
      "/Users/omardukureh12/anaconda3/lib/python3.11/site-packages/sklearn/base.py:1151: DataConversionWarning: A column-vector y was passed when a 1d array was expected. Please change the shape of y to (n_samples,), for example using ravel().\n",
      "  return fit_method(estimator, *args, **kwargs)\n",
      "/Users/omardukureh12/anaconda3/lib/python3.11/site-packages/sklearn/base.py:1151: DataConversionWarning: A column-vector y was passed when a 1d array was expected. Please change the shape of y to (n_samples,), for example using ravel().\n",
      "  return fit_method(estimator, *args, **kwargs)\n"
     ]
    },
    {
     "name": "stdout",
     "output_type": "stream",
     "text": [
      "[CV 5/5; 4/108] END max_depth=None, min_samples_leaf=1, min_samples_split=5, n_estimators=50;, score=-0.418 total time=   0.6s\n",
      "[CV 3/5; 5/108] START max_depth=None, min_samples_leaf=1, min_samples_split=5, n_estimators=100\n",
      "[CV 3/5; 3/108] END max_depth=None, min_samples_leaf=1, min_samples_split=2, n_estimators=200;, score=-0.463 total time=   3.2s\n",
      "[CV 4/5; 5/108] START max_depth=None, min_samples_leaf=1, min_samples_split=5, n_estimators=100\n",
      "[CV 2/5; 3/108] END max_depth=None, min_samples_leaf=1, min_samples_split=2, n_estimators=200;, score=-0.451 total time=   3.2s\n",
      "[CV 5/5; 5/108] START max_depth=None, min_samples_leaf=1, min_samples_split=5, n_estimators=100\n"
     ]
    },
    {
     "name": "stderr",
     "output_type": "stream",
     "text": [
      "/Users/omardukureh12/anaconda3/lib/python3.11/site-packages/sklearn/base.py:1151: DataConversionWarning: A column-vector y was passed when a 1d array was expected. Please change the shape of y to (n_samples,), for example using ravel().\n",
      "  return fit_method(estimator, *args, **kwargs)\n",
      "/Users/omardukureh12/anaconda3/lib/python3.11/site-packages/sklearn/base.py:1151: DataConversionWarning: A column-vector y was passed when a 1d array was expected. Please change the shape of y to (n_samples,), for example using ravel().\n",
      "  return fit_method(estimator, *args, **kwargs)\n",
      "/Users/omardukureh12/anaconda3/lib/python3.11/site-packages/sklearn/base.py:1151: DataConversionWarning: A column-vector y was passed when a 1d array was expected. Please change the shape of y to (n_samples,), for example using ravel().\n",
      "  return fit_method(estimator, *args, **kwargs)\n"
     ]
    },
    {
     "name": "stdout",
     "output_type": "stream",
     "text": [
      "[CV 1/5; 3/108] END max_depth=None, min_samples_leaf=1, min_samples_split=2, n_estimators=200;, score=-0.400 total time=   3.3s\n",
      "[CV 1/5; 6/108] START max_depth=None, min_samples_leaf=1, min_samples_split=5, n_estimators=200\n"
     ]
    },
    {
     "name": "stderr",
     "output_type": "stream",
     "text": [
      "/Users/omardukureh12/anaconda3/lib/python3.11/site-packages/sklearn/base.py:1151: DataConversionWarning: A column-vector y was passed when a 1d array was expected. Please change the shape of y to (n_samples,), for example using ravel().\n",
      "  return fit_method(estimator, *args, **kwargs)\n"
     ]
    },
    {
     "name": "stdout",
     "output_type": "stream",
     "text": [
      "[CV 2/5; 5/108] END max_depth=None, min_samples_leaf=1, min_samples_split=5, n_estimators=100;, score=-0.450 total time=   1.2s\n",
      "[CV 2/5; 6/108] START max_depth=None, min_samples_leaf=1, min_samples_split=5, n_estimators=200\n",
      "[CV 1/5; 5/108] END max_depth=None, min_samples_leaf=1, min_samples_split=5, n_estimators=100;, score=-0.407 total time=   1.2s\n",
      "[CV 3/5; 6/108] START max_depth=None, min_samples_leaf=1, min_samples_split=5, n_estimators=200\n"
     ]
    },
    {
     "name": "stderr",
     "output_type": "stream",
     "text": [
      "/Users/omardukureh12/anaconda3/lib/python3.11/site-packages/sklearn/base.py:1151: DataConversionWarning: A column-vector y was passed when a 1d array was expected. Please change the shape of y to (n_samples,), for example using ravel().\n",
      "  return fit_method(estimator, *args, **kwargs)\n",
      "/Users/omardukureh12/anaconda3/lib/python3.11/site-packages/sklearn/base.py:1151: DataConversionWarning: A column-vector y was passed when a 1d array was expected. Please change the shape of y to (n_samples,), for example using ravel().\n",
      "  return fit_method(estimator, *args, **kwargs)\n",
      "/Users/omardukureh12/anaconda3/lib/python3.11/site-packages/sklearn/base.py:1151: DataConversionWarning: A column-vector y was passed when a 1d array was expected. Please change the shape of y to (n_samples,), for example using ravel().\n",
      "  return fit_method(estimator, *args, **kwargs)\n"
     ]
    },
    {
     "name": "stdout",
     "output_type": "stream",
     "text": [
      "[CV 5/5; 3/108] END max_depth=None, min_samples_leaf=1, min_samples_split=2, n_estimators=200;, score=-0.413 total time=   2.9s\n",
      "[CV 4/5; 6/108] START max_depth=None, min_samples_leaf=1, min_samples_split=5, n_estimators=200\n",
      "[CV 4/5; 3/108] END max_depth=None, min_samples_leaf=1, min_samples_split=2, n_estimators=200;, score=-0.416 total time=   3.0s\n",
      "[CV 5/5; 6/108] START max_depth=None, min_samples_leaf=1, min_samples_split=5, n_estimators=200\n"
     ]
    },
    {
     "name": "stderr",
     "output_type": "stream",
     "text": [
      "/Users/omardukureh12/anaconda3/lib/python3.11/site-packages/sklearn/base.py:1151: DataConversionWarning: A column-vector y was passed when a 1d array was expected. Please change the shape of y to (n_samples,), for example using ravel().\n",
      "  return fit_method(estimator, *args, **kwargs)\n"
     ]
    },
    {
     "name": "stdout",
     "output_type": "stream",
     "text": [
      "[CV 3/5; 5/108] END max_depth=None, min_samples_leaf=1, min_samples_split=5, n_estimators=100;, score=-0.466 total time=   1.2s\n",
      "[CV 1/5; 7/108] START max_depth=None, min_samples_leaf=1, min_samples_split=10, n_estimators=50\n",
      "[CV 4/5; 5/108] END max_depth=None, min_samples_leaf=1, min_samples_split=5, n_estimators=100;, score=-0.412 total time=   1.3s\n",
      "[CV 2/5; 7/108] START max_depth=None, min_samples_leaf=1, min_samples_split=10, n_estimators=50\n",
      "[CV 5/5; 5/108] END max_depth=None, min_samples_leaf=1, min_samples_split=5, n_estimators=100;, score=-0.413 total time=   1.3s\n",
      "[CV 3/5; 7/108] START max_depth=None, min_samples_leaf=1, min_samples_split=10, n_estimators=50\n"
     ]
    },
    {
     "name": "stderr",
     "output_type": "stream",
     "text": [
      "/Users/omardukureh12/anaconda3/lib/python3.11/site-packages/sklearn/base.py:1151: DataConversionWarning: A column-vector y was passed when a 1d array was expected. Please change the shape of y to (n_samples,), for example using ravel().\n",
      "  return fit_method(estimator, *args, **kwargs)\n",
      "/Users/omardukureh12/anaconda3/lib/python3.11/site-packages/sklearn/base.py:1151: DataConversionWarning: A column-vector y was passed when a 1d array was expected. Please change the shape of y to (n_samples,), for example using ravel().\n",
      "  return fit_method(estimator, *args, **kwargs)\n",
      "/Users/omardukureh12/anaconda3/lib/python3.11/site-packages/sklearn/base.py:1151: DataConversionWarning: A column-vector y was passed when a 1d array was expected. Please change the shape of y to (n_samples,), for example using ravel().\n",
      "  return fit_method(estimator, *args, **kwargs)\n"
     ]
    },
    {
     "name": "stdout",
     "output_type": "stream",
     "text": [
      "[CV 1/5; 7/108] END max_depth=None, min_samples_leaf=1, min_samples_split=10, n_estimators=50;, score=-0.408 total time=   0.5s\n",
      "[CV 4/5; 7/108] START max_depth=None, min_samples_leaf=1, min_samples_split=10, n_estimators=50\n",
      "[CV 3/5; 7/108] END max_depth=None, min_samples_leaf=1, min_samples_split=10, n_estimators=50;, score=-0.460 total time=   0.5s\n",
      "[CV 5/5; 7/108] START max_depth=None, min_samples_leaf=1, min_samples_split=10, n_estimators=50\n",
      "[CV 2/5; 7/108] END max_depth=None, min_samples_leaf=1, min_samples_split=10, n_estimators=50;, score=-0.462 total time=   0.5s\n",
      "[CV 1/5; 8/108] START max_depth=None, min_samples_leaf=1, min_samples_split=10, n_estimators=100\n"
     ]
    },
    {
     "name": "stderr",
     "output_type": "stream",
     "text": [
      "/Users/omardukureh12/anaconda3/lib/python3.11/site-packages/sklearn/base.py:1151: DataConversionWarning: A column-vector y was passed when a 1d array was expected. Please change the shape of y to (n_samples,), for example using ravel().\n",
      "  return fit_method(estimator, *args, **kwargs)\n",
      "/Users/omardukureh12/anaconda3/lib/python3.11/site-packages/sklearn/base.py:1151: DataConversionWarning: A column-vector y was passed when a 1d array was expected. Please change the shape of y to (n_samples,), for example using ravel().\n",
      "  return fit_method(estimator, *args, **kwargs)\n",
      "/Users/omardukureh12/anaconda3/lib/python3.11/site-packages/sklearn/base.py:1151: DataConversionWarning: A column-vector y was passed when a 1d array was expected. Please change the shape of y to (n_samples,), for example using ravel().\n",
      "  return fit_method(estimator, *args, **kwargs)\n"
     ]
    },
    {
     "name": "stdout",
     "output_type": "stream",
     "text": [
      "[CV 4/5; 7/108] END max_depth=None, min_samples_leaf=1, min_samples_split=10, n_estimators=50;, score=-0.429 total time=   0.5s\n",
      "[CV 2/5; 8/108] START max_depth=None, min_samples_leaf=1, min_samples_split=10, n_estimators=100\n",
      "[CV 5/5; 7/108] END max_depth=None, min_samples_leaf=1, min_samples_split=10, n_estimators=50;, score=-0.414 total time=   0.5s\n",
      "[CV 3/5; 8/108] START max_depth=None, min_samples_leaf=1, min_samples_split=10, n_estimators=100\n"
     ]
    },
    {
     "name": "stderr",
     "output_type": "stream",
     "text": [
      "/Users/omardukureh12/anaconda3/lib/python3.11/site-packages/sklearn/base.py:1151: DataConversionWarning: A column-vector y was passed when a 1d array was expected. Please change the shape of y to (n_samples,), for example using ravel().\n",
      "  return fit_method(estimator, *args, **kwargs)\n",
      "/Users/omardukureh12/anaconda3/lib/python3.11/site-packages/sklearn/base.py:1151: DataConversionWarning: A column-vector y was passed when a 1d array was expected. Please change the shape of y to (n_samples,), for example using ravel().\n",
      "  return fit_method(estimator, *args, **kwargs)\n"
     ]
    },
    {
     "name": "stdout",
     "output_type": "stream",
     "text": [
      "[CV 1/5; 6/108] END max_depth=None, min_samples_leaf=1, min_samples_split=5, n_estimators=200;, score=-0.401 total time=   2.4s\n",
      "[CV 4/5; 8/108] START max_depth=None, min_samples_leaf=1, min_samples_split=10, n_estimators=100\n"
     ]
    },
    {
     "name": "stderr",
     "output_type": "stream",
     "text": [
      "/Users/omardukureh12/anaconda3/lib/python3.11/site-packages/sklearn/base.py:1151: DataConversionWarning: A column-vector y was passed when a 1d array was expected. Please change the shape of y to (n_samples,), for example using ravel().\n",
      "  return fit_method(estimator, *args, **kwargs)\n"
     ]
    },
    {
     "name": "stdout",
     "output_type": "stream",
     "text": [
      "[CV 1/5; 8/108] END max_depth=None, min_samples_leaf=1, min_samples_split=10, n_estimators=100;, score=-0.407 total time=   0.9s\n",
      "[CV 5/5; 8/108] START max_depth=None, min_samples_leaf=1, min_samples_split=10, n_estimators=100\n",
      "[CV 2/5; 6/108] END max_depth=None, min_samples_leaf=1, min_samples_split=5, n_estimators=200;, score=-0.449 total time=   2.4s\n",
      "[CV 1/5; 9/108] START max_depth=None, min_samples_leaf=1, min_samples_split=10, n_estimators=200\n"
     ]
    },
    {
     "name": "stderr",
     "output_type": "stream",
     "text": [
      "/Users/omardukureh12/anaconda3/lib/python3.11/site-packages/sklearn/base.py:1151: DataConversionWarning: A column-vector y was passed when a 1d array was expected. Please change the shape of y to (n_samples,), for example using ravel().\n",
      "  return fit_method(estimator, *args, **kwargs)\n",
      "/Users/omardukureh12/anaconda3/lib/python3.11/site-packages/sklearn/base.py:1151: DataConversionWarning: A column-vector y was passed when a 1d array was expected. Please change the shape of y to (n_samples,), for example using ravel().\n",
      "  return fit_method(estimator, *args, **kwargs)\n"
     ]
    },
    {
     "name": "stdout",
     "output_type": "stream",
     "text": [
      "[CV 3/5; 6/108] END max_depth=None, min_samples_leaf=1, min_samples_split=5, n_estimators=200;, score=-0.465 total time=   2.5s\n",
      "[CV 2/5; 9/108] START max_depth=None, min_samples_leaf=1, min_samples_split=10, n_estimators=200\n",
      "[CV 4/5; 6/108] END max_depth=None, min_samples_leaf=1, min_samples_split=5, n_estimators=200;, score=-0.413 total time=   2.5s\n",
      "[CV 2/5; 8/108] END max_depth=None, min_samples_leaf=1, min_samples_split=10, n_estimators=100;, score=-0.460 total time=   1.0s\n",
      "[CV 3/5; 9/108] START max_depth=None, min_samples_leaf=1, min_samples_split=10, n_estimators=200\n",
      "[CV 4/5; 9/108] START max_depth=None, min_samples_leaf=1, min_samples_split=10, n_estimators=200\n",
      "[CV 5/5; 6/108] END max_depth=None, min_samples_leaf=1, min_samples_split=5, n_estimators=200;, score=-0.413 total time=   2.5s\n",
      "[CV 5/5; 9/108] START max_depth=None, min_samples_leaf=1, min_samples_split=10, n_estimators=200\n"
     ]
    },
    {
     "name": "stderr",
     "output_type": "stream",
     "text": [
      "/Users/omardukureh12/anaconda3/lib/python3.11/site-packages/sklearn/base.py:1151: DataConversionWarning: A column-vector y was passed when a 1d array was expected. Please change the shape of y to (n_samples,), for example using ravel().\n",
      "  return fit_method(estimator, *args, **kwargs)\n",
      "/Users/omardukureh12/anaconda3/lib/python3.11/site-packages/sklearn/base.py:1151: DataConversionWarning: A column-vector y was passed when a 1d array was expected. Please change the shape of y to (n_samples,), for example using ravel().\n",
      "  return fit_method(estimator, *args, **kwargs)\n",
      "/Users/omardukureh12/anaconda3/lib/python3.11/site-packages/sklearn/base.py:1151: DataConversionWarning: A column-vector y was passed when a 1d array was expected. Please change the shape of y to (n_samples,), for example using ravel().\n",
      "  return fit_method(estimator, *args, **kwargs)\n",
      "/Users/omardukureh12/anaconda3/lib/python3.11/site-packages/sklearn/base.py:1151: DataConversionWarning: A column-vector y was passed when a 1d array was expected. Please change the shape of y to (n_samples,), for example using ravel().\n",
      "  return fit_method(estimator, *args, **kwargs)\n"
     ]
    },
    {
     "name": "stdout",
     "output_type": "stream",
     "text": [
      "[CV 3/5; 8/108] END max_depth=None, min_samples_leaf=1, min_samples_split=10, n_estimators=100;, score=-0.463 total time=   1.0s\n",
      "[CV 1/5; 10/108] START max_depth=None, min_samples_leaf=2, min_samples_split=2, n_estimators=50\n",
      "[CV 4/5; 8/108] END max_depth=None, min_samples_leaf=1, min_samples_split=10, n_estimators=100;, score=-0.430 total time=   1.0s\n",
      "[CV 2/5; 10/108] START max_depth=None, min_samples_leaf=2, min_samples_split=2, n_estimators=50\n"
     ]
    },
    {
     "name": "stderr",
     "output_type": "stream",
     "text": [
      "/Users/omardukureh12/anaconda3/lib/python3.11/site-packages/sklearn/base.py:1151: DataConversionWarning: A column-vector y was passed when a 1d array was expected. Please change the shape of y to (n_samples,), for example using ravel().\n",
      "  return fit_method(estimator, *args, **kwargs)\n",
      "/Users/omardukureh12/anaconda3/lib/python3.11/site-packages/sklearn/base.py:1151: DataConversionWarning: A column-vector y was passed when a 1d array was expected. Please change the shape of y to (n_samples,), for example using ravel().\n",
      "  return fit_method(estimator, *args, **kwargs)\n"
     ]
    },
    {
     "name": "stdout",
     "output_type": "stream",
     "text": [
      "[CV 5/5; 8/108] END max_depth=None, min_samples_leaf=1, min_samples_split=10, n_estimators=100;, score=-0.413 total time=   1.0s\n",
      "[CV 3/5; 10/108] START max_depth=None, min_samples_leaf=2, min_samples_split=2, n_estimators=50\n",
      "[CV 1/5; 10/108] END max_depth=None, min_samples_leaf=2, min_samples_split=2, n_estimators=50;, score=-0.403 total time=   0.5s\n",
      "[CV 4/5; 10/108] START max_depth=None, min_samples_leaf=2, min_samples_split=2, n_estimators=50\n"
     ]
    },
    {
     "name": "stderr",
     "output_type": "stream",
     "text": [
      "/Users/omardukureh12/anaconda3/lib/python3.11/site-packages/sklearn/base.py:1151: DataConversionWarning: A column-vector y was passed when a 1d array was expected. Please change the shape of y to (n_samples,), for example using ravel().\n",
      "  return fit_method(estimator, *args, **kwargs)\n",
      "/Users/omardukureh12/anaconda3/lib/python3.11/site-packages/sklearn/base.py:1151: DataConversionWarning: A column-vector y was passed when a 1d array was expected. Please change the shape of y to (n_samples,), for example using ravel().\n",
      "  return fit_method(estimator, *args, **kwargs)\n"
     ]
    },
    {
     "name": "stdout",
     "output_type": "stream",
     "text": [
      "[CV 2/5; 10/108] END max_depth=None, min_samples_leaf=2, min_samples_split=2, n_estimators=50;, score=-0.443 total time=   0.5s\n",
      "[CV 5/5; 10/108] START max_depth=None, min_samples_leaf=2, min_samples_split=2, n_estimators=50\n"
     ]
    },
    {
     "name": "stderr",
     "output_type": "stream",
     "text": [
      "/Users/omardukureh12/anaconda3/lib/python3.11/site-packages/sklearn/base.py:1151: DataConversionWarning: A column-vector y was passed when a 1d array was expected. Please change the shape of y to (n_samples,), for example using ravel().\n",
      "  return fit_method(estimator, *args, **kwargs)\n"
     ]
    },
    {
     "name": "stdout",
     "output_type": "stream",
     "text": [
      "[CV 3/5; 10/108] END max_depth=None, min_samples_leaf=2, min_samples_split=2, n_estimators=50;, score=-0.465 total time=   0.5s\n",
      "[CV 1/5; 11/108] START max_depth=None, min_samples_leaf=2, min_samples_split=2, n_estimators=100\n"
     ]
    },
    {
     "name": "stderr",
     "output_type": "stream",
     "text": [
      "/Users/omardukureh12/anaconda3/lib/python3.11/site-packages/sklearn/base.py:1151: DataConversionWarning: A column-vector y was passed when a 1d array was expected. Please change the shape of y to (n_samples,), for example using ravel().\n",
      "  return fit_method(estimator, *args, **kwargs)\n"
     ]
    },
    {
     "name": "stdout",
     "output_type": "stream",
     "text": [
      "[CV 4/5; 10/108] END max_depth=None, min_samples_leaf=2, min_samples_split=2, n_estimators=50;, score=-0.416 total time=   0.7s\n",
      "[CV 2/5; 11/108] START max_depth=None, min_samples_leaf=2, min_samples_split=2, n_estimators=100\n"
     ]
    },
    {
     "name": "stderr",
     "output_type": "stream",
     "text": [
      "/Users/omardukureh12/anaconda3/lib/python3.11/site-packages/sklearn/base.py:1151: DataConversionWarning: A column-vector y was passed when a 1d array was expected. Please change the shape of y to (n_samples,), for example using ravel().\n",
      "  return fit_method(estimator, *args, **kwargs)\n"
     ]
    },
    {
     "name": "stdout",
     "output_type": "stream",
     "text": [
      "[CV 5/5; 10/108] END max_depth=None, min_samples_leaf=2, min_samples_split=2, n_estimators=50;, score=-0.410 total time=   0.9s\n",
      "[CV 3/5; 11/108] START max_depth=None, min_samples_leaf=2, min_samples_split=2, n_estimators=100\n"
     ]
    },
    {
     "name": "stderr",
     "output_type": "stream",
     "text": [
      "/Users/omardukureh12/anaconda3/lib/python3.11/site-packages/sklearn/base.py:1151: DataConversionWarning: A column-vector y was passed when a 1d array was expected. Please change the shape of y to (n_samples,), for example using ravel().\n",
      "  return fit_method(estimator, *args, **kwargs)\n"
     ]
    },
    {
     "name": "stdout",
     "output_type": "stream",
     "text": [
      "[CV 1/5; 9/108] END max_depth=None, min_samples_leaf=1, min_samples_split=10, n_estimators=200;, score=-0.401 total time=   2.5s\n",
      "[CV 4/5; 11/108] START max_depth=None, min_samples_leaf=2, min_samples_split=2, n_estimators=100\n",
      "[CV 2/5; 9/108] END max_depth=None, min_samples_leaf=1, min_samples_split=10, n_estimators=200;, score=-0.460 total time=   2.4s\n",
      "[CV 5/5; 11/108] START max_depth=None, min_samples_leaf=2, min_samples_split=2, n_estimators=100\n"
     ]
    },
    {
     "name": "stderr",
     "output_type": "stream",
     "text": [
      "/Users/omardukureh12/anaconda3/lib/python3.11/site-packages/sklearn/base.py:1151: DataConversionWarning: A column-vector y was passed when a 1d array was expected. Please change the shape of y to (n_samples,), for example using ravel().\n",
      "  return fit_method(estimator, *args, **kwargs)\n",
      "/Users/omardukureh12/anaconda3/lib/python3.11/site-packages/sklearn/base.py:1151: DataConversionWarning: A column-vector y was passed when a 1d array was expected. Please change the shape of y to (n_samples,), for example using ravel().\n",
      "  return fit_method(estimator, *args, **kwargs)\n"
     ]
    },
    {
     "name": "stdout",
     "output_type": "stream",
     "text": [
      "[CV 5/5; 9/108] END max_depth=None, min_samples_leaf=1, min_samples_split=10, n_estimators=200;, score=-0.410 total time=   2.4s\n",
      "[CV 4/5; 9/108] END max_depth=None, min_samples_leaf=1, min_samples_split=10, n_estimators=200;, score=-0.433 total time=   2.5s\n",
      "[CV 1/5; 12/108] START max_depth=None, min_samples_leaf=2, min_samples_split=2, n_estimators=200\n",
      "[CV 2/5; 12/108] START max_depth=None, min_samples_leaf=2, min_samples_split=2, n_estimators=200\n",
      "[CV 3/5; 9/108] END max_depth=None, min_samples_leaf=1, min_samples_split=10, n_estimators=200;, score=-0.466 total time=   2.5s\n",
      "[CV 3/5; 12/108] START max_depth=None, min_samples_leaf=2, min_samples_split=2, n_estimators=200\n"
     ]
    },
    {
     "name": "stderr",
     "output_type": "stream",
     "text": [
      "/Users/omardukureh12/anaconda3/lib/python3.11/site-packages/sklearn/base.py:1151: DataConversionWarning: A column-vector y was passed when a 1d array was expected. Please change the shape of y to (n_samples,), for example using ravel().\n",
      "  return fit_method(estimator, *args, **kwargs)\n",
      "/Users/omardukureh12/anaconda3/lib/python3.11/site-packages/sklearn/base.py:1151: DataConversionWarning: A column-vector y was passed when a 1d array was expected. Please change the shape of y to (n_samples,), for example using ravel().\n",
      "  return fit_method(estimator, *args, **kwargs)\n",
      "/Users/omardukureh12/anaconda3/lib/python3.11/site-packages/sklearn/base.py:1151: DataConversionWarning: A column-vector y was passed when a 1d array was expected. Please change the shape of y to (n_samples,), for example using ravel().\n",
      "  return fit_method(estimator, *args, **kwargs)\n"
     ]
    },
    {
     "name": "stdout",
     "output_type": "stream",
     "text": [
      "[CV 1/5; 11/108] END max_depth=None, min_samples_leaf=2, min_samples_split=2, n_estimators=100;, score=-0.402 total time=   1.6s\n",
      "[CV 4/5; 12/108] START max_depth=None, min_samples_leaf=2, min_samples_split=2, n_estimators=200\n"
     ]
    },
    {
     "name": "stderr",
     "output_type": "stream",
     "text": [
      "/Users/omardukureh12/anaconda3/lib/python3.11/site-packages/sklearn/base.py:1151: DataConversionWarning: A column-vector y was passed when a 1d array was expected. Please change the shape of y to (n_samples,), for example using ravel().\n",
      "  return fit_method(estimator, *args, **kwargs)\n"
     ]
    },
    {
     "name": "stdout",
     "output_type": "stream",
     "text": [
      "[CV 2/5; 11/108] END max_depth=None, min_samples_leaf=2, min_samples_split=2, n_estimators=100;, score=-0.449 total time=   1.6s\n",
      "[CV 5/5; 12/108] START max_depth=None, min_samples_leaf=2, min_samples_split=2, n_estimators=200\n",
      "[CV 3/5; 11/108] END max_depth=None, min_samples_leaf=2, min_samples_split=2, n_estimators=100;, score=-0.464 total time=   1.3s\n",
      "[CV 1/5; 13/108] START max_depth=None, min_samples_leaf=2, min_samples_split=5, n_estimators=50\n"
     ]
    },
    {
     "name": "stderr",
     "output_type": "stream",
     "text": [
      "/Users/omardukureh12/anaconda3/lib/python3.11/site-packages/sklearn/base.py:1151: DataConversionWarning: A column-vector y was passed when a 1d array was expected. Please change the shape of y to (n_samples,), for example using ravel().\n",
      "  return fit_method(estimator, *args, **kwargs)\n",
      "/Users/omardukureh12/anaconda3/lib/python3.11/site-packages/sklearn/base.py:1151: DataConversionWarning: A column-vector y was passed when a 1d array was expected. Please change the shape of y to (n_samples,), for example using ravel().\n",
      "  return fit_method(estimator, *args, **kwargs)\n"
     ]
    },
    {
     "name": "stdout",
     "output_type": "stream",
     "text": [
      "[CV 4/5; 11/108] END max_depth=None, min_samples_leaf=2, min_samples_split=2, n_estimators=100;, score=-0.408 total time=   1.3s\n",
      "[CV 2/5; 13/108] START max_depth=None, min_samples_leaf=2, min_samples_split=5, n_estimators=50\n",
      "[CV 5/5; 11/108] END max_depth=None, min_samples_leaf=2, min_samples_split=2, n_estimators=100;, score=-0.408 total time=   1.2s\n",
      "[CV 3/5; 13/108] START max_depth=None, min_samples_leaf=2, min_samples_split=5, n_estimators=50\n",
      "[CV 1/5; 13/108] END max_depth=None, min_samples_leaf=2, min_samples_split=5, n_estimators=50;, score=-0.404 total time=   0.6s\n",
      "[CV 4/5; 13/108] START max_depth=None, min_samples_leaf=2, min_samples_split=5, n_estimators=50\n"
     ]
    },
    {
     "name": "stderr",
     "output_type": "stream",
     "text": [
      "/Users/omardukureh12/anaconda3/lib/python3.11/site-packages/sklearn/base.py:1151: DataConversionWarning: A column-vector y was passed when a 1d array was expected. Please change the shape of y to (n_samples,), for example using ravel().\n",
      "  return fit_method(estimator, *args, **kwargs)\n",
      "/Users/omardukureh12/anaconda3/lib/python3.11/site-packages/sklearn/base.py:1151: DataConversionWarning: A column-vector y was passed when a 1d array was expected. Please change the shape of y to (n_samples,), for example using ravel().\n",
      "  return fit_method(estimator, *args, **kwargs)\n",
      "/Users/omardukureh12/anaconda3/lib/python3.11/site-packages/sklearn/base.py:1151: DataConversionWarning: A column-vector y was passed when a 1d array was expected. Please change the shape of y to (n_samples,), for example using ravel().\n",
      "  return fit_method(estimator, *args, **kwargs)\n"
     ]
    },
    {
     "name": "stdout",
     "output_type": "stream",
     "text": [
      "[CV 2/5; 13/108] END max_depth=None, min_samples_leaf=2, min_samples_split=5, n_estimators=50;, score=-0.443 total time=   0.5s\n",
      "[CV 5/5; 13/108] START max_depth=None, min_samples_leaf=2, min_samples_split=5, n_estimators=50\n",
      "[CV 3/5; 13/108] END max_depth=None, min_samples_leaf=2, min_samples_split=5, n_estimators=50;, score=-0.467 total time=   0.6s\n",
      "[CV 1/5; 14/108] START max_depth=None, min_samples_leaf=2, min_samples_split=5, n_estimators=100\n",
      "[CV 4/5; 13/108] END max_depth=None, min_samples_leaf=2, min_samples_split=5, n_estimators=50;, score=-0.414 total time=   0.6s\n"
     ]
    },
    {
     "name": "stderr",
     "output_type": "stream",
     "text": [
      "/Users/omardukureh12/anaconda3/lib/python3.11/site-packages/sklearn/base.py:1151: DataConversionWarning: A column-vector y was passed when a 1d array was expected. Please change the shape of y to (n_samples,), for example using ravel().\n",
      "  return fit_method(estimator, *args, **kwargs)\n",
      "/Users/omardukureh12/anaconda3/lib/python3.11/site-packages/sklearn/base.py:1151: DataConversionWarning: A column-vector y was passed when a 1d array was expected. Please change the shape of y to (n_samples,), for example using ravel().\n",
      "  return fit_method(estimator, *args, **kwargs)\n"
     ]
    },
    {
     "name": "stdout",
     "output_type": "stream",
     "text": [
      "[CV 2/5; 14/108] START max_depth=None, min_samples_leaf=2, min_samples_split=5, n_estimators=100\n"
     ]
    },
    {
     "name": "stderr",
     "output_type": "stream",
     "text": [
      "/Users/omardukureh12/anaconda3/lib/python3.11/site-packages/sklearn/base.py:1151: DataConversionWarning: A column-vector y was passed when a 1d array was expected. Please change the shape of y to (n_samples,), for example using ravel().\n",
      "  return fit_method(estimator, *args, **kwargs)\n"
     ]
    },
    {
     "name": "stdout",
     "output_type": "stream",
     "text": [
      "[CV 5/5; 13/108] END max_depth=None, min_samples_leaf=2, min_samples_split=5, n_estimators=50;, score=-0.415 total time=   0.6s\n",
      "[CV 3/5; 14/108] START max_depth=None, min_samples_leaf=2, min_samples_split=5, n_estimators=100\n"
     ]
    },
    {
     "name": "stderr",
     "output_type": "stream",
     "text": [
      "/Users/omardukureh12/anaconda3/lib/python3.11/site-packages/sklearn/base.py:1151: DataConversionWarning: A column-vector y was passed when a 1d array was expected. Please change the shape of y to (n_samples,), for example using ravel().\n",
      "  return fit_method(estimator, *args, **kwargs)\n"
     ]
    },
    {
     "name": "stdout",
     "output_type": "stream",
     "text": [
      "[CV 2/5; 12/108] END max_depth=None, min_samples_leaf=2, min_samples_split=2, n_estimators=200;, score=-0.449 total time=   2.4s\n",
      "[CV 4/5; 14/108] START max_depth=None, min_samples_leaf=2, min_samples_split=5, n_estimators=100\n",
      "[CV 3/5; 12/108] END max_depth=None, min_samples_leaf=2, min_samples_split=2, n_estimators=200;, score=-0.464 total time=   2.4s\n",
      "[CV 5/5; 14/108] START max_depth=None, min_samples_leaf=2, min_samples_split=5, n_estimators=100\n",
      "[CV 1/5; 12/108] END max_depth=None, min_samples_leaf=2, min_samples_split=2, n_estimators=200;, score=-0.395 total time=   2.4s\n",
      "[CV 1/5; 15/108] START max_depth=None, min_samples_leaf=2, min_samples_split=5, n_estimators=200\n",
      "[CV 4/5; 12/108] END max_depth=None, min_samples_leaf=2, min_samples_split=2, n_estimators=200;, score=-0.409 total time=   2.3s\n",
      "[CV 2/5; 15/108] START max_depth=None, min_samples_leaf=2, min_samples_split=5, n_estimators=200\n"
     ]
    },
    {
     "name": "stderr",
     "output_type": "stream",
     "text": [
      "/Users/omardukureh12/anaconda3/lib/python3.11/site-packages/sklearn/base.py:1151: DataConversionWarning: A column-vector y was passed when a 1d array was expected. Please change the shape of y to (n_samples,), for example using ravel().\n",
      "  return fit_method(estimator, *args, **kwargs)\n",
      "/Users/omardukureh12/anaconda3/lib/python3.11/site-packages/sklearn/base.py:1151: DataConversionWarning: A column-vector y was passed when a 1d array was expected. Please change the shape of y to (n_samples,), for example using ravel().\n",
      "  return fit_method(estimator, *args, **kwargs)\n",
      "/Users/omardukureh12/anaconda3/lib/python3.11/site-packages/sklearn/base.py:1151: DataConversionWarning: A column-vector y was passed when a 1d array was expected. Please change the shape of y to (n_samples,), for example using ravel().\n",
      "  return fit_method(estimator, *args, **kwargs)\n",
      "/Users/omardukureh12/anaconda3/lib/python3.11/site-packages/sklearn/base.py:1151: DataConversionWarning: A column-vector y was passed when a 1d array was expected. Please change the shape of y to (n_samples,), for example using ravel().\n",
      "  return fit_method(estimator, *args, **kwargs)\n"
     ]
    },
    {
     "name": "stdout",
     "output_type": "stream",
     "text": [
      "[CV 1/5; 14/108] END max_depth=None, min_samples_leaf=2, min_samples_split=5, n_estimators=100;, score=-0.404 total time=   1.2s\n",
      "[CV 3/5; 15/108] START max_depth=None, min_samples_leaf=2, min_samples_split=5, n_estimators=200\n",
      "[CV 5/5; 12/108] END max_depth=None, min_samples_leaf=2, min_samples_split=2, n_estimators=200;, score=-0.409 total time=   2.4s\n",
      "[CV 4/5; 15/108] START max_depth=None, min_samples_leaf=2, min_samples_split=5, n_estimators=200\n",
      "[CV 2/5; 14/108] END max_depth=None, min_samples_leaf=2, min_samples_split=5, n_estimators=100;, score=-0.449 total time=   1.2s\n",
      "[CV 5/5; 15/108] START max_depth=None, min_samples_leaf=2, min_samples_split=5, n_estimators=200\n"
     ]
    },
    {
     "name": "stderr",
     "output_type": "stream",
     "text": [
      "/Users/omardukureh12/anaconda3/lib/python3.11/site-packages/sklearn/base.py:1151: DataConversionWarning: A column-vector y was passed when a 1d array was expected. Please change the shape of y to (n_samples,), for example using ravel().\n",
      "  return fit_method(estimator, *args, **kwargs)\n",
      "/Users/omardukureh12/anaconda3/lib/python3.11/site-packages/sklearn/base.py:1151: DataConversionWarning: A column-vector y was passed when a 1d array was expected. Please change the shape of y to (n_samples,), for example using ravel().\n",
      "  return fit_method(estimator, *args, **kwargs)\n",
      "/Users/omardukureh12/anaconda3/lib/python3.11/site-packages/sklearn/base.py:1151: DataConversionWarning: A column-vector y was passed when a 1d array was expected. Please change the shape of y to (n_samples,), for example using ravel().\n",
      "  return fit_method(estimator, *args, **kwargs)\n"
     ]
    },
    {
     "name": "stdout",
     "output_type": "stream",
     "text": [
      "[CV 3/5; 14/108] END max_depth=None, min_samples_leaf=2, min_samples_split=5, n_estimators=100;, score=-0.464 total time=   1.2s\n",
      "[CV 1/5; 16/108] START max_depth=None, min_samples_leaf=2, min_samples_split=10, n_estimators=50\n",
      "[CV 4/5; 14/108] END max_depth=None, min_samples_leaf=2, min_samples_split=5, n_estimators=100;, score=-0.407 total time=   1.1s\n",
      "[CV 2/5; 16/108] START max_depth=None, min_samples_leaf=2, min_samples_split=10, n_estimators=50\n"
     ]
    },
    {
     "name": "stderr",
     "output_type": "stream",
     "text": [
      "/Users/omardukureh12/anaconda3/lib/python3.11/site-packages/sklearn/base.py:1151: DataConversionWarning: A column-vector y was passed when a 1d array was expected. Please change the shape of y to (n_samples,), for example using ravel().\n",
      "  return fit_method(estimator, *args, **kwargs)\n",
      "/Users/omardukureh12/anaconda3/lib/python3.11/site-packages/sklearn/base.py:1151: DataConversionWarning: A column-vector y was passed when a 1d array was expected. Please change the shape of y to (n_samples,), for example using ravel().\n",
      "  return fit_method(estimator, *args, **kwargs)\n"
     ]
    },
    {
     "name": "stdout",
     "output_type": "stream",
     "text": [
      "[CV 5/5; 14/108] END max_depth=None, min_samples_leaf=2, min_samples_split=5, n_estimators=100;, score=-0.410 total time=   1.5s\n",
      "[CV 3/5; 16/108] START max_depth=None, min_samples_leaf=2, min_samples_split=10, n_estimators=50\n"
     ]
    },
    {
     "name": "stderr",
     "output_type": "stream",
     "text": [
      "/Users/omardukureh12/anaconda3/lib/python3.11/site-packages/sklearn/base.py:1151: DataConversionWarning: A column-vector y was passed when a 1d array was expected. Please change the shape of y to (n_samples,), for example using ravel().\n",
      "  return fit_method(estimator, *args, **kwargs)\n"
     ]
    },
    {
     "name": "stdout",
     "output_type": "stream",
     "text": [
      "[CV 1/5; 16/108] END max_depth=None, min_samples_leaf=2, min_samples_split=10, n_estimators=50;, score=-0.404 total time=   0.9s\n",
      "[CV 4/5; 16/108] START max_depth=None, min_samples_leaf=2, min_samples_split=10, n_estimators=50\n"
     ]
    },
    {
     "name": "stderr",
     "output_type": "stream",
     "text": [
      "/Users/omardukureh12/anaconda3/lib/python3.11/site-packages/sklearn/base.py:1151: DataConversionWarning: A column-vector y was passed when a 1d array was expected. Please change the shape of y to (n_samples,), for example using ravel().\n",
      "  return fit_method(estimator, *args, **kwargs)\n"
     ]
    },
    {
     "name": "stdout",
     "output_type": "stream",
     "text": [
      "[CV 2/5; 16/108] END max_depth=None, min_samples_leaf=2, min_samples_split=10, n_estimators=50;, score=-0.461 total time=   1.2s\n",
      "[CV 5/5; 16/108] START max_depth=None, min_samples_leaf=2, min_samples_split=10, n_estimators=50\n",
      "[CV 3/5; 16/108] END max_depth=None, min_samples_leaf=2, min_samples_split=10, n_estimators=50;, score=-0.465 total time=   1.0s\n"
     ]
    },
    {
     "name": "stderr",
     "output_type": "stream",
     "text": [
      "/Users/omardukureh12/anaconda3/lib/python3.11/site-packages/sklearn/base.py:1151: DataConversionWarning: A column-vector y was passed when a 1d array was expected. Please change the shape of y to (n_samples,), for example using ravel().\n",
      "  return fit_method(estimator, *args, **kwargs)\n"
     ]
    },
    {
     "name": "stdout",
     "output_type": "stream",
     "text": [
      "[CV 1/5; 17/108] START max_depth=None, min_samples_leaf=2, min_samples_split=10, n_estimators=100\n"
     ]
    },
    {
     "name": "stderr",
     "output_type": "stream",
     "text": [
      "/Users/omardukureh12/anaconda3/lib/python3.11/site-packages/sklearn/base.py:1151: DataConversionWarning: A column-vector y was passed when a 1d array was expected. Please change the shape of y to (n_samples,), for example using ravel().\n",
      "  return fit_method(estimator, *args, **kwargs)\n"
     ]
    },
    {
     "name": "stdout",
     "output_type": "stream",
     "text": [
      "[CV 4/5; 16/108] END max_depth=None, min_samples_leaf=2, min_samples_split=10, n_estimators=50;, score=-0.433 total time=   1.0s\n",
      "[CV 2/5; 17/108] START max_depth=None, min_samples_leaf=2, min_samples_split=10, n_estimators=100\n",
      "[CV 5/5; 16/108] END max_depth=None, min_samples_leaf=2, min_samples_split=10, n_estimators=50;, score=-0.413 total time=   0.7s\n",
      "[CV 3/5; 17/108] START max_depth=None, min_samples_leaf=2, min_samples_split=10, n_estimators=100\n"
     ]
    },
    {
     "name": "stderr",
     "output_type": "stream",
     "text": [
      "/Users/omardukureh12/anaconda3/lib/python3.11/site-packages/sklearn/base.py:1151: DataConversionWarning: A column-vector y was passed when a 1d array was expected. Please change the shape of y to (n_samples,), for example using ravel().\n",
      "  return fit_method(estimator, *args, **kwargs)\n",
      "/Users/omardukureh12/anaconda3/lib/python3.11/site-packages/sklearn/base.py:1151: DataConversionWarning: A column-vector y was passed when a 1d array was expected. Please change the shape of y to (n_samples,), for example using ravel().\n",
      "  return fit_method(estimator, *args, **kwargs)\n"
     ]
    },
    {
     "name": "stdout",
     "output_type": "stream",
     "text": [
      "[CV 1/5; 15/108] END max_depth=None, min_samples_leaf=2, min_samples_split=5, n_estimators=200;, score=-0.396 total time=   3.2s\n",
      "[CV 4/5; 17/108] START max_depth=None, min_samples_leaf=2, min_samples_split=10, n_estimators=100\n"
     ]
    },
    {
     "name": "stderr",
     "output_type": "stream",
     "text": [
      "/Users/omardukureh12/anaconda3/lib/python3.11/site-packages/sklearn/base.py:1151: DataConversionWarning: A column-vector y was passed when a 1d array was expected. Please change the shape of y to (n_samples,), for example using ravel().\n",
      "  return fit_method(estimator, *args, **kwargs)\n"
     ]
    },
    {
     "name": "stdout",
     "output_type": "stream",
     "text": [
      "[CV 2/5; 15/108] END max_depth=None, min_samples_leaf=2, min_samples_split=5, n_estimators=200;, score=-0.450 total time=   3.3s\n",
      "[CV 5/5; 17/108] START max_depth=None, min_samples_leaf=2, min_samples_split=10, n_estimators=100\n"
     ]
    },
    {
     "name": "stderr",
     "output_type": "stream",
     "text": [
      "/Users/omardukureh12/anaconda3/lib/python3.11/site-packages/sklearn/base.py:1151: DataConversionWarning: A column-vector y was passed when a 1d array was expected. Please change the shape of y to (n_samples,), for example using ravel().\n",
      "  return fit_method(estimator, *args, **kwargs)\n"
     ]
    },
    {
     "name": "stdout",
     "output_type": "stream",
     "text": [
      "[CV 4/5; 15/108] END max_depth=None, min_samples_leaf=2, min_samples_split=5, n_estimators=200;, score=-0.411 total time=   3.1s\n",
      "[CV 3/5; 15/108] END max_depth=None, min_samples_leaf=2, min_samples_split=5, n_estimators=200;, score=-0.464 total time=   3.2s\n",
      "[CV 1/5; 18/108] START max_depth=None, min_samples_leaf=2, min_samples_split=10, n_estimators=200\n",
      "[CV 1/5; 17/108] END max_depth=None, min_samples_leaf=2, min_samples_split=10, n_estimators=100;, score=-0.402 total time=   1.1s\n",
      "[CV 2/5; 18/108] START max_depth=None, min_samples_leaf=2, min_samples_split=10, n_estimators=200\n",
      "[CV 3/5; 18/108] START max_depth=None, min_samples_leaf=2, min_samples_split=10, n_estimators=200\n",
      "[CV 5/5; 15/108] END max_depth=None, min_samples_leaf=2, min_samples_split=5, n_estimators=200;, score=-0.409 total time=   3.2s\n",
      "[CV 4/5; 18/108] START max_depth=None, min_samples_leaf=2, min_samples_split=10, n_estimators=200\n"
     ]
    },
    {
     "name": "stderr",
     "output_type": "stream",
     "text": [
      "/Users/omardukureh12/anaconda3/lib/python3.11/site-packages/sklearn/base.py:1151: DataConversionWarning: A column-vector y was passed when a 1d array was expected. Please change the shape of y to (n_samples,), for example using ravel().\n",
      "  return fit_method(estimator, *args, **kwargs)\n",
      "/Users/omardukureh12/anaconda3/lib/python3.11/site-packages/sklearn/base.py:1151: DataConversionWarning: A column-vector y was passed when a 1d array was expected. Please change the shape of y to (n_samples,), for example using ravel().\n",
      "  return fit_method(estimator, *args, **kwargs)\n",
      "/Users/omardukureh12/anaconda3/lib/python3.11/site-packages/sklearn/base.py:1151: DataConversionWarning: A column-vector y was passed when a 1d array was expected. Please change the shape of y to (n_samples,), for example using ravel().\n",
      "  return fit_method(estimator, *args, **kwargs)\n",
      "/Users/omardukureh12/anaconda3/lib/python3.11/site-packages/sklearn/base.py:1151: DataConversionWarning: A column-vector y was passed when a 1d array was expected. Please change the shape of y to (n_samples,), for example using ravel().\n",
      "  return fit_method(estimator, *args, **kwargs)\n"
     ]
    },
    {
     "name": "stdout",
     "output_type": "stream",
     "text": [
      "[CV 2/5; 17/108] END max_depth=None, min_samples_leaf=2, min_samples_split=10, n_estimators=100;, score=-0.462 total time=   1.0s\n",
      "[CV 5/5; 18/108] START max_depth=None, min_samples_leaf=2, min_samples_split=10, n_estimators=200\n",
      "[CV 3/5; 17/108] END max_depth=None, min_samples_leaf=2, min_samples_split=10, n_estimators=100;, score=-0.464 total time=   1.1s\n"
     ]
    },
    {
     "name": "stderr",
     "output_type": "stream",
     "text": [
      "/Users/omardukureh12/anaconda3/lib/python3.11/site-packages/sklearn/base.py:1151: DataConversionWarning: A column-vector y was passed when a 1d array was expected. Please change the shape of y to (n_samples,), for example using ravel().\n",
      "  return fit_method(estimator, *args, **kwargs)\n",
      "/Users/omardukureh12/anaconda3/lib/python3.11/site-packages/sklearn/base.py:1151: DataConversionWarning: A column-vector y was passed when a 1d array was expected. Please change the shape of y to (n_samples,), for example using ravel().\n",
      "  return fit_method(estimator, *args, **kwargs)\n"
     ]
    },
    {
     "name": "stdout",
     "output_type": "stream",
     "text": [
      "[CV 1/5; 19/108] START max_depth=None, min_samples_leaf=4, min_samples_split=2, n_estimators=50\n",
      "[CV 4/5; 17/108] END max_depth=None, min_samples_leaf=2, min_samples_split=10, n_estimators=100;, score=-0.428 total time=   1.1s\n",
      "[CV 2/5; 19/108] START max_depth=None, min_samples_leaf=4, min_samples_split=2, n_estimators=50\n",
      "[CV 5/5; 17/108] END max_depth=None, min_samples_leaf=2, min_samples_split=10, n_estimators=100;, score=-0.411 total time=   1.1s\n",
      "[CV 3/5; 19/108] START max_depth=None, min_samples_leaf=4, min_samples_split=2, n_estimators=50\n"
     ]
    },
    {
     "name": "stderr",
     "output_type": "stream",
     "text": [
      "/Users/omardukureh12/anaconda3/lib/python3.11/site-packages/sklearn/base.py:1151: DataConversionWarning: A column-vector y was passed when a 1d array was expected. Please change the shape of y to (n_samples,), for example using ravel().\n",
      "  return fit_method(estimator, *args, **kwargs)\n",
      "/Users/omardukureh12/anaconda3/lib/python3.11/site-packages/sklearn/base.py:1151: DataConversionWarning: A column-vector y was passed when a 1d array was expected. Please change the shape of y to (n_samples,), for example using ravel().\n",
      "  return fit_method(estimator, *args, **kwargs)\n"
     ]
    },
    {
     "name": "stdout",
     "output_type": "stream",
     "text": [
      "[CV 1/5; 19/108] END max_depth=None, min_samples_leaf=4, min_samples_split=2, n_estimators=50;, score=-0.396 total time=   0.6s\n",
      "[CV 4/5; 19/108] START max_depth=None, min_samples_leaf=4, min_samples_split=2, n_estimators=50\n"
     ]
    },
    {
     "name": "stderr",
     "output_type": "stream",
     "text": [
      "/Users/omardukureh12/anaconda3/lib/python3.11/site-packages/sklearn/base.py:1151: DataConversionWarning: A column-vector y was passed when a 1d array was expected. Please change the shape of y to (n_samples,), for example using ravel().\n",
      "  return fit_method(estimator, *args, **kwargs)\n"
     ]
    },
    {
     "name": "stdout",
     "output_type": "stream",
     "text": [
      "[CV 2/5; 19/108] END max_depth=None, min_samples_leaf=4, min_samples_split=2, n_estimators=50;, score=-0.461 total time=   0.5s\n",
      "[CV 5/5; 19/108] START max_depth=None, min_samples_leaf=4, min_samples_split=2, n_estimators=50\n"
     ]
    },
    {
     "name": "stderr",
     "output_type": "stream",
     "text": [
      "/Users/omardukureh12/anaconda3/lib/python3.11/site-packages/sklearn/base.py:1151: DataConversionWarning: A column-vector y was passed when a 1d array was expected. Please change the shape of y to (n_samples,), for example using ravel().\n",
      "  return fit_method(estimator, *args, **kwargs)\n"
     ]
    },
    {
     "name": "stdout",
     "output_type": "stream",
     "text": [
      "[CV 3/5; 19/108] END max_depth=None, min_samples_leaf=4, min_samples_split=2, n_estimators=50;, score=-0.475 total time=   0.5s\n",
      "[CV 1/5; 20/108] START max_depth=None, min_samples_leaf=4, min_samples_split=2, n_estimators=100\n",
      "[CV 4/5; 19/108] END max_depth=None, min_samples_leaf=4, min_samples_split=2, n_estimators=50;, score=-0.428 total time=   0.6s\n",
      "[CV 2/5; 20/108] START max_depth=None, min_samples_leaf=4, min_samples_split=2, n_estimators=100\n"
     ]
    },
    {
     "name": "stderr",
     "output_type": "stream",
     "text": [
      "/Users/omardukureh12/anaconda3/lib/python3.11/site-packages/sklearn/base.py:1151: DataConversionWarning: A column-vector y was passed when a 1d array was expected. Please change the shape of y to (n_samples,), for example using ravel().\n",
      "  return fit_method(estimator, *args, **kwargs)\n",
      "/Users/omardukureh12/anaconda3/lib/python3.11/site-packages/sklearn/base.py:1151: DataConversionWarning: A column-vector y was passed when a 1d array was expected. Please change the shape of y to (n_samples,), for example using ravel().\n",
      "  return fit_method(estimator, *args, **kwargs)\n"
     ]
    },
    {
     "name": "stdout",
     "output_type": "stream",
     "text": [
      "[CV 5/5; 19/108] END max_depth=None, min_samples_leaf=4, min_samples_split=2, n_estimators=50;, score=-0.408 total time=   0.7s\n",
      "[CV 3/5; 20/108] START max_depth=None, min_samples_leaf=4, min_samples_split=2, n_estimators=100\n"
     ]
    },
    {
     "name": "stderr",
     "output_type": "stream",
     "text": [
      "/Users/omardukureh12/anaconda3/lib/python3.11/site-packages/sklearn/base.py:1151: DataConversionWarning: A column-vector y was passed when a 1d array was expected. Please change the shape of y to (n_samples,), for example using ravel().\n",
      "  return fit_method(estimator, *args, **kwargs)\n"
     ]
    },
    {
     "name": "stdout",
     "output_type": "stream",
     "text": [
      "[CV 3/5; 18/108] END max_depth=None, min_samples_leaf=2, min_samples_split=10, n_estimators=200;, score=-0.466 total time=   2.4s\n",
      "[CV 4/5; 20/108] START max_depth=None, min_samples_leaf=4, min_samples_split=2, n_estimators=100\n",
      "[CV 1/5; 18/108] END max_depth=None, min_samples_leaf=2, min_samples_split=10, n_estimators=200;, score=-0.398 total time=   2.5s\n",
      "[CV 5/5; 20/108] START max_depth=None, min_samples_leaf=4, min_samples_split=2, n_estimators=100\n"
     ]
    },
    {
     "name": "stderr",
     "output_type": "stream",
     "text": [
      "/Users/omardukureh12/anaconda3/lib/python3.11/site-packages/sklearn/base.py:1151: DataConversionWarning: A column-vector y was passed when a 1d array was expected. Please change the shape of y to (n_samples,), for example using ravel().\n",
      "  return fit_method(estimator, *args, **kwargs)\n",
      "/Users/omardukureh12/anaconda3/lib/python3.11/site-packages/sklearn/base.py:1151: DataConversionWarning: A column-vector y was passed when a 1d array was expected. Please change the shape of y to (n_samples,), for example using ravel().\n",
      "  return fit_method(estimator, *args, **kwargs)\n"
     ]
    },
    {
     "name": "stdout",
     "output_type": "stream",
     "text": [
      "[CV 2/5; 18/108] END max_depth=None, min_samples_leaf=2, min_samples_split=10, n_estimators=200;, score=-0.461 total time=   2.6s\n",
      "[CV 1/5; 21/108] START max_depth=None, min_samples_leaf=4, min_samples_split=2, n_estimators=200\n",
      "[CV 4/5; 18/108] END max_depth=None, min_samples_leaf=2, min_samples_split=10, n_estimators=200;, score=-0.432 total time=   2.6s\n",
      "[CV 5/5; 18/108] END max_depth=None, min_samples_leaf=2, min_samples_split=10, n_estimators=200;, score=-0.409 total time=   2.4s\n",
      "[CV 3/5; 21/108] START max_depth=None, min_samples_leaf=4, min_samples_split=2, n_estimators=200\n",
      "[CV 2/5; 21/108] START max_depth=None, min_samples_leaf=4, min_samples_split=2, n_estimators=200\n"
     ]
    },
    {
     "name": "stderr",
     "output_type": "stream",
     "text": [
      "/Users/omardukureh12/anaconda3/lib/python3.11/site-packages/sklearn/base.py:1151: DataConversionWarning: A column-vector y was passed when a 1d array was expected. Please change the shape of y to (n_samples,), for example using ravel().\n",
      "  return fit_method(estimator, *args, **kwargs)\n",
      "/Users/omardukureh12/anaconda3/lib/python3.11/site-packages/sklearn/base.py:1151: DataConversionWarning: A column-vector y was passed when a 1d array was expected. Please change the shape of y to (n_samples,), for example using ravel().\n",
      "  return fit_method(estimator, *args, **kwargs)\n",
      "/Users/omardukureh12/anaconda3/lib/python3.11/site-packages/sklearn/base.py:1151: DataConversionWarning: A column-vector y was passed when a 1d array was expected. Please change the shape of y to (n_samples,), for example using ravel().\n",
      "  return fit_method(estimator, *args, **kwargs)\n"
     ]
    },
    {
     "name": "stdout",
     "output_type": "stream",
     "text": [
      "[CV 1/5; 20/108] END max_depth=None, min_samples_leaf=4, min_samples_split=2, n_estimators=100;, score=-0.395 total time=   1.4s\n",
      "[CV 4/5; 21/108] START max_depth=None, min_samples_leaf=4, min_samples_split=2, n_estimators=200\n",
      "[CV 2/5; 20/108] END max_depth=None, min_samples_leaf=4, min_samples_split=2, n_estimators=100;, score=-0.464 total time=   1.2s\n",
      "[CV 5/5; 21/108] START max_depth=None, min_samples_leaf=4, min_samples_split=2, n_estimators=200\n"
     ]
    },
    {
     "name": "stderr",
     "output_type": "stream",
     "text": [
      "/Users/omardukureh12/anaconda3/lib/python3.11/site-packages/sklearn/base.py:1151: DataConversionWarning: A column-vector y was passed when a 1d array was expected. Please change the shape of y to (n_samples,), for example using ravel().\n",
      "  return fit_method(estimator, *args, **kwargs)\n",
      "/Users/omardukureh12/anaconda3/lib/python3.11/site-packages/sklearn/base.py:1151: DataConversionWarning: A column-vector y was passed when a 1d array was expected. Please change the shape of y to (n_samples,), for example using ravel().\n",
      "  return fit_method(estimator, *args, **kwargs)\n"
     ]
    },
    {
     "name": "stdout",
     "output_type": "stream",
     "text": [
      "[CV 3/5; 20/108] END max_depth=None, min_samples_leaf=4, min_samples_split=2, n_estimators=100;, score=-0.468 total time=   1.5s\n",
      "[CV 1/5; 22/108] START max_depth=None, min_samples_leaf=4, min_samples_split=5, n_estimators=50\n",
      "[CV 4/5; 20/108] END max_depth=None, min_samples_leaf=4, min_samples_split=2, n_estimators=100;, score=-0.434 total time=   1.1s\n",
      "[CV 2/5; 22/108] START max_depth=None, min_samples_leaf=4, min_samples_split=5, n_estimators=50\n"
     ]
    },
    {
     "name": "stderr",
     "output_type": "stream",
     "text": [
      "/Users/omardukureh12/anaconda3/lib/python3.11/site-packages/sklearn/base.py:1151: DataConversionWarning: A column-vector y was passed when a 1d array was expected. Please change the shape of y to (n_samples,), for example using ravel().\n",
      "  return fit_method(estimator, *args, **kwargs)\n",
      "/Users/omardukureh12/anaconda3/lib/python3.11/site-packages/sklearn/base.py:1151: DataConversionWarning: A column-vector y was passed when a 1d array was expected. Please change the shape of y to (n_samples,), for example using ravel().\n",
      "  return fit_method(estimator, *args, **kwargs)\n"
     ]
    },
    {
     "name": "stdout",
     "output_type": "stream",
     "text": [
      "[CV 5/5; 20/108] END max_depth=None, min_samples_leaf=4, min_samples_split=2, n_estimators=100;, score=-0.410 total time=   1.4s\n",
      "[CV 3/5; 22/108] START max_depth=None, min_samples_leaf=4, min_samples_split=5, n_estimators=50\n",
      "[CV 2/5; 22/108] END max_depth=None, min_samples_leaf=4, min_samples_split=5, n_estimators=50;, score=-0.461 total time=   0.5s\n",
      "[CV 4/5; 22/108] START max_depth=None, min_samples_leaf=4, min_samples_split=5, n_estimators=50\n",
      "[CV 1/5; 22/108] END max_depth=None, min_samples_leaf=4, min_samples_split=5, n_estimators=50;, score=-0.396 total time=   0.6s\n",
      "[CV 5/5; 22/108] START max_depth=None, min_samples_leaf=4, min_samples_split=5, n_estimators=50\n"
     ]
    },
    {
     "name": "stderr",
     "output_type": "stream",
     "text": [
      "/Users/omardukureh12/anaconda3/lib/python3.11/site-packages/sklearn/base.py:1151: DataConversionWarning: A column-vector y was passed when a 1d array was expected. Please change the shape of y to (n_samples,), for example using ravel().\n",
      "  return fit_method(estimator, *args, **kwargs)\n",
      "/Users/omardukureh12/anaconda3/lib/python3.11/site-packages/sklearn/base.py:1151: DataConversionWarning: A column-vector y was passed when a 1d array was expected. Please change the shape of y to (n_samples,), for example using ravel().\n",
      "  return fit_method(estimator, *args, **kwargs)\n",
      "/Users/omardukureh12/anaconda3/lib/python3.11/site-packages/sklearn/base.py:1151: DataConversionWarning: A column-vector y was passed when a 1d array was expected. Please change the shape of y to (n_samples,), for example using ravel().\n",
      "  return fit_method(estimator, *args, **kwargs)\n"
     ]
    },
    {
     "name": "stdout",
     "output_type": "stream",
     "text": [
      "[CV 3/5; 22/108] END max_depth=None, min_samples_leaf=4, min_samples_split=5, n_estimators=50;, score=-0.475 total time=   0.5s\n",
      "[CV 1/5; 23/108] START max_depth=None, min_samples_leaf=4, min_samples_split=5, n_estimators=100\n",
      "[CV 4/5; 22/108] END max_depth=None, min_samples_leaf=4, min_samples_split=5, n_estimators=50;, score=-0.428 total time=   0.5s\n",
      "[CV 2/5; 23/108] START max_depth=None, min_samples_leaf=4, min_samples_split=5, n_estimators=100\n",
      "[CV 5/5; 22/108] END max_depth=None, min_samples_leaf=4, min_samples_split=5, n_estimators=50;, score=-0.408 total time=   0.5s\n",
      "[CV 3/5; 23/108] START max_depth=None, min_samples_leaf=4, min_samples_split=5, n_estimators=100\n"
     ]
    },
    {
     "name": "stderr",
     "output_type": "stream",
     "text": [
      "/Users/omardukureh12/anaconda3/lib/python3.11/site-packages/sklearn/base.py:1151: DataConversionWarning: A column-vector y was passed when a 1d array was expected. Please change the shape of y to (n_samples,), for example using ravel().\n",
      "  return fit_method(estimator, *args, **kwargs)\n",
      "/Users/omardukureh12/anaconda3/lib/python3.11/site-packages/sklearn/base.py:1151: DataConversionWarning: A column-vector y was passed when a 1d array was expected. Please change the shape of y to (n_samples,), for example using ravel().\n",
      "  return fit_method(estimator, *args, **kwargs)\n",
      "/Users/omardukureh12/anaconda3/lib/python3.11/site-packages/sklearn/base.py:1151: DataConversionWarning: A column-vector y was passed when a 1d array was expected. Please change the shape of y to (n_samples,), for example using ravel().\n",
      "  return fit_method(estimator, *args, **kwargs)\n"
     ]
    },
    {
     "name": "stdout",
     "output_type": "stream",
     "text": [
      "[CV 1/5; 21/108] END max_depth=None, min_samples_leaf=4, min_samples_split=2, n_estimators=200;, score=-0.394 total time=   2.0s\n",
      "[CV 4/5; 23/108] START max_depth=None, min_samples_leaf=4, min_samples_split=5, n_estimators=100\n",
      "[CV 3/5; 21/108] END max_depth=None, min_samples_leaf=4, min_samples_split=2, n_estimators=200;, score=-0.468 total time=   2.1s\n",
      "[CV 5/5; 23/108] START max_depth=None, min_samples_leaf=4, min_samples_split=5, n_estimators=100\n",
      "[CV 2/5; 21/108] END max_depth=None, min_samples_leaf=4, min_samples_split=2, n_estimators=200;, score=-0.466 total time=   2.2s\n",
      "[CV 1/5; 24/108] START max_depth=None, min_samples_leaf=4, min_samples_split=5, n_estimators=200\n"
     ]
    },
    {
     "name": "stderr",
     "output_type": "stream",
     "text": [
      "/Users/omardukureh12/anaconda3/lib/python3.11/site-packages/sklearn/base.py:1151: DataConversionWarning: A column-vector y was passed when a 1d array was expected. Please change the shape of y to (n_samples,), for example using ravel().\n",
      "  return fit_method(estimator, *args, **kwargs)\n",
      "/Users/omardukureh12/anaconda3/lib/python3.11/site-packages/sklearn/base.py:1151: DataConversionWarning: A column-vector y was passed when a 1d array was expected. Please change the shape of y to (n_samples,), for example using ravel().\n",
      "  return fit_method(estimator, *args, **kwargs)\n",
      "/Users/omardukureh12/anaconda3/lib/python3.11/site-packages/sklearn/base.py:1151: DataConversionWarning: A column-vector y was passed when a 1d array was expected. Please change the shape of y to (n_samples,), for example using ravel().\n",
      "  return fit_method(estimator, *args, **kwargs)\n"
     ]
    },
    {
     "name": "stdout",
     "output_type": "stream",
     "text": [
      "[CV 5/5; 21/108] END max_depth=None, min_samples_leaf=4, min_samples_split=2, n_estimators=200;, score=-0.410 total time=   2.0s\n",
      "[CV 2/5; 24/108] START max_depth=None, min_samples_leaf=4, min_samples_split=5, n_estimators=200\n",
      "[CV 4/5; 21/108] END max_depth=None, min_samples_leaf=4, min_samples_split=2, n_estimators=200;, score=-0.438 total time=   2.1s\n",
      "[CV 3/5; 24/108] START max_depth=None, min_samples_leaf=4, min_samples_split=5, n_estimators=200\n"
     ]
    },
    {
     "name": "stderr",
     "output_type": "stream",
     "text": [
      "/Users/omardukureh12/anaconda3/lib/python3.11/site-packages/sklearn/base.py:1151: DataConversionWarning: A column-vector y was passed when a 1d array was expected. Please change the shape of y to (n_samples,), for example using ravel().\n",
      "  return fit_method(estimator, *args, **kwargs)\n",
      "/Users/omardukureh12/anaconda3/lib/python3.11/site-packages/sklearn/base.py:1151: DataConversionWarning: A column-vector y was passed when a 1d array was expected. Please change the shape of y to (n_samples,), for example using ravel().\n",
      "  return fit_method(estimator, *args, **kwargs)\n"
     ]
    },
    {
     "name": "stdout",
     "output_type": "stream",
     "text": [
      "[CV 1/5; 23/108] END max_depth=None, min_samples_leaf=4, min_samples_split=5, n_estimators=100;, score=-0.395 total time=   1.0s\n",
      "[CV 4/5; 24/108] START max_depth=None, min_samples_leaf=4, min_samples_split=5, n_estimators=200\n",
      "[CV 2/5; 23/108] END max_depth=None, min_samples_leaf=4, min_samples_split=5, n_estimators=100;, score=-0.464 total time=   1.1s\n",
      "[CV 5/5; 24/108] START max_depth=None, min_samples_leaf=4, min_samples_split=5, n_estimators=200\n"
     ]
    },
    {
     "name": "stderr",
     "output_type": "stream",
     "text": [
      "/Users/omardukureh12/anaconda3/lib/python3.11/site-packages/sklearn/base.py:1151: DataConversionWarning: A column-vector y was passed when a 1d array was expected. Please change the shape of y to (n_samples,), for example using ravel().\n",
      "  return fit_method(estimator, *args, **kwargs)\n",
      "/Users/omardukureh12/anaconda3/lib/python3.11/site-packages/sklearn/base.py:1151: DataConversionWarning: A column-vector y was passed when a 1d array was expected. Please change the shape of y to (n_samples,), for example using ravel().\n",
      "  return fit_method(estimator, *args, **kwargs)\n",
      "/Users/omardukureh12/anaconda3/lib/python3.11/site-packages/sklearn/base.py:1151: DataConversionWarning: A column-vector y was passed when a 1d array was expected. Please change the shape of y to (n_samples,), for example using ravel().\n",
      "  return fit_method(estimator, *args, **kwargs)\n"
     ]
    },
    {
     "name": "stdout",
     "output_type": "stream",
     "text": [
      "[CV 3/5; 23/108] END max_depth=None, min_samples_leaf=4, min_samples_split=5, n_estimators=100;, score=-0.468 total time=   1.1s\n",
      "[CV 1/5; 25/108] START max_depth=None, min_samples_leaf=4, min_samples_split=10, n_estimators=50\n",
      "[CV 4/5; 23/108] END max_depth=None, min_samples_leaf=4, min_samples_split=5, n_estimators=100;, score=-0.434 total time=   1.1s\n",
      "[CV 2/5; 25/108] START max_depth=None, min_samples_leaf=4, min_samples_split=10, n_estimators=50\n"
     ]
    },
    {
     "name": "stderr",
     "output_type": "stream",
     "text": [
      "/Users/omardukureh12/anaconda3/lib/python3.11/site-packages/sklearn/base.py:1151: DataConversionWarning: A column-vector y was passed when a 1d array was expected. Please change the shape of y to (n_samples,), for example using ravel().\n",
      "  return fit_method(estimator, *args, **kwargs)\n",
      "/Users/omardukureh12/anaconda3/lib/python3.11/site-packages/sklearn/base.py:1151: DataConversionWarning: A column-vector y was passed when a 1d array was expected. Please change the shape of y to (n_samples,), for example using ravel().\n",
      "  return fit_method(estimator, *args, **kwargs)\n"
     ]
    },
    {
     "name": "stdout",
     "output_type": "stream",
     "text": [
      "[CV 5/5; 23/108] END max_depth=None, min_samples_leaf=4, min_samples_split=5, n_estimators=100;, score=-0.410 total time=   1.1s\n",
      "[CV 3/5; 25/108] START max_depth=None, min_samples_leaf=4, min_samples_split=10, n_estimators=50\n",
      "[CV 1/5; 25/108] END max_depth=None, min_samples_leaf=4, min_samples_split=10, n_estimators=50;, score=-0.400 total time=   0.5s\n",
      "[CV 4/5; 25/108] START max_depth=None, min_samples_leaf=4, min_samples_split=10, n_estimators=50\n",
      "[CV 2/5; 25/108] END max_depth=None, min_samples_leaf=4, min_samples_split=10, n_estimators=50;, score=-0.468 total time=   0.5s\n",
      "[CV 5/5; 25/108] START max_depth=None, min_samples_leaf=4, min_samples_split=10, n_estimators=50\n",
      "[CV 3/5; 25/108] END max_depth=None, min_samples_leaf=4, min_samples_split=10, n_estimators=50;, score=-0.477 total time=   0.4s\n",
      "[CV 1/5; 26/108] START max_depth=None, min_samples_leaf=4, min_samples_split=10, n_estimators=100\n"
     ]
    },
    {
     "name": "stderr",
     "output_type": "stream",
     "text": [
      "/Users/omardukureh12/anaconda3/lib/python3.11/site-packages/sklearn/base.py:1151: DataConversionWarning: A column-vector y was passed when a 1d array was expected. Please change the shape of y to (n_samples,), for example using ravel().\n",
      "  return fit_method(estimator, *args, **kwargs)\n",
      "/Users/omardukureh12/anaconda3/lib/python3.11/site-packages/sklearn/base.py:1151: DataConversionWarning: A column-vector y was passed when a 1d array was expected. Please change the shape of y to (n_samples,), for example using ravel().\n",
      "  return fit_method(estimator, *args, **kwargs)\n",
      "/Users/omardukureh12/anaconda3/lib/python3.11/site-packages/sklearn/base.py:1151: DataConversionWarning: A column-vector y was passed when a 1d array was expected. Please change the shape of y to (n_samples,), for example using ravel().\n",
      "  return fit_method(estimator, *args, **kwargs)\n"
     ]
    },
    {
     "name": "stdout",
     "output_type": "stream",
     "text": [
      "[CV 4/5; 25/108] END max_depth=None, min_samples_leaf=4, min_samples_split=10, n_estimators=50;, score=-0.433 total time=   0.5s\n",
      "[CV 2/5; 26/108] START max_depth=None, min_samples_leaf=4, min_samples_split=10, n_estimators=100\n",
      "[CV 5/5; 25/108] END max_depth=None, min_samples_leaf=4, min_samples_split=10, n_estimators=50;, score=-0.411 total time=   0.4s\n",
      "[CV 3/5; 26/108] START max_depth=None, min_samples_leaf=4, min_samples_split=10, n_estimators=100\n"
     ]
    },
    {
     "name": "stderr",
     "output_type": "stream",
     "text": [
      "/Users/omardukureh12/anaconda3/lib/python3.11/site-packages/sklearn/base.py:1151: DataConversionWarning: A column-vector y was passed when a 1d array was expected. Please change the shape of y to (n_samples,), for example using ravel().\n",
      "  return fit_method(estimator, *args, **kwargs)\n",
      "/Users/omardukureh12/anaconda3/lib/python3.11/site-packages/sklearn/base.py:1151: DataConversionWarning: A column-vector y was passed when a 1d array was expected. Please change the shape of y to (n_samples,), for example using ravel().\n",
      "  return fit_method(estimator, *args, **kwargs)\n"
     ]
    },
    {
     "name": "stdout",
     "output_type": "stream",
     "text": [
      "[CV 1/5; 24/108] END max_depth=None, min_samples_leaf=4, min_samples_split=5, n_estimators=200;, score=-0.394 total time=   2.0s\n",
      "[CV 4/5; 26/108] START max_depth=None, min_samples_leaf=4, min_samples_split=10, n_estimators=100\n",
      "[CV 3/5; 24/108] END max_depth=None, min_samples_leaf=4, min_samples_split=5, n_estimators=200;, score=-0.468 total time=   2.0s\n",
      "[CV 5/5; 26/108] START max_depth=None, min_samples_leaf=4, min_samples_split=10, n_estimators=100\n",
      "[CV 2/5; 24/108] END max_depth=None, min_samples_leaf=4, min_samples_split=5, n_estimators=200;, score=-0.466 total time=   2.1s\n",
      "[CV 1/5; 27/108] START max_depth=None, min_samples_leaf=4, min_samples_split=10, n_estimators=200\n"
     ]
    },
    {
     "name": "stderr",
     "output_type": "stream",
     "text": [
      "/Users/omardukureh12/anaconda3/lib/python3.11/site-packages/sklearn/base.py:1151: DataConversionWarning: A column-vector y was passed when a 1d array was expected. Please change the shape of y to (n_samples,), for example using ravel().\n",
      "  return fit_method(estimator, *args, **kwargs)\n",
      "/Users/omardukureh12/anaconda3/lib/python3.11/site-packages/sklearn/base.py:1151: DataConversionWarning: A column-vector y was passed when a 1d array was expected. Please change the shape of y to (n_samples,), for example using ravel().\n",
      "  return fit_method(estimator, *args, **kwargs)\n",
      "/Users/omardukureh12/anaconda3/lib/python3.11/site-packages/sklearn/base.py:1151: DataConversionWarning: A column-vector y was passed when a 1d array was expected. Please change the shape of y to (n_samples,), for example using ravel().\n",
      "  return fit_method(estimator, *args, **kwargs)\n"
     ]
    },
    {
     "name": "stdout",
     "output_type": "stream",
     "text": [
      "[CV 1/5; 26/108] END max_depth=None, min_samples_leaf=4, min_samples_split=10, n_estimators=100;, score=-0.398 total time=   0.9s\n",
      "[CV 2/5; 27/108] START max_depth=None, min_samples_leaf=4, min_samples_split=10, n_estimators=200\n"
     ]
    },
    {
     "name": "stderr",
     "output_type": "stream",
     "text": [
      "/Users/omardukureh12/anaconda3/lib/python3.11/site-packages/sklearn/base.py:1151: DataConversionWarning: A column-vector y was passed when a 1d array was expected. Please change the shape of y to (n_samples,), for example using ravel().\n",
      "  return fit_method(estimator, *args, **kwargs)\n"
     ]
    },
    {
     "name": "stdout",
     "output_type": "stream",
     "text": [
      "[CV 4/5; 24/108] END max_depth=None, min_samples_leaf=4, min_samples_split=5, n_estimators=200;, score=-0.438 total time=   2.0s\n",
      "[CV 3/5; 27/108] START max_depth=None, min_samples_leaf=4, min_samples_split=10, n_estimators=200\n",
      "[CV 5/5; 24/108] END max_depth=None, min_samples_leaf=4, min_samples_split=5, n_estimators=200;, score=-0.410 total time=   1.9s\n",
      "[CV 4/5; 27/108] START max_depth=None, min_samples_leaf=4, min_samples_split=10, n_estimators=200\n",
      "[CV 2/5; 26/108] END max_depth=None, min_samples_leaf=4, min_samples_split=10, n_estimators=100;, score=-0.469 total time=   1.0s\n",
      "[CV 5/5; 27/108] START max_depth=None, min_samples_leaf=4, min_samples_split=10, n_estimators=200\n"
     ]
    },
    {
     "name": "stderr",
     "output_type": "stream",
     "text": [
      "/Users/omardukureh12/anaconda3/lib/python3.11/site-packages/sklearn/base.py:1151: DataConversionWarning: A column-vector y was passed when a 1d array was expected. Please change the shape of y to (n_samples,), for example using ravel().\n",
      "  return fit_method(estimator, *args, **kwargs)\n",
      "/Users/omardukureh12/anaconda3/lib/python3.11/site-packages/sklearn/base.py:1151: DataConversionWarning: A column-vector y was passed when a 1d array was expected. Please change the shape of y to (n_samples,), for example using ravel().\n",
      "  return fit_method(estimator, *args, **kwargs)\n",
      "/Users/omardukureh12/anaconda3/lib/python3.11/site-packages/sklearn/base.py:1151: DataConversionWarning: A column-vector y was passed when a 1d array was expected. Please change the shape of y to (n_samples,), for example using ravel().\n",
      "  return fit_method(estimator, *args, **kwargs)\n"
     ]
    },
    {
     "name": "stdout",
     "output_type": "stream",
     "text": [
      "[CV 3/5; 26/108] END max_depth=None, min_samples_leaf=4, min_samples_split=10, n_estimators=100;, score=-0.471 total time=   1.0s\n",
      "[CV 1/5; 28/108] START max_depth=10, min_samples_leaf=1, min_samples_split=2, n_estimators=50\n"
     ]
    },
    {
     "name": "stderr",
     "output_type": "stream",
     "text": [
      "/Users/omardukureh12/anaconda3/lib/python3.11/site-packages/sklearn/base.py:1151: DataConversionWarning: A column-vector y was passed when a 1d array was expected. Please change the shape of y to (n_samples,), for example using ravel().\n",
      "  return fit_method(estimator, *args, **kwargs)\n"
     ]
    },
    {
     "name": "stdout",
     "output_type": "stream",
     "text": [
      "[CV 4/5; 26/108] END max_depth=None, min_samples_leaf=4, min_samples_split=10, n_estimators=100;, score=-0.439 total time=   1.0s\n",
      "[CV 2/5; 28/108] START max_depth=10, min_samples_leaf=1, min_samples_split=2, n_estimators=50\n",
      "[CV 5/5; 26/108] END max_depth=None, min_samples_leaf=4, min_samples_split=10, n_estimators=100;, score=-0.413 total time=   1.0s\n",
      "[CV 3/5; 28/108] START max_depth=10, min_samples_leaf=1, min_samples_split=2, n_estimators=50\n"
     ]
    },
    {
     "name": "stderr",
     "output_type": "stream",
     "text": [
      "/Users/omardukureh12/anaconda3/lib/python3.11/site-packages/sklearn/base.py:1151: DataConversionWarning: A column-vector y was passed when a 1d array was expected. Please change the shape of y to (n_samples,), for example using ravel().\n",
      "  return fit_method(estimator, *args, **kwargs)\n",
      "/Users/omardukureh12/anaconda3/lib/python3.11/site-packages/sklearn/base.py:1151: DataConversionWarning: A column-vector y was passed when a 1d array was expected. Please change the shape of y to (n_samples,), for example using ravel().\n",
      "  return fit_method(estimator, *args, **kwargs)\n"
     ]
    },
    {
     "name": "stdout",
     "output_type": "stream",
     "text": [
      "[CV 1/5; 28/108] END max_depth=10, min_samples_leaf=1, min_samples_split=2, n_estimators=50;, score=-0.413 total time=   0.7s\n",
      "[CV 4/5; 28/108] START max_depth=10, min_samples_leaf=1, min_samples_split=2, n_estimators=50\n"
     ]
    },
    {
     "name": "stderr",
     "output_type": "stream",
     "text": [
      "/Users/omardukureh12/anaconda3/lib/python3.11/site-packages/sklearn/base.py:1151: DataConversionWarning: A column-vector y was passed when a 1d array was expected. Please change the shape of y to (n_samples,), for example using ravel().\n",
      "  return fit_method(estimator, *args, **kwargs)\n"
     ]
    },
    {
     "name": "stdout",
     "output_type": "stream",
     "text": [
      "[CV 2/5; 28/108] END max_depth=10, min_samples_leaf=1, min_samples_split=2, n_estimators=50;, score=-0.449 total time=   0.7s\n",
      "[CV 5/5; 28/108] START max_depth=10, min_samples_leaf=1, min_samples_split=2, n_estimators=50\n",
      "[CV 3/5; 28/108] END max_depth=10, min_samples_leaf=1, min_samples_split=2, n_estimators=50;, score=-0.472 total time=   0.7s\n",
      "[CV 1/5; 29/108] START max_depth=10, min_samples_leaf=1, min_samples_split=2, n_estimators=100\n"
     ]
    },
    {
     "name": "stderr",
     "output_type": "stream",
     "text": [
      "/Users/omardukureh12/anaconda3/lib/python3.11/site-packages/sklearn/base.py:1151: DataConversionWarning: A column-vector y was passed when a 1d array was expected. Please change the shape of y to (n_samples,), for example using ravel().\n",
      "  return fit_method(estimator, *args, **kwargs)\n",
      "/Users/omardukureh12/anaconda3/lib/python3.11/site-packages/sklearn/base.py:1151: DataConversionWarning: A column-vector y was passed when a 1d array was expected. Please change the shape of y to (n_samples,), for example using ravel().\n",
      "  return fit_method(estimator, *args, **kwargs)\n"
     ]
    },
    {
     "name": "stdout",
     "output_type": "stream",
     "text": [
      "[CV 4/5; 28/108] END max_depth=10, min_samples_leaf=1, min_samples_split=2, n_estimators=50;, score=-0.419 total time=   0.6s\n",
      "[CV 2/5; 29/108] START max_depth=10, min_samples_leaf=1, min_samples_split=2, n_estimators=100\n",
      "[CV 1/5; 27/108] END max_depth=None, min_samples_leaf=4, min_samples_split=10, n_estimators=200;, score=-0.396 total time=   2.0s\n",
      "[CV 3/5; 29/108] START max_depth=10, min_samples_leaf=1, min_samples_split=2, n_estimators=100\n"
     ]
    },
    {
     "name": "stderr",
     "output_type": "stream",
     "text": [
      "/Users/omardukureh12/anaconda3/lib/python3.11/site-packages/sklearn/base.py:1151: DataConversionWarning: A column-vector y was passed when a 1d array was expected. Please change the shape of y to (n_samples,), for example using ravel().\n",
      "  return fit_method(estimator, *args, **kwargs)\n",
      "/Users/omardukureh12/anaconda3/lib/python3.11/site-packages/sklearn/base.py:1151: DataConversionWarning: A column-vector y was passed when a 1d array was expected. Please change the shape of y to (n_samples,), for example using ravel().\n",
      "  return fit_method(estimator, *args, **kwargs)\n"
     ]
    },
    {
     "name": "stdout",
     "output_type": "stream",
     "text": [
      "[CV 5/5; 28/108] END max_depth=10, min_samples_leaf=1, min_samples_split=2, n_estimators=50;, score=-0.418 total time=   0.6s\n",
      "[CV 4/5; 29/108] START max_depth=10, min_samples_leaf=1, min_samples_split=2, n_estimators=100\n",
      "[CV 2/5; 27/108] END max_depth=None, min_samples_leaf=4, min_samples_split=10, n_estimators=200;, score=-0.469 total time=   2.1s\n",
      "[CV 5/5; 29/108] START max_depth=10, min_samples_leaf=1, min_samples_split=2, n_estimators=100\n"
     ]
    },
    {
     "name": "stderr",
     "output_type": "stream",
     "text": [
      "/Users/omardukureh12/anaconda3/lib/python3.11/site-packages/sklearn/base.py:1151: DataConversionWarning: A column-vector y was passed when a 1d array was expected. Please change the shape of y to (n_samples,), for example using ravel().\n",
      "  return fit_method(estimator, *args, **kwargs)\n",
      "/Users/omardukureh12/anaconda3/lib/python3.11/site-packages/sklearn/base.py:1151: DataConversionWarning: A column-vector y was passed when a 1d array was expected. Please change the shape of y to (n_samples,), for example using ravel().\n",
      "  return fit_method(estimator, *args, **kwargs)\n"
     ]
    },
    {
     "name": "stdout",
     "output_type": "stream",
     "text": [
      "[CV 3/5; 27/108] END max_depth=None, min_samples_leaf=4, min_samples_split=10, n_estimators=200;, score=-0.471 total time=   2.1s\n",
      "[CV 1/5; 30/108] START max_depth=10, min_samples_leaf=1, min_samples_split=2, n_estimators=200\n",
      "[CV 4/5; 27/108] END max_depth=None, min_samples_leaf=4, min_samples_split=10, n_estimators=200;, score=-0.444 total time=   2.2s\n",
      "[CV 5/5; 27/108] END max_depth=None, min_samples_leaf=4, min_samples_split=10, n_estimators=200;, score=-0.411 total time=   2.2s\n",
      "[CV 2/5; 30/108] START max_depth=10, min_samples_leaf=1, min_samples_split=2, n_estimators=200\n",
      "[CV 3/5; 30/108] START max_depth=10, min_samples_leaf=1, min_samples_split=2, n_estimators=200\n"
     ]
    },
    {
     "name": "stderr",
     "output_type": "stream",
     "text": [
      "/Users/omardukureh12/anaconda3/lib/python3.11/site-packages/sklearn/base.py:1151: DataConversionWarning: A column-vector y was passed when a 1d array was expected. Please change the shape of y to (n_samples,), for example using ravel().\n",
      "  return fit_method(estimator, *args, **kwargs)\n",
      "/Users/omardukureh12/anaconda3/lib/python3.11/site-packages/sklearn/base.py:1151: DataConversionWarning: A column-vector y was passed when a 1d array was expected. Please change the shape of y to (n_samples,), for example using ravel().\n",
      "  return fit_method(estimator, *args, **kwargs)\n",
      "/Users/omardukureh12/anaconda3/lib/python3.11/site-packages/sklearn/base.py:1151: DataConversionWarning: A column-vector y was passed when a 1d array was expected. Please change the shape of y to (n_samples,), for example using ravel().\n",
      "  return fit_method(estimator, *args, **kwargs)\n"
     ]
    },
    {
     "name": "stdout",
     "output_type": "stream",
     "text": [
      "[CV 1/5; 29/108] END max_depth=10, min_samples_leaf=1, min_samples_split=2, n_estimators=100;, score=-0.411 total time=   1.2s\n",
      "[CV 4/5; 30/108] START max_depth=10, min_samples_leaf=1, min_samples_split=2, n_estimators=200\n"
     ]
    },
    {
     "name": "stderr",
     "output_type": "stream",
     "text": [
      "/Users/omardukureh12/anaconda3/lib/python3.11/site-packages/sklearn/base.py:1151: DataConversionWarning: A column-vector y was passed when a 1d array was expected. Please change the shape of y to (n_samples,), for example using ravel().\n",
      "  return fit_method(estimator, *args, **kwargs)\n"
     ]
    },
    {
     "name": "stdout",
     "output_type": "stream",
     "text": [
      "[CV 2/5; 29/108] END max_depth=10, min_samples_leaf=1, min_samples_split=2, n_estimators=100;, score=-0.453 total time=   1.2s\n",
      "[CV 5/5; 30/108] START max_depth=10, min_samples_leaf=1, min_samples_split=2, n_estimators=200\n",
      "[CV 3/5; 29/108] END max_depth=10, min_samples_leaf=1, min_samples_split=2, n_estimators=100;, score=-0.466 total time=   1.2s\n",
      "[CV 1/5; 31/108] START max_depth=10, min_samples_leaf=1, min_samples_split=5, n_estimators=50\n",
      "[CV 4/5; 29/108] END max_depth=10, min_samples_leaf=1, min_samples_split=2, n_estimators=100;, score=-0.413 total time=   1.0s\n",
      "[CV 2/5; 31/108] START max_depth=10, min_samples_leaf=1, min_samples_split=5, n_estimators=50\n"
     ]
    },
    {
     "name": "stderr",
     "output_type": "stream",
     "text": [
      "/Users/omardukureh12/anaconda3/lib/python3.11/site-packages/sklearn/base.py:1151: DataConversionWarning: A column-vector y was passed when a 1d array was expected. Please change the shape of y to (n_samples,), for example using ravel().\n",
      "  return fit_method(estimator, *args, **kwargs)\n",
      "/Users/omardukureh12/anaconda3/lib/python3.11/site-packages/sklearn/base.py:1151: DataConversionWarning: A column-vector y was passed when a 1d array was expected. Please change the shape of y to (n_samples,), for example using ravel().\n",
      "  return fit_method(estimator, *args, **kwargs)\n",
      "/Users/omardukureh12/anaconda3/lib/python3.11/site-packages/sklearn/base.py:1151: DataConversionWarning: A column-vector y was passed when a 1d array was expected. Please change the shape of y to (n_samples,), for example using ravel().\n",
      "  return fit_method(estimator, *args, **kwargs)\n"
     ]
    },
    {
     "name": "stdout",
     "output_type": "stream",
     "text": [
      "[CV 5/5; 29/108] END max_depth=10, min_samples_leaf=1, min_samples_split=2, n_estimators=100;, score=-0.415 total time=   1.0s\n",
      "[CV 3/5; 31/108] START max_depth=10, min_samples_leaf=1, min_samples_split=5, n_estimators=50\n"
     ]
    },
    {
     "name": "stderr",
     "output_type": "stream",
     "text": [
      "/Users/omardukureh12/anaconda3/lib/python3.11/site-packages/sklearn/base.py:1151: DataConversionWarning: A column-vector y was passed when a 1d array was expected. Please change the shape of y to (n_samples,), for example using ravel().\n",
      "  return fit_method(estimator, *args, **kwargs)\n"
     ]
    },
    {
     "name": "stdout",
     "output_type": "stream",
     "text": [
      "[CV 1/5; 31/108] END max_depth=10, min_samples_leaf=1, min_samples_split=5, n_estimators=50;, score=-0.409 total time=   0.4s\n",
      "[CV 4/5; 31/108] START max_depth=10, min_samples_leaf=1, min_samples_split=5, n_estimators=50\n",
      "[CV 2/5; 31/108] END max_depth=10, min_samples_leaf=1, min_samples_split=5, n_estimators=50;, score=-0.454 total time=   0.5s\n",
      "[CV 5/5; 31/108] START max_depth=10, min_samples_leaf=1, min_samples_split=5, n_estimators=50\n",
      "[CV 3/5; 31/108] END max_depth=10, min_samples_leaf=1, min_samples_split=5, n_estimators=50;, score=-0.472 total time=   0.4s\n",
      "[CV 1/5; 32/108] START max_depth=10, min_samples_leaf=1, min_samples_split=5, n_estimators=100\n"
     ]
    },
    {
     "name": "stderr",
     "output_type": "stream",
     "text": [
      "/Users/omardukureh12/anaconda3/lib/python3.11/site-packages/sklearn/base.py:1151: DataConversionWarning: A column-vector y was passed when a 1d array was expected. Please change the shape of y to (n_samples,), for example using ravel().\n",
      "  return fit_method(estimator, *args, **kwargs)\n",
      "/Users/omardukureh12/anaconda3/lib/python3.11/site-packages/sklearn/base.py:1151: DataConversionWarning: A column-vector y was passed when a 1d array was expected. Please change the shape of y to (n_samples,), for example using ravel().\n",
      "  return fit_method(estimator, *args, **kwargs)\n",
      "/Users/omardukureh12/anaconda3/lib/python3.11/site-packages/sklearn/base.py:1151: DataConversionWarning: A column-vector y was passed when a 1d array was expected. Please change the shape of y to (n_samples,), for example using ravel().\n",
      "  return fit_method(estimator, *args, **kwargs)\n"
     ]
    },
    {
     "name": "stdout",
     "output_type": "stream",
     "text": [
      "[CV 4/5; 31/108] END max_depth=10, min_samples_leaf=1, min_samples_split=5, n_estimators=50;, score=-0.421 total time=   0.4s\n",
      "[CV 2/5; 32/108] START max_depth=10, min_samples_leaf=1, min_samples_split=5, n_estimators=100\n"
     ]
    },
    {
     "name": "stderr",
     "output_type": "stream",
     "text": [
      "/Users/omardukureh12/anaconda3/lib/python3.11/site-packages/sklearn/base.py:1151: DataConversionWarning: A column-vector y was passed when a 1d array was expected. Please change the shape of y to (n_samples,), for example using ravel().\n",
      "  return fit_method(estimator, *args, **kwargs)\n"
     ]
    },
    {
     "name": "stdout",
     "output_type": "stream",
     "text": [
      "[CV 5/5; 31/108] END max_depth=10, min_samples_leaf=1, min_samples_split=5, n_estimators=50;, score=-0.413 total time=   0.5s\n",
      "[CV 3/5; 32/108] START max_depth=10, min_samples_leaf=1, min_samples_split=5, n_estimators=100\n"
     ]
    },
    {
     "name": "stderr",
     "output_type": "stream",
     "text": [
      "/Users/omardukureh12/anaconda3/lib/python3.11/site-packages/sklearn/base.py:1151: DataConversionWarning: A column-vector y was passed when a 1d array was expected. Please change the shape of y to (n_samples,), for example using ravel().\n",
      "  return fit_method(estimator, *args, **kwargs)\n"
     ]
    },
    {
     "name": "stdout",
     "output_type": "stream",
     "text": [
      "[CV 1/5; 30/108] END max_depth=10, min_samples_leaf=1, min_samples_split=2, n_estimators=200;, score=-0.405 total time=   2.1s\n",
      "[CV 2/5; 30/108] END max_depth=10, min_samples_leaf=1, min_samples_split=2, n_estimators=200;, score=-0.458 total time=   2.0s\n",
      "[CV 4/5; 32/108] START max_depth=10, min_samples_leaf=1, min_samples_split=5, n_estimators=100\n",
      "[CV 5/5; 32/108] START max_depth=10, min_samples_leaf=1, min_samples_split=5, n_estimators=100\n",
      "[CV 3/5; 30/108] END max_depth=10, min_samples_leaf=1, min_samples_split=2, n_estimators=200;, score=-0.466 total time=   2.1s\n",
      "[CV 1/5; 33/108] START max_depth=10, min_samples_leaf=1, min_samples_split=5, n_estimators=200\n",
      "[CV 4/5; 30/108] END max_depth=10, min_samples_leaf=1, min_samples_split=2, n_estimators=200;, score=-0.418 total time=   2.0s\n",
      "[CV 2/5; 33/108] START max_depth=10, min_samples_leaf=1, min_samples_split=5, n_estimators=200\n",
      "[CV 1/5; 32/108] END max_depth=10, min_samples_leaf=1, min_samples_split=5, n_estimators=100;, score=-0.409 total time=   1.0s\n",
      "[CV 3/5; 33/108] START max_depth=10, min_samples_leaf=1, min_samples_split=5, n_estimators=200\n"
     ]
    },
    {
     "name": "stderr",
     "output_type": "stream",
     "text": [
      "/Users/omardukureh12/anaconda3/lib/python3.11/site-packages/sklearn/base.py:1151: DataConversionWarning: A column-vector y was passed when a 1d array was expected. Please change the shape of y to (n_samples,), for example using ravel().\n",
      "  return fit_method(estimator, *args, **kwargs)\n",
      "/Users/omardukureh12/anaconda3/lib/python3.11/site-packages/sklearn/base.py:1151: DataConversionWarning: A column-vector y was passed when a 1d array was expected. Please change the shape of y to (n_samples,), for example using ravel().\n",
      "  return fit_method(estimator, *args, **kwargs)\n",
      "/Users/omardukureh12/anaconda3/lib/python3.11/site-packages/sklearn/base.py:1151: DataConversionWarning: A column-vector y was passed when a 1d array was expected. Please change the shape of y to (n_samples,), for example using ravel().\n",
      "  return fit_method(estimator, *args, **kwargs)\n",
      "/Users/omardukureh12/anaconda3/lib/python3.11/site-packages/sklearn/base.py:1151: DataConversionWarning: A column-vector y was passed when a 1d array was expected. Please change the shape of y to (n_samples,), for example using ravel().\n",
      "  return fit_method(estimator, *args, **kwargs)\n",
      "/Users/omardukureh12/anaconda3/lib/python3.11/site-packages/sklearn/base.py:1151: DataConversionWarning: A column-vector y was passed when a 1d array was expected. Please change the shape of y to (n_samples,), for example using ravel().\n",
      "  return fit_method(estimator, *args, **kwargs)\n"
     ]
    },
    {
     "name": "stdout",
     "output_type": "stream",
     "text": [
      "[CV 2/5; 32/108] END max_depth=10, min_samples_leaf=1, min_samples_split=5, n_estimators=100;, score=-0.457 total time=   1.1s\n",
      "[CV 4/5; 33/108] START max_depth=10, min_samples_leaf=1, min_samples_split=5, n_estimators=200\n",
      "[CV 5/5; 30/108] END max_depth=10, min_samples_leaf=1, min_samples_split=2, n_estimators=200;, score=-0.413 total time=   2.1s\n",
      "[CV 5/5; 33/108] START max_depth=10, min_samples_leaf=1, min_samples_split=5, n_estimators=200\n",
      "[CV 3/5; 32/108] END max_depth=10, min_samples_leaf=1, min_samples_split=5, n_estimators=100;, score=-0.467 total time=   1.0s\n",
      "[CV 1/5; 34/108] START max_depth=10, min_samples_leaf=1, min_samples_split=10, n_estimators=50\n"
     ]
    },
    {
     "name": "stderr",
     "output_type": "stream",
     "text": [
      "/Users/omardukureh12/anaconda3/lib/python3.11/site-packages/sklearn/base.py:1151: DataConversionWarning: A column-vector y was passed when a 1d array was expected. Please change the shape of y to (n_samples,), for example using ravel().\n",
      "  return fit_method(estimator, *args, **kwargs)\n",
      "/Users/omardukureh12/anaconda3/lib/python3.11/site-packages/sklearn/base.py:1151: DataConversionWarning: A column-vector y was passed when a 1d array was expected. Please change the shape of y to (n_samples,), for example using ravel().\n",
      "  return fit_method(estimator, *args, **kwargs)\n",
      "/Users/omardukureh12/anaconda3/lib/python3.11/site-packages/sklearn/base.py:1151: DataConversionWarning: A column-vector y was passed when a 1d array was expected. Please change the shape of y to (n_samples,), for example using ravel().\n",
      "  return fit_method(estimator, *args, **kwargs)\n"
     ]
    },
    {
     "name": "stdout",
     "output_type": "stream",
     "text": [
      "[CV 5/5; 32/108] END max_depth=10, min_samples_leaf=1, min_samples_split=5, n_estimators=100;, score=-0.412 total time=   0.9s\n",
      "[CV 2/5; 34/108] START max_depth=10, min_samples_leaf=1, min_samples_split=10, n_estimators=50\n",
      "[CV 4/5; 32/108] END max_depth=10, min_samples_leaf=1, min_samples_split=5, n_estimators=100;, score=-0.417 total time=   1.0s\n",
      "[CV 3/5; 34/108] START max_depth=10, min_samples_leaf=1, min_samples_split=10, n_estimators=50\n",
      "[CV 1/5; 34/108] END max_depth=10, min_samples_leaf=1, min_samples_split=10, n_estimators=50;, score=-0.414 total time=   0.5s\n",
      "[CV 4/5; 34/108] START max_depth=10, min_samples_leaf=1, min_samples_split=10, n_estimators=50\n"
     ]
    },
    {
     "name": "stderr",
     "output_type": "stream",
     "text": [
      "/Users/omardukureh12/anaconda3/lib/python3.11/site-packages/sklearn/base.py:1151: DataConversionWarning: A column-vector y was passed when a 1d array was expected. Please change the shape of y to (n_samples,), for example using ravel().\n",
      "  return fit_method(estimator, *args, **kwargs)\n",
      "/Users/omardukureh12/anaconda3/lib/python3.11/site-packages/sklearn/base.py:1151: DataConversionWarning: A column-vector y was passed when a 1d array was expected. Please change the shape of y to (n_samples,), for example using ravel().\n",
      "  return fit_method(estimator, *args, **kwargs)\n",
      "/Users/omardukureh12/anaconda3/lib/python3.11/site-packages/sklearn/base.py:1151: DataConversionWarning: A column-vector y was passed when a 1d array was expected. Please change the shape of y to (n_samples,), for example using ravel().\n",
      "  return fit_method(estimator, *args, **kwargs)\n"
     ]
    },
    {
     "name": "stdout",
     "output_type": "stream",
     "text": [
      "[CV 2/5; 34/108] END max_depth=10, min_samples_leaf=1, min_samples_split=10, n_estimators=50;, score=-0.461 total time=   0.5s\n",
      "[CV 5/5; 34/108] START max_depth=10, min_samples_leaf=1, min_samples_split=10, n_estimators=50\n",
      "[CV 3/5; 34/108] END max_depth=10, min_samples_leaf=1, min_samples_split=10, n_estimators=50;, score=-0.467 total time=   0.5s\n",
      "[CV 1/5; 35/108] START max_depth=10, min_samples_leaf=1, min_samples_split=10, n_estimators=100\n"
     ]
    },
    {
     "name": "stderr",
     "output_type": "stream",
     "text": [
      "/Users/omardukureh12/anaconda3/lib/python3.11/site-packages/sklearn/base.py:1151: DataConversionWarning: A column-vector y was passed when a 1d array was expected. Please change the shape of y to (n_samples,), for example using ravel().\n",
      "  return fit_method(estimator, *args, **kwargs)\n",
      "/Users/omardukureh12/anaconda3/lib/python3.11/site-packages/sklearn/base.py:1151: DataConversionWarning: A column-vector y was passed when a 1d array was expected. Please change the shape of y to (n_samples,), for example using ravel().\n",
      "  return fit_method(estimator, *args, **kwargs)\n"
     ]
    },
    {
     "name": "stdout",
     "output_type": "stream",
     "text": [
      "[CV 4/5; 34/108] END max_depth=10, min_samples_leaf=1, min_samples_split=10, n_estimators=50;, score=-0.438 total time=   0.7s\n",
      "[CV 2/5; 35/108] START max_depth=10, min_samples_leaf=1, min_samples_split=10, n_estimators=100\n"
     ]
    },
    {
     "name": "stderr",
     "output_type": "stream",
     "text": [
      "/Users/omardukureh12/anaconda3/lib/python3.11/site-packages/sklearn/base.py:1151: DataConversionWarning: A column-vector y was passed when a 1d array was expected. Please change the shape of y to (n_samples,), for example using ravel().\n",
      "  return fit_method(estimator, *args, **kwargs)\n"
     ]
    },
    {
     "name": "stdout",
     "output_type": "stream",
     "text": [
      "[CV 1/5; 33/108] END max_depth=10, min_samples_leaf=1, min_samples_split=5, n_estimators=200;, score=-0.405 total time=   2.1s\n",
      "[CV 3/5; 35/108] START max_depth=10, min_samples_leaf=1, min_samples_split=10, n_estimators=100\n",
      "[CV 2/5; 33/108] END max_depth=10, min_samples_leaf=1, min_samples_split=5, n_estimators=200;, score=-0.457 total time=   2.2s\n",
      "[CV 5/5; 34/108] END max_depth=10, min_samples_leaf=1, min_samples_split=10, n_estimators=50;, score=-0.411 total time=   0.8s\n",
      "[CV 4/5; 35/108] START max_depth=10, min_samples_leaf=1, min_samples_split=10, n_estimators=100\n",
      "[CV 5/5; 35/108] START max_depth=10, min_samples_leaf=1, min_samples_split=10, n_estimators=100\n",
      "[CV 3/5; 33/108] END max_depth=10, min_samples_leaf=1, min_samples_split=5, n_estimators=200;, score=-0.466 total time=   2.2s\n",
      "[CV 1/5; 36/108] START max_depth=10, min_samples_leaf=1, min_samples_split=10, n_estimators=200\n"
     ]
    },
    {
     "name": "stderr",
     "output_type": "stream",
     "text": [
      "/Users/omardukureh12/anaconda3/lib/python3.11/site-packages/sklearn/base.py:1151: DataConversionWarning: A column-vector y was passed when a 1d array was expected. Please change the shape of y to (n_samples,), for example using ravel().\n",
      "  return fit_method(estimator, *args, **kwargs)\n",
      "/Users/omardukureh12/anaconda3/lib/python3.11/site-packages/sklearn/base.py:1151: DataConversionWarning: A column-vector y was passed when a 1d array was expected. Please change the shape of y to (n_samples,), for example using ravel().\n",
      "  return fit_method(estimator, *args, **kwargs)\n",
      "/Users/omardukureh12/anaconda3/lib/python3.11/site-packages/sklearn/base.py:1151: DataConversionWarning: A column-vector y was passed when a 1d array was expected. Please change the shape of y to (n_samples,), for example using ravel().\n",
      "  return fit_method(estimator, *args, **kwargs)\n",
      "/Users/omardukureh12/anaconda3/lib/python3.11/site-packages/sklearn/base.py:1151: DataConversionWarning: A column-vector y was passed when a 1d array was expected. Please change the shape of y to (n_samples,), for example using ravel().\n",
      "  return fit_method(estimator, *args, **kwargs)\n"
     ]
    },
    {
     "name": "stdout",
     "output_type": "stream",
     "text": [
      "[CV 1/5; 35/108] END max_depth=10, min_samples_leaf=1, min_samples_split=10, n_estimators=100;, score=-0.411 total time=   1.1s\n",
      "[CV 2/5; 36/108] START max_depth=10, min_samples_leaf=1, min_samples_split=10, n_estimators=200\n",
      "[CV 4/5; 33/108] END max_depth=10, min_samples_leaf=1, min_samples_split=5, n_estimators=200;, score=-0.418 total time=   2.2s\n",
      "[CV 3/5; 36/108] START max_depth=10, min_samples_leaf=1, min_samples_split=10, n_estimators=200\n",
      "[CV 2/5; 35/108] END max_depth=10, min_samples_leaf=1, min_samples_split=10, n_estimators=100;, score=-0.463 total time=   1.0s\n",
      "[CV 4/5; 36/108] START max_depth=10, min_samples_leaf=1, min_samples_split=10, n_estimators=200\n"
     ]
    },
    {
     "name": "stderr",
     "output_type": "stream",
     "text": [
      "/Users/omardukureh12/anaconda3/lib/python3.11/site-packages/sklearn/base.py:1151: DataConversionWarning: A column-vector y was passed when a 1d array was expected. Please change the shape of y to (n_samples,), for example using ravel().\n",
      "  return fit_method(estimator, *args, **kwargs)\n",
      "/Users/omardukureh12/anaconda3/lib/python3.11/site-packages/sklearn/base.py:1151: DataConversionWarning: A column-vector y was passed when a 1d array was expected. Please change the shape of y to (n_samples,), for example using ravel().\n",
      "  return fit_method(estimator, *args, **kwargs)\n",
      "/Users/omardukureh12/anaconda3/lib/python3.11/site-packages/sklearn/base.py:1151: DataConversionWarning: A column-vector y was passed when a 1d array was expected. Please change the shape of y to (n_samples,), for example using ravel().\n",
      "  return fit_method(estimator, *args, **kwargs)\n",
      "/Users/omardukureh12/anaconda3/lib/python3.11/site-packages/sklearn/base.py:1151: DataConversionWarning: A column-vector y was passed when a 1d array was expected. Please change the shape of y to (n_samples,), for example using ravel().\n",
      "  return fit_method(estimator, *args, **kwargs)\n"
     ]
    },
    {
     "name": "stdout",
     "output_type": "stream",
     "text": [
      "[CV 5/5; 33/108] END max_depth=10, min_samples_leaf=1, min_samples_split=5, n_estimators=200;, score=-0.411 total time=   2.2s\n",
      "[CV 5/5; 36/108] START max_depth=10, min_samples_leaf=1, min_samples_split=10, n_estimators=200\n",
      "[CV 3/5; 35/108] END max_depth=10, min_samples_leaf=1, min_samples_split=10, n_estimators=100;, score=-0.468 total time=   0.9s\n",
      "[CV 1/5; 37/108] START max_depth=10, min_samples_leaf=2, min_samples_split=2, n_estimators=50\n",
      "[CV 5/5; 35/108] END max_depth=10, min_samples_leaf=1, min_samples_split=10, n_estimators=100;, score=-0.413 total time=   0.9s\n",
      "[CV 2/5; 37/108] START max_depth=10, min_samples_leaf=2, min_samples_split=2, n_estimators=50\n",
      "[CV 4/5; 35/108] END max_depth=10, min_samples_leaf=1, min_samples_split=10, n_estimators=100;, score=-0.435 total time=   0.9s\n",
      "[CV 3/5; 37/108] START max_depth=10, min_samples_leaf=2, min_samples_split=2, n_estimators=50\n"
     ]
    },
    {
     "name": "stderr",
     "output_type": "stream",
     "text": [
      "/Users/omardukureh12/anaconda3/lib/python3.11/site-packages/sklearn/base.py:1151: DataConversionWarning: A column-vector y was passed when a 1d array was expected. Please change the shape of y to (n_samples,), for example using ravel().\n",
      "  return fit_method(estimator, *args, **kwargs)\n",
      "/Users/omardukureh12/anaconda3/lib/python3.11/site-packages/sklearn/base.py:1151: DataConversionWarning: A column-vector y was passed when a 1d array was expected. Please change the shape of y to (n_samples,), for example using ravel().\n",
      "  return fit_method(estimator, *args, **kwargs)\n",
      "/Users/omardukureh12/anaconda3/lib/python3.11/site-packages/sklearn/base.py:1151: DataConversionWarning: A column-vector y was passed when a 1d array was expected. Please change the shape of y to (n_samples,), for example using ravel().\n",
      "  return fit_method(estimator, *args, **kwargs)\n"
     ]
    },
    {
     "name": "stdout",
     "output_type": "stream",
     "text": [
      "[CV 1/5; 37/108] END max_depth=10, min_samples_leaf=2, min_samples_split=2, n_estimators=50;, score=-0.409 total time=   0.5s\n",
      "[CV 4/5; 37/108] START max_depth=10, min_samples_leaf=2, min_samples_split=2, n_estimators=50\n",
      "[CV 2/5; 37/108] END max_depth=10, min_samples_leaf=2, min_samples_split=2, n_estimators=50;, score=-0.445 total time=   0.5s\n",
      "[CV 5/5; 37/108] START max_depth=10, min_samples_leaf=2, min_samples_split=2, n_estimators=50\n",
      "[CV 3/5; 37/108] END max_depth=10, min_samples_leaf=2, min_samples_split=2, n_estimators=50;, score=-0.471 total time=   0.4s\n",
      "[CV 1/5; 38/108] START max_depth=10, min_samples_leaf=2, min_samples_split=2, n_estimators=100\n"
     ]
    },
    {
     "name": "stderr",
     "output_type": "stream",
     "text": [
      "/Users/omardukureh12/anaconda3/lib/python3.11/site-packages/sklearn/base.py:1151: DataConversionWarning: A column-vector y was passed when a 1d array was expected. Please change the shape of y to (n_samples,), for example using ravel().\n",
      "  return fit_method(estimator, *args, **kwargs)\n",
      "/Users/omardukureh12/anaconda3/lib/python3.11/site-packages/sklearn/base.py:1151: DataConversionWarning: A column-vector y was passed when a 1d array was expected. Please change the shape of y to (n_samples,), for example using ravel().\n",
      "  return fit_method(estimator, *args, **kwargs)\n",
      "/Users/omardukureh12/anaconda3/lib/python3.11/site-packages/sklearn/base.py:1151: DataConversionWarning: A column-vector y was passed when a 1d array was expected. Please change the shape of y to (n_samples,), for example using ravel().\n",
      "  return fit_method(estimator, *args, **kwargs)\n"
     ]
    },
    {
     "name": "stdout",
     "output_type": "stream",
     "text": [
      "[CV 4/5; 37/108] END max_depth=10, min_samples_leaf=2, min_samples_split=2, n_estimators=50;, score=-0.417 total time=   0.4s\n",
      "[CV 5/5; 37/108] END max_depth=10, min_samples_leaf=2, min_samples_split=2, n_estimators=50;, score=-0.413 total time=   0.4s\n",
      "[CV 2/5; 38/108] START max_depth=10, min_samples_leaf=2, min_samples_split=2, n_estimators=100\n",
      "[CV 3/5; 38/108] START max_depth=10, min_samples_leaf=2, min_samples_split=2, n_estimators=100\n",
      "[CV 1/5; 36/108] END max_depth=10, min_samples_leaf=1, min_samples_split=10, n_estimators=200;, score=-0.407 total time=   1.9s\n",
      "[CV 4/5; 38/108] START max_depth=10, min_samples_leaf=2, min_samples_split=2, n_estimators=100\n"
     ]
    },
    {
     "name": "stderr",
     "output_type": "stream",
     "text": [
      "/Users/omardukureh12/anaconda3/lib/python3.11/site-packages/sklearn/base.py:1151: DataConversionWarning: A column-vector y was passed when a 1d array was expected. Please change the shape of y to (n_samples,), for example using ravel().\n",
      "  return fit_method(estimator, *args, **kwargs)\n",
      "/Users/omardukureh12/anaconda3/lib/python3.11/site-packages/sklearn/base.py:1151: DataConversionWarning: A column-vector y was passed when a 1d array was expected. Please change the shape of y to (n_samples,), for example using ravel().\n",
      "  return fit_method(estimator, *args, **kwargs)\n",
      "/Users/omardukureh12/anaconda3/lib/python3.11/site-packages/sklearn/base.py:1151: DataConversionWarning: A column-vector y was passed when a 1d array was expected. Please change the shape of y to (n_samples,), for example using ravel().\n",
      "  return fit_method(estimator, *args, **kwargs)\n"
     ]
    },
    {
     "name": "stdout",
     "output_type": "stream",
     "text": [
      "[CV 2/5; 36/108] END max_depth=10, min_samples_leaf=1, min_samples_split=10, n_estimators=200;, score=-0.464 total time=   1.8s\n",
      "[CV 5/5; 38/108] START max_depth=10, min_samples_leaf=2, min_samples_split=2, n_estimators=100\n",
      "[CV 3/5; 36/108] END max_depth=10, min_samples_leaf=1, min_samples_split=10, n_estimators=200;, score=-0.470 total time=   1.8s\n",
      "[CV 1/5; 39/108] START max_depth=10, min_samples_leaf=2, min_samples_split=2, n_estimators=200\n",
      "[CV 4/5; 36/108] END max_depth=10, min_samples_leaf=1, min_samples_split=10, n_estimators=200;, score=-0.437 total time=   1.8s\n",
      "[CV 2/5; 39/108] START max_depth=10, min_samples_leaf=2, min_samples_split=2, n_estimators=200\n",
      "[CV 1/5; 38/108] END max_depth=10, min_samples_leaf=2, min_samples_split=2, n_estimators=100;, score=-0.406 total time=   1.0s\n",
      "[CV 3/5; 39/108] START max_depth=10, min_samples_leaf=2, min_samples_split=2, n_estimators=200\n"
     ]
    },
    {
     "name": "stderr",
     "output_type": "stream",
     "text": [
      "/Users/omardukureh12/anaconda3/lib/python3.11/site-packages/sklearn/base.py:1151: DataConversionWarning: A column-vector y was passed when a 1d array was expected. Please change the shape of y to (n_samples,), for example using ravel().\n",
      "  return fit_method(estimator, *args, **kwargs)\n",
      "/Users/omardukureh12/anaconda3/lib/python3.11/site-packages/sklearn/base.py:1151: DataConversionWarning: A column-vector y was passed when a 1d array was expected. Please change the shape of y to (n_samples,), for example using ravel().\n",
      "  return fit_method(estimator, *args, **kwargs)\n",
      "/Users/omardukureh12/anaconda3/lib/python3.11/site-packages/sklearn/base.py:1151: DataConversionWarning: A column-vector y was passed when a 1d array was expected. Please change the shape of y to (n_samples,), for example using ravel().\n",
      "  return fit_method(estimator, *args, **kwargs)\n",
      "/Users/omardukureh12/anaconda3/lib/python3.11/site-packages/sklearn/base.py:1151: DataConversionWarning: A column-vector y was passed when a 1d array was expected. Please change the shape of y to (n_samples,), for example using ravel().\n",
      "  return fit_method(estimator, *args, **kwargs)\n"
     ]
    },
    {
     "name": "stdout",
     "output_type": "stream",
     "text": [
      "[CV 5/5; 36/108] END max_depth=10, min_samples_leaf=1, min_samples_split=10, n_estimators=200;, score=-0.411 total time=   1.8s\n",
      "[CV 4/5; 39/108] START max_depth=10, min_samples_leaf=2, min_samples_split=2, n_estimators=200\n"
     ]
    },
    {
     "name": "stderr",
     "output_type": "stream",
     "text": [
      "/Users/omardukureh12/anaconda3/lib/python3.11/site-packages/sklearn/base.py:1151: DataConversionWarning: A column-vector y was passed when a 1d array was expected. Please change the shape of y to (n_samples,), for example using ravel().\n",
      "  return fit_method(estimator, *args, **kwargs)\n"
     ]
    },
    {
     "name": "stdout",
     "output_type": "stream",
     "text": [
      "[CV 3/5; 38/108] END max_depth=10, min_samples_leaf=2, min_samples_split=2, n_estimators=100;, score=-0.469 total time=   0.9s\n",
      "[CV 5/5; 39/108] START max_depth=10, min_samples_leaf=2, min_samples_split=2, n_estimators=200\n",
      "[CV 2/5; 38/108] END max_depth=10, min_samples_leaf=2, min_samples_split=2, n_estimators=100;, score=-0.453 total time=   1.0s\n",
      "[CV 1/5; 40/108] START max_depth=10, min_samples_leaf=2, min_samples_split=5, n_estimators=50\n"
     ]
    },
    {
     "name": "stderr",
     "output_type": "stream",
     "text": [
      "/Users/omardukureh12/anaconda3/lib/python3.11/site-packages/sklearn/base.py:1151: DataConversionWarning: A column-vector y was passed when a 1d array was expected. Please change the shape of y to (n_samples,), for example using ravel().\n",
      "  return fit_method(estimator, *args, **kwargs)\n",
      "/Users/omardukureh12/anaconda3/lib/python3.11/site-packages/sklearn/base.py:1151: DataConversionWarning: A column-vector y was passed when a 1d array was expected. Please change the shape of y to (n_samples,), for example using ravel().\n",
      "  return fit_method(estimator, *args, **kwargs)\n"
     ]
    },
    {
     "name": "stdout",
     "output_type": "stream",
     "text": [
      "[CV 4/5; 38/108] END max_depth=10, min_samples_leaf=2, min_samples_split=2, n_estimators=100;, score=-0.409 total time=   1.0s\n",
      "[CV 2/5; 40/108] START max_depth=10, min_samples_leaf=2, min_samples_split=5, n_estimators=50\n"
     ]
    },
    {
     "name": "stderr",
     "output_type": "stream",
     "text": [
      "/Users/omardukureh12/anaconda3/lib/python3.11/site-packages/sklearn/base.py:1151: DataConversionWarning: A column-vector y was passed when a 1d array was expected. Please change the shape of y to (n_samples,), for example using ravel().\n",
      "  return fit_method(estimator, *args, **kwargs)\n"
     ]
    },
    {
     "name": "stdout",
     "output_type": "stream",
     "text": [
      "[CV 5/5; 38/108] END max_depth=10, min_samples_leaf=2, min_samples_split=2, n_estimators=100;, score=-0.412 total time=   1.0s\n",
      "[CV 3/5; 40/108] START max_depth=10, min_samples_leaf=2, min_samples_split=5, n_estimators=50\n",
      "[CV 1/5; 40/108] END max_depth=10, min_samples_leaf=2, min_samples_split=5, n_estimators=50;, score=-0.410 total time=   0.5s\n",
      "[CV 4/5; 40/108] START max_depth=10, min_samples_leaf=2, min_samples_split=5, n_estimators=50\n"
     ]
    },
    {
     "name": "stderr",
     "output_type": "stream",
     "text": [
      "/Users/omardukureh12/anaconda3/lib/python3.11/site-packages/sklearn/base.py:1151: DataConversionWarning: A column-vector y was passed when a 1d array was expected. Please change the shape of y to (n_samples,), for example using ravel().\n",
      "  return fit_method(estimator, *args, **kwargs)\n",
      "/Users/omardukureh12/anaconda3/lib/python3.11/site-packages/sklearn/base.py:1151: DataConversionWarning: A column-vector y was passed when a 1d array was expected. Please change the shape of y to (n_samples,), for example using ravel().\n",
      "  return fit_method(estimator, *args, **kwargs)\n"
     ]
    },
    {
     "name": "stdout",
     "output_type": "stream",
     "text": [
      "[CV 2/5; 40/108] END max_depth=10, min_samples_leaf=2, min_samples_split=5, n_estimators=50;, score=-0.447 total time=   0.5s\n",
      "[CV 5/5; 40/108] START max_depth=10, min_samples_leaf=2, min_samples_split=5, n_estimators=50\n"
     ]
    },
    {
     "name": "stderr",
     "output_type": "stream",
     "text": [
      "/Users/omardukureh12/anaconda3/lib/python3.11/site-packages/sklearn/base.py:1151: DataConversionWarning: A column-vector y was passed when a 1d array was expected. Please change the shape of y to (n_samples,), for example using ravel().\n",
      "  return fit_method(estimator, *args, **kwargs)\n"
     ]
    },
    {
     "name": "stdout",
     "output_type": "stream",
     "text": [
      "[CV 3/5; 40/108] END max_depth=10, min_samples_leaf=2, min_samples_split=5, n_estimators=50;, score=-0.473 total time=   0.5s\n",
      "[CV 1/5; 41/108] START max_depth=10, min_samples_leaf=2, min_samples_split=5, n_estimators=100\n",
      "[CV 4/5; 40/108] END max_depth=10, min_samples_leaf=2, min_samples_split=5, n_estimators=50;, score=-0.421 total time=   0.5s\n",
      "[CV 2/5; 41/108] START max_depth=10, min_samples_leaf=2, min_samples_split=5, n_estimators=100\n"
     ]
    },
    {
     "name": "stderr",
     "output_type": "stream",
     "text": [
      "/Users/omardukureh12/anaconda3/lib/python3.11/site-packages/sklearn/base.py:1151: DataConversionWarning: A column-vector y was passed when a 1d array was expected. Please change the shape of y to (n_samples,), for example using ravel().\n",
      "  return fit_method(estimator, *args, **kwargs)\n",
      "/Users/omardukureh12/anaconda3/lib/python3.11/site-packages/sklearn/base.py:1151: DataConversionWarning: A column-vector y was passed when a 1d array was expected. Please change the shape of y to (n_samples,), for example using ravel().\n",
      "  return fit_method(estimator, *args, **kwargs)\n"
     ]
    },
    {
     "name": "stdout",
     "output_type": "stream",
     "text": [
      "[CV 5/5; 40/108] END max_depth=10, min_samples_leaf=2, min_samples_split=5, n_estimators=50;, score=-0.413 total time=   0.4s\n",
      "[CV 3/5; 41/108] START max_depth=10, min_samples_leaf=2, min_samples_split=5, n_estimators=100\n"
     ]
    },
    {
     "name": "stderr",
     "output_type": "stream",
     "text": [
      "/Users/omardukureh12/anaconda3/lib/python3.11/site-packages/sklearn/base.py:1151: DataConversionWarning: A column-vector y was passed when a 1d array was expected. Please change the shape of y to (n_samples,), for example using ravel().\n",
      "  return fit_method(estimator, *args, **kwargs)\n"
     ]
    },
    {
     "name": "stdout",
     "output_type": "stream",
     "text": [
      "[CV 1/5; 39/108] END max_depth=10, min_samples_leaf=2, min_samples_split=2, n_estimators=200;, score=-0.400 total time=   2.0s\n",
      "[CV 4/5; 41/108] START max_depth=10, min_samples_leaf=2, min_samples_split=5, n_estimators=100\n",
      "[CV 3/5; 39/108] END max_depth=10, min_samples_leaf=2, min_samples_split=2, n_estimators=200;, score=-0.470 total time=   1.9s\n",
      "[CV 5/5; 41/108] START max_depth=10, min_samples_leaf=2, min_samples_split=5, n_estimators=100\n",
      "[CV 2/5; 39/108] END max_depth=10, min_samples_leaf=2, min_samples_split=2, n_estimators=200;, score=-0.455 total time=   2.0s\n",
      "[CV 1/5; 42/108] START max_depth=10, min_samples_leaf=2, min_samples_split=5, n_estimators=200\n"
     ]
    },
    {
     "name": "stderr",
     "output_type": "stream",
     "text": [
      "/Users/omardukureh12/anaconda3/lib/python3.11/site-packages/sklearn/base.py:1151: DataConversionWarning: A column-vector y was passed when a 1d array was expected. Please change the shape of y to (n_samples,), for example using ravel().\n",
      "  return fit_method(estimator, *args, **kwargs)\n",
      "/Users/omardukureh12/anaconda3/lib/python3.11/site-packages/sklearn/base.py:1151: DataConversionWarning: A column-vector y was passed when a 1d array was expected. Please change the shape of y to (n_samples,), for example using ravel().\n",
      "  return fit_method(estimator, *args, **kwargs)\n",
      "/Users/omardukureh12/anaconda3/lib/python3.11/site-packages/sklearn/base.py:1151: DataConversionWarning: A column-vector y was passed when a 1d array was expected. Please change the shape of y to (n_samples,), for example using ravel().\n",
      "  return fit_method(estimator, *args, **kwargs)\n"
     ]
    },
    {
     "name": "stdout",
     "output_type": "stream",
     "text": [
      "[CV 4/5; 39/108] END max_depth=10, min_samples_leaf=2, min_samples_split=2, n_estimators=200;, score=-0.411 total time=   2.0s\n",
      "[CV 2/5; 42/108] START max_depth=10, min_samples_leaf=2, min_samples_split=5, n_estimators=200\n",
      "[CV 1/5; 41/108] END max_depth=10, min_samples_leaf=2, min_samples_split=5, n_estimators=100;, score=-0.407 total time=   1.0s\n",
      "[CV 3/5; 42/108] START max_depth=10, min_samples_leaf=2, min_samples_split=5, n_estimators=200\n",
      "[CV 5/5; 39/108] END max_depth=10, min_samples_leaf=2, min_samples_split=2, n_estimators=200;, score=-0.410 total time=   2.0s\n",
      "[CV 4/5; 42/108] START max_depth=10, min_samples_leaf=2, min_samples_split=5, n_estimators=200\n"
     ]
    },
    {
     "name": "stderr",
     "output_type": "stream",
     "text": [
      "/Users/omardukureh12/anaconda3/lib/python3.11/site-packages/sklearn/base.py:1151: DataConversionWarning: A column-vector y was passed when a 1d array was expected. Please change the shape of y to (n_samples,), for example using ravel().\n",
      "  return fit_method(estimator, *args, **kwargs)\n",
      "/Users/omardukureh12/anaconda3/lib/python3.11/site-packages/sklearn/base.py:1151: DataConversionWarning: A column-vector y was passed when a 1d array was expected. Please change the shape of y to (n_samples,), for example using ravel().\n",
      "  return fit_method(estimator, *args, **kwargs)\n",
      "/Users/omardukureh12/anaconda3/lib/python3.11/site-packages/sklearn/base.py:1151: DataConversionWarning: A column-vector y was passed when a 1d array was expected. Please change the shape of y to (n_samples,), for example using ravel().\n",
      "  return fit_method(estimator, *args, **kwargs)\n",
      "/Users/omardukureh12/anaconda3/lib/python3.11/site-packages/sklearn/base.py:1151: DataConversionWarning: A column-vector y was passed when a 1d array was expected. Please change the shape of y to (n_samples,), for example using ravel().\n",
      "  return fit_method(estimator, *args, **kwargs)\n",
      "/Users/omardukureh12/anaconda3/lib/python3.11/site-packages/sklearn/base.py:1151: DataConversionWarning: A column-vector y was passed when a 1d array was expected. Please change the shape of y to (n_samples,), for example using ravel().\n",
      "  return fit_method(estimator, *args, **kwargs)\n"
     ]
    },
    {
     "name": "stdout",
     "output_type": "stream",
     "text": [
      "[CV 2/5; 41/108] END max_depth=10, min_samples_leaf=2, min_samples_split=5, n_estimators=100;, score=-0.454 total time=   1.0s\n",
      "[CV 5/5; 42/108] START max_depth=10, min_samples_leaf=2, min_samples_split=5, n_estimators=200\n",
      "[CV 3/5; 41/108] END max_depth=10, min_samples_leaf=2, min_samples_split=5, n_estimators=100;, score=-0.469 total time=   1.0s\n",
      "[CV 1/5; 43/108] START max_depth=10, min_samples_leaf=2, min_samples_split=10, n_estimators=50\n",
      "[CV 4/5; 41/108] END max_depth=10, min_samples_leaf=2, min_samples_split=5, n_estimators=100;, score=-0.414 total time=   0.9s\n",
      "[CV 2/5; 43/108] START max_depth=10, min_samples_leaf=2, min_samples_split=10, n_estimators=50\n",
      "[CV 5/5; 41/108] END max_depth=10, min_samples_leaf=2, min_samples_split=5, n_estimators=100;, score=-0.412 total time=   0.9s\n",
      "[CV 3/5; 43/108] START max_depth=10, min_samples_leaf=2, min_samples_split=10, n_estimators=50\n",
      "[CV 1/5; 43/108] END max_depth=10, min_samples_leaf=2, min_samples_split=10, n_estimators=50;, score=-0.410 total time=   0.4s\n",
      "[CV 4/5; 43/108] START max_depth=10, min_samples_leaf=2, min_samples_split=10, n_estimators=50\n"
     ]
    },
    {
     "name": "stderr",
     "output_type": "stream",
     "text": [
      "/Users/omardukureh12/anaconda3/lib/python3.11/site-packages/sklearn/base.py:1151: DataConversionWarning: A column-vector y was passed when a 1d array was expected. Please change the shape of y to (n_samples,), for example using ravel().\n",
      "  return fit_method(estimator, *args, **kwargs)\n",
      "/Users/omardukureh12/anaconda3/lib/python3.11/site-packages/sklearn/base.py:1151: DataConversionWarning: A column-vector y was passed when a 1d array was expected. Please change the shape of y to (n_samples,), for example using ravel().\n",
      "  return fit_method(estimator, *args, **kwargs)\n",
      "/Users/omardukureh12/anaconda3/lib/python3.11/site-packages/sklearn/base.py:1151: DataConversionWarning: A column-vector y was passed when a 1d array was expected. Please change the shape of y to (n_samples,), for example using ravel().\n",
      "  return fit_method(estimator, *args, **kwargs)\n"
     ]
    },
    {
     "name": "stdout",
     "output_type": "stream",
     "text": [
      "[CV 2/5; 43/108] END max_depth=10, min_samples_leaf=2, min_samples_split=10, n_estimators=50;, score=-0.459 total time=   0.4s\n",
      "[CV 5/5; 43/108] START max_depth=10, min_samples_leaf=2, min_samples_split=10, n_estimators=50\n",
      "[CV 3/5; 43/108] END max_depth=10, min_samples_leaf=2, min_samples_split=10, n_estimators=50;, score=-0.469 total time=   0.5s\n",
      "[CV 1/5; 44/108] START max_depth=10, min_samples_leaf=2, min_samples_split=10, n_estimators=100\n"
     ]
    },
    {
     "name": "stderr",
     "output_type": "stream",
     "text": [
      "/Users/omardukureh12/anaconda3/lib/python3.11/site-packages/sklearn/base.py:1151: DataConversionWarning: A column-vector y was passed when a 1d array was expected. Please change the shape of y to (n_samples,), for example using ravel().\n",
      "  return fit_method(estimator, *args, **kwargs)\n",
      "/Users/omardukureh12/anaconda3/lib/python3.11/site-packages/sklearn/base.py:1151: DataConversionWarning: A column-vector y was passed when a 1d array was expected. Please change the shape of y to (n_samples,), for example using ravel().\n",
      "  return fit_method(estimator, *args, **kwargs)\n"
     ]
    },
    {
     "name": "stdout",
     "output_type": "stream",
     "text": [
      "[CV 4/5; 43/108] END max_depth=10, min_samples_leaf=2, min_samples_split=10, n_estimators=50;, score=-0.435 total time=   0.5s\n",
      "[CV 2/5; 44/108] START max_depth=10, min_samples_leaf=2, min_samples_split=10, n_estimators=100\n"
     ]
    },
    {
     "name": "stderr",
     "output_type": "stream",
     "text": [
      "/Users/omardukureh12/anaconda3/lib/python3.11/site-packages/sklearn/base.py:1151: DataConversionWarning: A column-vector y was passed when a 1d array was expected. Please change the shape of y to (n_samples,), for example using ravel().\n",
      "  return fit_method(estimator, *args, **kwargs)\n"
     ]
    },
    {
     "name": "stdout",
     "output_type": "stream",
     "text": [
      "[CV 5/5; 43/108] END max_depth=10, min_samples_leaf=2, min_samples_split=10, n_estimators=50;, score=-0.414 total time=   0.6s\n",
      "[CV 3/5; 44/108] START max_depth=10, min_samples_leaf=2, min_samples_split=10, n_estimators=100\n",
      "[CV 1/5; 42/108] END max_depth=10, min_samples_leaf=2, min_samples_split=5, n_estimators=200;, score=-0.403 total time=   2.0s\n",
      "[CV 4/5; 44/108] START max_depth=10, min_samples_leaf=2, min_samples_split=10, n_estimators=100\n"
     ]
    },
    {
     "name": "stderr",
     "output_type": "stream",
     "text": [
      "/Users/omardukureh12/anaconda3/lib/python3.11/site-packages/sklearn/base.py:1151: DataConversionWarning: A column-vector y was passed when a 1d array was expected. Please change the shape of y to (n_samples,), for example using ravel().\n",
      "  return fit_method(estimator, *args, **kwargs)\n",
      "/Users/omardukureh12/anaconda3/lib/python3.11/site-packages/sklearn/base.py:1151: DataConversionWarning: A column-vector y was passed when a 1d array was expected. Please change the shape of y to (n_samples,), for example using ravel().\n",
      "  return fit_method(estimator, *args, **kwargs)\n"
     ]
    },
    {
     "name": "stdout",
     "output_type": "stream",
     "text": [
      "[CV 2/5; 42/108] END max_depth=10, min_samples_leaf=2, min_samples_split=5, n_estimators=200;, score=-0.456 total time=   2.3s\n",
      "[CV 5/5; 44/108] START max_depth=10, min_samples_leaf=2, min_samples_split=10, n_estimators=100\n",
      "[CV 1/5; 44/108] END max_depth=10, min_samples_leaf=2, min_samples_split=10, n_estimators=100;, score=-0.407 total time=   1.2s\n",
      "[CV 1/5; 45/108] START max_depth=10, min_samples_leaf=2, min_samples_split=10, n_estimators=200\n",
      "[CV 3/5; 42/108] END max_depth=10, min_samples_leaf=2, min_samples_split=5, n_estimators=200;, score=-0.468 total time=   2.3s\n",
      "[CV 2/5; 45/108] START max_depth=10, min_samples_leaf=2, min_samples_split=10, n_estimators=200\n"
     ]
    },
    {
     "name": "stderr",
     "output_type": "stream",
     "text": [
      "/Users/omardukureh12/anaconda3/lib/python3.11/site-packages/sklearn/base.py:1151: DataConversionWarning: A column-vector y was passed when a 1d array was expected. Please change the shape of y to (n_samples,), for example using ravel().\n",
      "  return fit_method(estimator, *args, **kwargs)\n",
      "/Users/omardukureh12/anaconda3/lib/python3.11/site-packages/sklearn/base.py:1151: DataConversionWarning: A column-vector y was passed when a 1d array was expected. Please change the shape of y to (n_samples,), for example using ravel().\n",
      "  return fit_method(estimator, *args, **kwargs)\n",
      "/Users/omardukureh12/anaconda3/lib/python3.11/site-packages/sklearn/base.py:1151: DataConversionWarning: A column-vector y was passed when a 1d array was expected. Please change the shape of y to (n_samples,), for example using ravel().\n",
      "  return fit_method(estimator, *args, **kwargs)\n"
     ]
    },
    {
     "name": "stdout",
     "output_type": "stream",
     "text": [
      "[CV 4/5; 42/108] END max_depth=10, min_samples_leaf=2, min_samples_split=5, n_estimators=200;, score=-0.415 total time=   2.3s\n",
      "[CV 3/5; 45/108] START max_depth=10, min_samples_leaf=2, min_samples_split=10, n_estimators=200\n",
      "[CV 5/5; 42/108] END max_depth=10, min_samples_leaf=2, min_samples_split=5, n_estimators=200;, score=-0.411 total time=   2.2s\n",
      "[CV 4/5; 45/108] START max_depth=10, min_samples_leaf=2, min_samples_split=10, n_estimators=200\n",
      "[CV 2/5; 44/108] END max_depth=10, min_samples_leaf=2, min_samples_split=10, n_estimators=100;, score=-0.464 total time=   1.3s\n",
      "[CV 5/5; 45/108] START max_depth=10, min_samples_leaf=2, min_samples_split=10, n_estimators=200\n",
      "[CV 3/5; 44/108] END max_depth=10, min_samples_leaf=2, min_samples_split=10, n_estimators=100;, score=-0.466 total time=   1.0s\n",
      "[CV 1/5; 46/108] START max_depth=10, min_samples_leaf=4, min_samples_split=2, n_estimators=50\n"
     ]
    },
    {
     "name": "stderr",
     "output_type": "stream",
     "text": [
      "/Users/omardukureh12/anaconda3/lib/python3.11/site-packages/sklearn/base.py:1151: DataConversionWarning: A column-vector y was passed when a 1d array was expected. Please change the shape of y to (n_samples,), for example using ravel().\n",
      "  return fit_method(estimator, *args, **kwargs)\n",
      "/Users/omardukureh12/anaconda3/lib/python3.11/site-packages/sklearn/base.py:1151: DataConversionWarning: A column-vector y was passed when a 1d array was expected. Please change the shape of y to (n_samples,), for example using ravel().\n",
      "  return fit_method(estimator, *args, **kwargs)\n",
      "/Users/omardukureh12/anaconda3/lib/python3.11/site-packages/sklearn/base.py:1151: DataConversionWarning: A column-vector y was passed when a 1d array was expected. Please change the shape of y to (n_samples,), for example using ravel().\n",
      "  return fit_method(estimator, *args, **kwargs)\n",
      "/Users/omardukureh12/anaconda3/lib/python3.11/site-packages/sklearn/base.py:1151: DataConversionWarning: A column-vector y was passed when a 1d array was expected. Please change the shape of y to (n_samples,), for example using ravel().\n",
      "  return fit_method(estimator, *args, **kwargs)\n"
     ]
    },
    {
     "name": "stdout",
     "output_type": "stream",
     "text": [
      "[CV 4/5; 44/108] END max_depth=10, min_samples_leaf=2, min_samples_split=10, n_estimators=100;, score=-0.432 total time=   1.1s\n",
      "[CV 2/5; 46/108] START max_depth=10, min_samples_leaf=4, min_samples_split=2, n_estimators=50\n"
     ]
    },
    {
     "name": "stderr",
     "output_type": "stream",
     "text": [
      "/Users/omardukureh12/anaconda3/lib/python3.11/site-packages/sklearn/base.py:1151: DataConversionWarning: A column-vector y was passed when a 1d array was expected. Please change the shape of y to (n_samples,), for example using ravel().\n",
      "  return fit_method(estimator, *args, **kwargs)\n"
     ]
    },
    {
     "name": "stdout",
     "output_type": "stream",
     "text": [
      "[CV 1/5; 46/108] END max_depth=10, min_samples_leaf=4, min_samples_split=2, n_estimators=50;, score=-0.398 total time=   0.5s\n",
      "[CV 3/5; 46/108] START max_depth=10, min_samples_leaf=4, min_samples_split=2, n_estimators=50\n",
      "[CV 5/5; 44/108] END max_depth=10, min_samples_leaf=2, min_samples_split=10, n_estimators=100;, score=-0.413 total time=   1.0s\n",
      "[CV 4/5; 46/108] START max_depth=10, min_samples_leaf=4, min_samples_split=2, n_estimators=50\n",
      "[CV 2/5; 46/108] END max_depth=10, min_samples_leaf=4, min_samples_split=2, n_estimators=50;, score=-0.463 total time=   0.5s\n"
     ]
    },
    {
     "name": "stderr",
     "output_type": "stream",
     "text": [
      "/Users/omardukureh12/anaconda3/lib/python3.11/site-packages/sklearn/base.py:1151: DataConversionWarning: A column-vector y was passed when a 1d array was expected. Please change the shape of y to (n_samples,), for example using ravel().\n",
      "  return fit_method(estimator, *args, **kwargs)\n",
      "/Users/omardukureh12/anaconda3/lib/python3.11/site-packages/sklearn/base.py:1151: DataConversionWarning: A column-vector y was passed when a 1d array was expected. Please change the shape of y to (n_samples,), for example using ravel().\n",
      "  return fit_method(estimator, *args, **kwargs)\n",
      "/Users/omardukureh12/anaconda3/lib/python3.11/site-packages/sklearn/base.py:1151: DataConversionWarning: A column-vector y was passed when a 1d array was expected. Please change the shape of y to (n_samples,), for example using ravel().\n",
      "  return fit_method(estimator, *args, **kwargs)\n"
     ]
    },
    {
     "name": "stdout",
     "output_type": "stream",
     "text": [
      "[CV 5/5; 46/108] START max_depth=10, min_samples_leaf=4, min_samples_split=2, n_estimators=50\n",
      "[CV 3/5; 46/108] END max_depth=10, min_samples_leaf=4, min_samples_split=2, n_estimators=50;, score=-0.478 total time=   0.5s\n",
      "[CV 1/5; 47/108] START max_depth=10, min_samples_leaf=4, min_samples_split=2, n_estimators=100\n",
      "[CV 4/5; 46/108] END max_depth=10, min_samples_leaf=4, min_samples_split=2, n_estimators=50;, score=-0.426 total time=   0.5s\n",
      "[CV 2/5; 47/108] START max_depth=10, min_samples_leaf=4, min_samples_split=2, n_estimators=100\n",
      "[CV 5/5; 46/108] END max_depth=10, min_samples_leaf=4, min_samples_split=2, n_estimators=50;, score=-0.409 total time=   0.5s\n",
      "[CV 3/5; 47/108] START max_depth=10, min_samples_leaf=4, min_samples_split=2, n_estimators=100\n"
     ]
    },
    {
     "name": "stderr",
     "output_type": "stream",
     "text": [
      "/Users/omardukureh12/anaconda3/lib/python3.11/site-packages/sklearn/base.py:1151: DataConversionWarning: A column-vector y was passed when a 1d array was expected. Please change the shape of y to (n_samples,), for example using ravel().\n",
      "  return fit_method(estimator, *args, **kwargs)\n",
      "/Users/omardukureh12/anaconda3/lib/python3.11/site-packages/sklearn/base.py:1151: DataConversionWarning: A column-vector y was passed when a 1d array was expected. Please change the shape of y to (n_samples,), for example using ravel().\n",
      "  return fit_method(estimator, *args, **kwargs)\n",
      "/Users/omardukureh12/anaconda3/lib/python3.11/site-packages/sklearn/base.py:1151: DataConversionWarning: A column-vector y was passed when a 1d array was expected. Please change the shape of y to (n_samples,), for example using ravel().\n",
      "  return fit_method(estimator, *args, **kwargs)\n"
     ]
    },
    {
     "name": "stdout",
     "output_type": "stream",
     "text": [
      "[CV 1/5; 45/108] END max_depth=10, min_samples_leaf=2, min_samples_split=10, n_estimators=200;, score=-0.403 total time=   1.9s\n",
      "[CV 4/5; 47/108] START max_depth=10, min_samples_leaf=4, min_samples_split=2, n_estimators=100\n",
      "[CV 3/5; 45/108] END max_depth=10, min_samples_leaf=2, min_samples_split=10, n_estimators=200;, score=-0.468 total time=   1.9s\n",
      "[CV 5/5; 47/108] START max_depth=10, min_samples_leaf=4, min_samples_split=2, n_estimators=100\n",
      "[CV 2/5; 45/108] END max_depth=10, min_samples_leaf=2, min_samples_split=10, n_estimators=200;, score=-0.465 total time=   2.0s\n",
      "[CV 1/5; 48/108] START max_depth=10, min_samples_leaf=4, min_samples_split=2, n_estimators=200\n"
     ]
    },
    {
     "name": "stderr",
     "output_type": "stream",
     "text": [
      "/Users/omardukureh12/anaconda3/lib/python3.11/site-packages/sklearn/base.py:1151: DataConversionWarning: A column-vector y was passed when a 1d array was expected. Please change the shape of y to (n_samples,), for example using ravel().\n",
      "  return fit_method(estimator, *args, **kwargs)\n",
      "/Users/omardukureh12/anaconda3/lib/python3.11/site-packages/sklearn/base.py:1151: DataConversionWarning: A column-vector y was passed when a 1d array was expected. Please change the shape of y to (n_samples,), for example using ravel().\n",
      "  return fit_method(estimator, *args, **kwargs)\n",
      "/Users/omardukureh12/anaconda3/lib/python3.11/site-packages/sklearn/base.py:1151: DataConversionWarning: A column-vector y was passed when a 1d array was expected. Please change the shape of y to (n_samples,), for example using ravel().\n",
      "  return fit_method(estimator, *args, **kwargs)\n"
     ]
    },
    {
     "name": "stdout",
     "output_type": "stream",
     "text": [
      "[CV 4/5; 45/108] END max_depth=10, min_samples_leaf=2, min_samples_split=10, n_estimators=200;, score=-0.435 total time=   2.0s\n",
      "[CV 2/5; 48/108] START max_depth=10, min_samples_leaf=4, min_samples_split=2, n_estimators=200\n",
      "[CV 1/5; 47/108] END max_depth=10, min_samples_leaf=4, min_samples_split=2, n_estimators=100;, score=-0.399 total time=   0.9s\n",
      "[CV 3/5; 48/108] START max_depth=10, min_samples_leaf=4, min_samples_split=2, n_estimators=200\n",
      "[CV 2/5; 47/108] END max_depth=10, min_samples_leaf=4, min_samples_split=2, n_estimators=100;, score=-0.465 total time=   0.9s\n",
      "[CV 5/5; 45/108] END max_depth=10, min_samples_leaf=2, min_samples_split=10, n_estimators=200;, score=-0.412 total time=   2.1s\n",
      "[CV 5/5; 48/108] START max_depth=10, min_samples_leaf=4, min_samples_split=2, n_estimators=200\n",
      "[CV 4/5; 48/108] START max_depth=10, min_samples_leaf=4, min_samples_split=2, n_estimators=200\n"
     ]
    },
    {
     "name": "stderr",
     "output_type": "stream",
     "text": [
      "/Users/omardukureh12/anaconda3/lib/python3.11/site-packages/sklearn/base.py:1151: DataConversionWarning: A column-vector y was passed when a 1d array was expected. Please change the shape of y to (n_samples,), for example using ravel().\n",
      "  return fit_method(estimator, *args, **kwargs)\n",
      "/Users/omardukureh12/anaconda3/lib/python3.11/site-packages/sklearn/base.py:1151: DataConversionWarning: A column-vector y was passed when a 1d array was expected. Please change the shape of y to (n_samples,), for example using ravel().\n",
      "  return fit_method(estimator, *args, **kwargs)\n",
      "/Users/omardukureh12/anaconda3/lib/python3.11/site-packages/sklearn/base.py:1151: DataConversionWarning: A column-vector y was passed when a 1d array was expected. Please change the shape of y to (n_samples,), for example using ravel().\n",
      "  return fit_method(estimator, *args, **kwargs)\n",
      "/Users/omardukureh12/anaconda3/lib/python3.11/site-packages/sklearn/base.py:1151: DataConversionWarning: A column-vector y was passed when a 1d array was expected. Please change the shape of y to (n_samples,), for example using ravel().\n",
      "  return fit_method(estimator, *args, **kwargs)\n"
     ]
    },
    {
     "name": "stdout",
     "output_type": "stream",
     "text": [
      "[CV 3/5; 47/108] END max_depth=10, min_samples_leaf=4, min_samples_split=2, n_estimators=100;, score=-0.470 total time=   1.0s\n",
      "[CV 1/5; 49/108] START max_depth=10, min_samples_leaf=4, min_samples_split=5, n_estimators=50\n"
     ]
    },
    {
     "name": "stderr",
     "output_type": "stream",
     "text": [
      "/Users/omardukureh12/anaconda3/lib/python3.11/site-packages/sklearn/base.py:1151: DataConversionWarning: A column-vector y was passed when a 1d array was expected. Please change the shape of y to (n_samples,), for example using ravel().\n",
      "  return fit_method(estimator, *args, **kwargs)\n"
     ]
    },
    {
     "name": "stdout",
     "output_type": "stream",
     "text": [
      "[CV 4/5; 47/108] END max_depth=10, min_samples_leaf=4, min_samples_split=2, n_estimators=100;, score=-0.433 total time=   1.1s\n",
      "[CV 2/5; 49/108] START max_depth=10, min_samples_leaf=4, min_samples_split=5, n_estimators=50\n",
      "[CV 1/5; 49/108] END max_depth=10, min_samples_leaf=4, min_samples_split=5, n_estimators=50;, score=-0.398 total time=   0.7s\n",
      "[CV 3/5; 49/108] START max_depth=10, min_samples_leaf=4, min_samples_split=5, n_estimators=50\n",
      "[CV 5/5; 47/108] END max_depth=10, min_samples_leaf=4, min_samples_split=2, n_estimators=100;, score=-0.412 total time=   1.2s\n",
      "[CV 4/5; 49/108] START max_depth=10, min_samples_leaf=4, min_samples_split=5, n_estimators=50\n"
     ]
    },
    {
     "name": "stderr",
     "output_type": "stream",
     "text": [
      "/Users/omardukureh12/anaconda3/lib/python3.11/site-packages/sklearn/base.py:1151: DataConversionWarning: A column-vector y was passed when a 1d array was expected. Please change the shape of y to (n_samples,), for example using ravel().\n",
      "  return fit_method(estimator, *args, **kwargs)\n",
      "/Users/omardukureh12/anaconda3/lib/python3.11/site-packages/sklearn/base.py:1151: DataConversionWarning: A column-vector y was passed when a 1d array was expected. Please change the shape of y to (n_samples,), for example using ravel().\n",
      "  return fit_method(estimator, *args, **kwargs)\n",
      "/Users/omardukureh12/anaconda3/lib/python3.11/site-packages/sklearn/base.py:1151: DataConversionWarning: A column-vector y was passed when a 1d array was expected. Please change the shape of y to (n_samples,), for example using ravel().\n",
      "  return fit_method(estimator, *args, **kwargs)\n"
     ]
    },
    {
     "name": "stdout",
     "output_type": "stream",
     "text": [
      "[CV 2/5; 49/108] END max_depth=10, min_samples_leaf=4, min_samples_split=5, n_estimators=50;, score=-0.463 total time=   0.5s\n",
      "[CV 5/5; 49/108] START max_depth=10, min_samples_leaf=4, min_samples_split=5, n_estimators=50\n",
      "[CV 3/5; 49/108] END max_depth=10, min_samples_leaf=4, min_samples_split=5, n_estimators=50;, score=-0.478 total time=   0.5s\n",
      "[CV 1/5; 50/108] START max_depth=10, min_samples_leaf=4, min_samples_split=5, n_estimators=100\n",
      "[CV 4/5; 49/108] END max_depth=10, min_samples_leaf=4, min_samples_split=5, n_estimators=50;, score=-0.426 total time=   0.5s\n",
      "[CV 2/5; 50/108] START max_depth=10, min_samples_leaf=4, min_samples_split=5, n_estimators=100\n"
     ]
    },
    {
     "name": "stderr",
     "output_type": "stream",
     "text": [
      "/Users/omardukureh12/anaconda3/lib/python3.11/site-packages/sklearn/base.py:1151: DataConversionWarning: A column-vector y was passed when a 1d array was expected. Please change the shape of y to (n_samples,), for example using ravel().\n",
      "  return fit_method(estimator, *args, **kwargs)\n",
      "/Users/omardukureh12/anaconda3/lib/python3.11/site-packages/sklearn/base.py:1151: DataConversionWarning: A column-vector y was passed when a 1d array was expected. Please change the shape of y to (n_samples,), for example using ravel().\n",
      "  return fit_method(estimator, *args, **kwargs)\n",
      "/Users/omardukureh12/anaconda3/lib/python3.11/site-packages/sklearn/base.py:1151: DataConversionWarning: A column-vector y was passed when a 1d array was expected. Please change the shape of y to (n_samples,), for example using ravel().\n",
      "  return fit_method(estimator, *args, **kwargs)\n"
     ]
    },
    {
     "name": "stdout",
     "output_type": "stream",
     "text": [
      "[CV 5/5; 49/108] END max_depth=10, min_samples_leaf=4, min_samples_split=5, n_estimators=50;, score=-0.409 total time=   0.5s\n",
      "[CV 3/5; 50/108] START max_depth=10, min_samples_leaf=4, min_samples_split=5, n_estimators=100\n",
      "[CV 2/5; 48/108] END max_depth=10, min_samples_leaf=4, min_samples_split=2, n_estimators=200;, score=-0.468 total time=   2.0s\n",
      "[CV 4/5; 50/108] START max_depth=10, min_samples_leaf=4, min_samples_split=5, n_estimators=100\n",
      "[CV 1/5; 48/108] END max_depth=10, min_samples_leaf=4, min_samples_split=2, n_estimators=200;, score=-0.398 total time=   2.1s\n",
      "[CV 5/5; 50/108] START max_depth=10, min_samples_leaf=4, min_samples_split=5, n_estimators=100\n"
     ]
    },
    {
     "name": "stderr",
     "output_type": "stream",
     "text": [
      "/Users/omardukureh12/anaconda3/lib/python3.11/site-packages/sklearn/base.py:1151: DataConversionWarning: A column-vector y was passed when a 1d array was expected. Please change the shape of y to (n_samples,), for example using ravel().\n",
      "  return fit_method(estimator, *args, **kwargs)\n",
      "/Users/omardukureh12/anaconda3/lib/python3.11/site-packages/sklearn/base.py:1151: DataConversionWarning: A column-vector y was passed when a 1d array was expected. Please change the shape of y to (n_samples,), for example using ravel().\n",
      "  return fit_method(estimator, *args, **kwargs)\n",
      "/Users/omardukureh12/anaconda3/lib/python3.11/site-packages/sklearn/base.py:1151: DataConversionWarning: A column-vector y was passed when a 1d array was expected. Please change the shape of y to (n_samples,), for example using ravel().\n",
      "  return fit_method(estimator, *args, **kwargs)\n"
     ]
    },
    {
     "name": "stdout",
     "output_type": "stream",
     "text": [
      "[CV 3/5; 48/108] END max_depth=10, min_samples_leaf=4, min_samples_split=2, n_estimators=200;, score=-0.470 total time=   2.1s\n",
      "[CV 1/5; 51/108] START max_depth=10, min_samples_leaf=4, min_samples_split=5, n_estimators=200\n",
      "[CV 4/5; 48/108] END max_depth=10, min_samples_leaf=4, min_samples_split=2, n_estimators=200;, score=-0.438 total time=   2.1s\n",
      "[CV 2/5; 51/108] START max_depth=10, min_samples_leaf=4, min_samples_split=5, n_estimators=200\n",
      "[CV 2/5; 50/108] END max_depth=10, min_samples_leaf=4, min_samples_split=5, n_estimators=100;, score=-0.465 total time=   0.8s\n",
      "[CV 3/5; 51/108] START max_depth=10, min_samples_leaf=4, min_samples_split=5, n_estimators=200\n",
      "[CV 5/5; 48/108] END max_depth=10, min_samples_leaf=4, min_samples_split=2, n_estimators=200;, score=-0.411 total time=   2.2s\n",
      "[CV 4/5; 51/108] START max_depth=10, min_samples_leaf=4, min_samples_split=5, n_estimators=200\n"
     ]
    },
    {
     "name": "stderr",
     "output_type": "stream",
     "text": [
      "/Users/omardukureh12/anaconda3/lib/python3.11/site-packages/sklearn/base.py:1151: DataConversionWarning: A column-vector y was passed when a 1d array was expected. Please change the shape of y to (n_samples,), for example using ravel().\n",
      "  return fit_method(estimator, *args, **kwargs)\n",
      "/Users/omardukureh12/anaconda3/lib/python3.11/site-packages/sklearn/base.py:1151: DataConversionWarning: A column-vector y was passed when a 1d array was expected. Please change the shape of y to (n_samples,), for example using ravel().\n",
      "  return fit_method(estimator, *args, **kwargs)\n",
      "/Users/omardukureh12/anaconda3/lib/python3.11/site-packages/sklearn/base.py:1151: DataConversionWarning: A column-vector y was passed when a 1d array was expected. Please change the shape of y to (n_samples,), for example using ravel().\n",
      "  return fit_method(estimator, *args, **kwargs)\n",
      "/Users/omardukureh12/anaconda3/lib/python3.11/site-packages/sklearn/base.py:1151: DataConversionWarning: A column-vector y was passed when a 1d array was expected. Please change the shape of y to (n_samples,), for example using ravel().\n",
      "  return fit_method(estimator, *args, **kwargs)\n"
     ]
    },
    {
     "name": "stdout",
     "output_type": "stream",
     "text": [
      "[CV 1/5; 50/108] END max_depth=10, min_samples_leaf=4, min_samples_split=5, n_estimators=100;, score=-0.399 total time=   0.9s\n",
      "[CV 5/5; 51/108] START max_depth=10, min_samples_leaf=4, min_samples_split=5, n_estimators=200\n"
     ]
    },
    {
     "name": "stderr",
     "output_type": "stream",
     "text": [
      "/Users/omardukureh12/anaconda3/lib/python3.11/site-packages/sklearn/base.py:1151: DataConversionWarning: A column-vector y was passed when a 1d array was expected. Please change the shape of y to (n_samples,), for example using ravel().\n",
      "  return fit_method(estimator, *args, **kwargs)\n"
     ]
    },
    {
     "name": "stdout",
     "output_type": "stream",
     "text": [
      "[CV 4/5; 50/108] END max_depth=10, min_samples_leaf=4, min_samples_split=5, n_estimators=100;, score=-0.433 total time=   0.9s\n",
      "[CV 3/5; 50/108] END max_depth=10, min_samples_leaf=4, min_samples_split=5, n_estimators=100;, score=-0.470 total time=   0.9s\n",
      "[CV 1/5; 52/108] START max_depth=10, min_samples_leaf=4, min_samples_split=10, n_estimators=50\n",
      "[CV 5/5; 50/108] END max_depth=10, min_samples_leaf=4, min_samples_split=5, n_estimators=100;, score=-0.412 total time=   0.9s\n",
      "[CV 2/5; 52/108] START max_depth=10, min_samples_leaf=4, min_samples_split=10, n_estimators=50\n",
      "[CV 3/5; 52/108] START max_depth=10, min_samples_leaf=4, min_samples_split=10, n_estimators=50\n"
     ]
    },
    {
     "name": "stderr",
     "output_type": "stream",
     "text": [
      "/Users/omardukureh12/anaconda3/lib/python3.11/site-packages/sklearn/base.py:1151: DataConversionWarning: A column-vector y was passed when a 1d array was expected. Please change the shape of y to (n_samples,), for example using ravel().\n",
      "  return fit_method(estimator, *args, **kwargs)\n",
      "/Users/omardukureh12/anaconda3/lib/python3.11/site-packages/sklearn/base.py:1151: DataConversionWarning: A column-vector y was passed when a 1d array was expected. Please change the shape of y to (n_samples,), for example using ravel().\n",
      "  return fit_method(estimator, *args, **kwargs)\n",
      "/Users/omardukureh12/anaconda3/lib/python3.11/site-packages/sklearn/base.py:1151: DataConversionWarning: A column-vector y was passed when a 1d array was expected. Please change the shape of y to (n_samples,), for example using ravel().\n",
      "  return fit_method(estimator, *args, **kwargs)\n"
     ]
    },
    {
     "name": "stdout",
     "output_type": "stream",
     "text": [
      "[CV 1/5; 52/108] END max_depth=10, min_samples_leaf=4, min_samples_split=10, n_estimators=50;, score=-0.402 total time=   0.4s\n",
      "[CV 4/5; 52/108] START max_depth=10, min_samples_leaf=4, min_samples_split=10, n_estimators=50\n",
      "[CV 3/5; 52/108] END max_depth=10, min_samples_leaf=4, min_samples_split=10, n_estimators=50;, score=-0.481 total time=   0.4s\n",
      "[CV 5/5; 52/108] START max_depth=10, min_samples_leaf=4, min_samples_split=10, n_estimators=50\n",
      "[CV 2/5; 52/108] END max_depth=10, min_samples_leaf=4, min_samples_split=10, n_estimators=50;, score=-0.470 total time=   0.4s\n",
      "[CV 1/5; 53/108] START max_depth=10, min_samples_leaf=4, min_samples_split=10, n_estimators=100\n"
     ]
    },
    {
     "name": "stderr",
     "output_type": "stream",
     "text": [
      "/Users/omardukureh12/anaconda3/lib/python3.11/site-packages/sklearn/base.py:1151: DataConversionWarning: A column-vector y was passed when a 1d array was expected. Please change the shape of y to (n_samples,), for example using ravel().\n",
      "  return fit_method(estimator, *args, **kwargs)\n",
      "/Users/omardukureh12/anaconda3/lib/python3.11/site-packages/sklearn/base.py:1151: DataConversionWarning: A column-vector y was passed when a 1d array was expected. Please change the shape of y to (n_samples,), for example using ravel().\n",
      "  return fit_method(estimator, *args, **kwargs)\n",
      "/Users/omardukureh12/anaconda3/lib/python3.11/site-packages/sklearn/base.py:1151: DataConversionWarning: A column-vector y was passed when a 1d array was expected. Please change the shape of y to (n_samples,), for example using ravel().\n",
      "  return fit_method(estimator, *args, **kwargs)\n"
     ]
    },
    {
     "name": "stdout",
     "output_type": "stream",
     "text": [
      "[CV 4/5; 52/108] END max_depth=10, min_samples_leaf=4, min_samples_split=10, n_estimators=50;, score=-0.434 total time=   0.4s\n",
      "[CV 2/5; 53/108] START max_depth=10, min_samples_leaf=4, min_samples_split=10, n_estimators=100\n",
      "[CV 5/5; 52/108] END max_depth=10, min_samples_leaf=4, min_samples_split=10, n_estimators=50;, score=-0.410 total time=   0.4s\n",
      "[CV 3/5; 53/108] START max_depth=10, min_samples_leaf=4, min_samples_split=10, n_estimators=100\n"
     ]
    },
    {
     "name": "stderr",
     "output_type": "stream",
     "text": [
      "/Users/omardukureh12/anaconda3/lib/python3.11/site-packages/sklearn/base.py:1151: DataConversionWarning: A column-vector y was passed when a 1d array was expected. Please change the shape of y to (n_samples,), for example using ravel().\n",
      "  return fit_method(estimator, *args, **kwargs)\n",
      "/Users/omardukureh12/anaconda3/lib/python3.11/site-packages/sklearn/base.py:1151: DataConversionWarning: A column-vector y was passed when a 1d array was expected. Please change the shape of y to (n_samples,), for example using ravel().\n",
      "  return fit_method(estimator, *args, **kwargs)\n"
     ]
    },
    {
     "name": "stdout",
     "output_type": "stream",
     "text": [
      "[CV 1/5; 51/108] END max_depth=10, min_samples_leaf=4, min_samples_split=5, n_estimators=200;, score=-0.398 total time=   1.7s\n",
      "[CV 4/5; 53/108] START max_depth=10, min_samples_leaf=4, min_samples_split=10, n_estimators=100\n",
      "[CV 2/5; 51/108] END max_depth=10, min_samples_leaf=4, min_samples_split=5, n_estimators=200;, score=-0.468 total time=   1.7s\n",
      "[CV 5/5; 53/108] START max_depth=10, min_samples_leaf=4, min_samples_split=10, n_estimators=100\n",
      "[CV 3/5; 51/108] END max_depth=10, min_samples_leaf=4, min_samples_split=5, n_estimators=200;, score=-0.470 total time=   1.7s\n",
      "[CV 1/5; 54/108] START max_depth=10, min_samples_leaf=4, min_samples_split=10, n_estimators=200\n",
      "[CV 4/5; 51/108] END max_depth=10, min_samples_leaf=4, min_samples_split=5, n_estimators=200;, score=-0.438 total time=   1.7s\n",
      "[CV 2/5; 54/108] START max_depth=10, min_samples_leaf=4, min_samples_split=10, n_estimators=200\n"
     ]
    },
    {
     "name": "stderr",
     "output_type": "stream",
     "text": [
      "/Users/omardukureh12/anaconda3/lib/python3.11/site-packages/sklearn/base.py:1151: DataConversionWarning: A column-vector y was passed when a 1d array was expected. Please change the shape of y to (n_samples,), for example using ravel().\n",
      "  return fit_method(estimator, *args, **kwargs)\n",
      "/Users/omardukureh12/anaconda3/lib/python3.11/site-packages/sklearn/base.py:1151: DataConversionWarning: A column-vector y was passed when a 1d array was expected. Please change the shape of y to (n_samples,), for example using ravel().\n",
      "  return fit_method(estimator, *args, **kwargs)\n",
      "/Users/omardukureh12/anaconda3/lib/python3.11/site-packages/sklearn/base.py:1151: DataConversionWarning: A column-vector y was passed when a 1d array was expected. Please change the shape of y to (n_samples,), for example using ravel().\n",
      "  return fit_method(estimator, *args, **kwargs)\n",
      "/Users/omardukureh12/anaconda3/lib/python3.11/site-packages/sklearn/base.py:1151: DataConversionWarning: A column-vector y was passed when a 1d array was expected. Please change the shape of y to (n_samples,), for example using ravel().\n",
      "  return fit_method(estimator, *args, **kwargs)\n"
     ]
    },
    {
     "name": "stdout",
     "output_type": "stream",
     "text": [
      "[CV 5/5; 51/108] END max_depth=10, min_samples_leaf=4, min_samples_split=5, n_estimators=200;, score=-0.411 total time=   1.8s\n",
      "[CV 3/5; 54/108] START max_depth=10, min_samples_leaf=4, min_samples_split=10, n_estimators=200\n",
      "[CV 1/5; 53/108] END max_depth=10, min_samples_leaf=4, min_samples_split=10, n_estimators=100;, score=-0.400 total time=   1.0s\n",
      "[CV 4/5; 54/108] START max_depth=10, min_samples_leaf=4, min_samples_split=10, n_estimators=200\n"
     ]
    },
    {
     "name": "stderr",
     "output_type": "stream",
     "text": [
      "/Users/omardukureh12/anaconda3/lib/python3.11/site-packages/sklearn/base.py:1151: DataConversionWarning: A column-vector y was passed when a 1d array was expected. Please change the shape of y to (n_samples,), for example using ravel().\n",
      "  return fit_method(estimator, *args, **kwargs)\n",
      "/Users/omardukureh12/anaconda3/lib/python3.11/site-packages/sklearn/base.py:1151: DataConversionWarning: A column-vector y was passed when a 1d array was expected. Please change the shape of y to (n_samples,), for example using ravel().\n",
      "  return fit_method(estimator, *args, **kwargs)\n"
     ]
    },
    {
     "name": "stdout",
     "output_type": "stream",
     "text": [
      "[CV 2/5; 53/108] END max_depth=10, min_samples_leaf=4, min_samples_split=10, n_estimators=100;, score=-0.471 total time=   1.0s\n",
      "[CV 5/5; 54/108] START max_depth=10, min_samples_leaf=4, min_samples_split=10, n_estimators=200\n",
      "[CV 3/5; 53/108] END max_depth=10, min_samples_leaf=4, min_samples_split=10, n_estimators=100;, score=-0.473 total time=   1.1s\n",
      "[CV 1/5; 55/108] START max_depth=20, min_samples_leaf=1, min_samples_split=2, n_estimators=50\n"
     ]
    },
    {
     "name": "stderr",
     "output_type": "stream",
     "text": [
      "/Users/omardukureh12/anaconda3/lib/python3.11/site-packages/sklearn/base.py:1151: DataConversionWarning: A column-vector y was passed when a 1d array was expected. Please change the shape of y to (n_samples,), for example using ravel().\n",
      "  return fit_method(estimator, *args, **kwargs)\n",
      "/Users/omardukureh12/anaconda3/lib/python3.11/site-packages/sklearn/base.py:1151: DataConversionWarning: A column-vector y was passed when a 1d array was expected. Please change the shape of y to (n_samples,), for example using ravel().\n",
      "  return fit_method(estimator, *args, **kwargs)\n"
     ]
    },
    {
     "name": "stdout",
     "output_type": "stream",
     "text": [
      "[CV 5/5; 53/108] END max_depth=10, min_samples_leaf=4, min_samples_split=10, n_estimators=100;, score=-0.414 total time=   1.0s\n",
      "[CV 2/5; 55/108] START max_depth=20, min_samples_leaf=1, min_samples_split=2, n_estimators=50\n",
      "[CV 4/5; 53/108] END max_depth=10, min_samples_leaf=4, min_samples_split=10, n_estimators=100;, score=-0.440 total time=   1.1s\n",
      "[CV 3/5; 55/108] START max_depth=20, min_samples_leaf=1, min_samples_split=2, n_estimators=50\n"
     ]
    },
    {
     "name": "stderr",
     "output_type": "stream",
     "text": [
      "/Users/omardukureh12/anaconda3/lib/python3.11/site-packages/sklearn/base.py:1151: DataConversionWarning: A column-vector y was passed when a 1d array was expected. Please change the shape of y to (n_samples,), for example using ravel().\n",
      "  return fit_method(estimator, *args, **kwargs)\n",
      "/Users/omardukureh12/anaconda3/lib/python3.11/site-packages/sklearn/base.py:1151: DataConversionWarning: A column-vector y was passed when a 1d array was expected. Please change the shape of y to (n_samples,), for example using ravel().\n",
      "  return fit_method(estimator, *args, **kwargs)\n"
     ]
    },
    {
     "name": "stdout",
     "output_type": "stream",
     "text": [
      "[CV 1/5; 55/108] END max_depth=20, min_samples_leaf=1, min_samples_split=2, n_estimators=50;, score=-0.409 total time=   0.7s\n",
      "[CV 4/5; 55/108] START max_depth=20, min_samples_leaf=1, min_samples_split=2, n_estimators=50\n",
      "[CV 2/5; 55/108] END max_depth=20, min_samples_leaf=1, min_samples_split=2, n_estimators=50;, score=-0.452 total time=   0.7s\n",
      "[CV 5/5; 55/108] START max_depth=20, min_samples_leaf=1, min_samples_split=2, n_estimators=50\n",
      "[CV 3/5; 55/108] END max_depth=20, min_samples_leaf=1, min_samples_split=2, n_estimators=50;, score=-0.474 total time=   0.7s\n",
      "[CV 1/5; 56/108] START max_depth=20, min_samples_leaf=1, min_samples_split=2, n_estimators=100\n"
     ]
    },
    {
     "name": "stderr",
     "output_type": "stream",
     "text": [
      "/Users/omardukureh12/anaconda3/lib/python3.11/site-packages/sklearn/base.py:1151: DataConversionWarning: A column-vector y was passed when a 1d array was expected. Please change the shape of y to (n_samples,), for example using ravel().\n",
      "  return fit_method(estimator, *args, **kwargs)\n",
      "/Users/omardukureh12/anaconda3/lib/python3.11/site-packages/sklearn/base.py:1151: DataConversionWarning: A column-vector y was passed when a 1d array was expected. Please change the shape of y to (n_samples,), for example using ravel().\n",
      "  return fit_method(estimator, *args, **kwargs)\n",
      "/Users/omardukureh12/anaconda3/lib/python3.11/site-packages/sklearn/base.py:1151: DataConversionWarning: A column-vector y was passed when a 1d array was expected. Please change the shape of y to (n_samples,), for example using ravel().\n",
      "  return fit_method(estimator, *args, **kwargs)\n"
     ]
    },
    {
     "name": "stdout",
     "output_type": "stream",
     "text": [
      "[CV 1/5; 54/108] END max_depth=10, min_samples_leaf=4, min_samples_split=10, n_estimators=200;, score=-0.399 total time=   2.0s\n",
      "[CV 2/5; 56/108] START max_depth=20, min_samples_leaf=1, min_samples_split=2, n_estimators=100\n",
      "[CV 2/5; 54/108] END max_depth=10, min_samples_leaf=4, min_samples_split=10, n_estimators=200;, score=-0.472 total time=   1.9s\n",
      "[CV 3/5; 56/108] START max_depth=20, min_samples_leaf=1, min_samples_split=2, n_estimators=100\n",
      "[CV 3/5; 54/108] END max_depth=10, min_samples_leaf=4, min_samples_split=10, n_estimators=200;, score=-0.473 total time=   1.9s\n",
      "[CV 4/5; 56/108] START max_depth=20, min_samples_leaf=1, min_samples_split=2, n_estimators=100\n",
      "[CV 4/5; 54/108] END max_depth=10, min_samples_leaf=4, min_samples_split=10, n_estimators=200;, score=-0.444 total time=   1.8s\n",
      "[CV 5/5; 56/108] START max_depth=20, min_samples_leaf=1, min_samples_split=2, n_estimators=100\n"
     ]
    },
    {
     "name": "stderr",
     "output_type": "stream",
     "text": [
      "/Users/omardukureh12/anaconda3/lib/python3.11/site-packages/sklearn/base.py:1151: DataConversionWarning: A column-vector y was passed when a 1d array was expected. Please change the shape of y to (n_samples,), for example using ravel().\n",
      "  return fit_method(estimator, *args, **kwargs)\n",
      "/Users/omardukureh12/anaconda3/lib/python3.11/site-packages/sklearn/base.py:1151: DataConversionWarning: A column-vector y was passed when a 1d array was expected. Please change the shape of y to (n_samples,), for example using ravel().\n",
      "  return fit_method(estimator, *args, **kwargs)\n",
      "/Users/omardukureh12/anaconda3/lib/python3.11/site-packages/sklearn/base.py:1151: DataConversionWarning: A column-vector y was passed when a 1d array was expected. Please change the shape of y to (n_samples,), for example using ravel().\n",
      "  return fit_method(estimator, *args, **kwargs)\n",
      "/Users/omardukureh12/anaconda3/lib/python3.11/site-packages/sklearn/base.py:1151: DataConversionWarning: A column-vector y was passed when a 1d array was expected. Please change the shape of y to (n_samples,), for example using ravel().\n",
      "  return fit_method(estimator, *args, **kwargs)\n"
     ]
    },
    {
     "name": "stdout",
     "output_type": "stream",
     "text": [
      "[CV 4/5; 55/108] END max_depth=20, min_samples_leaf=1, min_samples_split=2, n_estimators=50;, score=-0.408 total time=   0.7s\n",
      "[CV 1/5; 57/108] START max_depth=20, min_samples_leaf=1, min_samples_split=2, n_estimators=200\n",
      "[CV 5/5; 55/108] END max_depth=20, min_samples_leaf=1, min_samples_split=2, n_estimators=50;, score=-0.420 total time=   0.7s\n",
      "[CV 2/5; 57/108] START max_depth=20, min_samples_leaf=1, min_samples_split=2, n_estimators=200\n"
     ]
    },
    {
     "name": "stderr",
     "output_type": "stream",
     "text": [
      "/Users/omardukureh12/anaconda3/lib/python3.11/site-packages/sklearn/base.py:1151: DataConversionWarning: A column-vector y was passed when a 1d array was expected. Please change the shape of y to (n_samples,), for example using ravel().\n",
      "  return fit_method(estimator, *args, **kwargs)\n",
      "/Users/omardukureh12/anaconda3/lib/python3.11/site-packages/sklearn/base.py:1151: DataConversionWarning: A column-vector y was passed when a 1d array was expected. Please change the shape of y to (n_samples,), for example using ravel().\n",
      "  return fit_method(estimator, *args, **kwargs)\n"
     ]
    },
    {
     "name": "stdout",
     "output_type": "stream",
     "text": [
      "[CV 5/5; 54/108] END max_depth=10, min_samples_leaf=4, min_samples_split=10, n_estimators=200;, score=-0.411 total time=   1.8s\n",
      "[CV 3/5; 57/108] START max_depth=20, min_samples_leaf=1, min_samples_split=2, n_estimators=200\n"
     ]
    },
    {
     "name": "stderr",
     "output_type": "stream",
     "text": [
      "/Users/omardukureh12/anaconda3/lib/python3.11/site-packages/sklearn/base.py:1151: DataConversionWarning: A column-vector y was passed when a 1d array was expected. Please change the shape of y to (n_samples,), for example using ravel().\n",
      "  return fit_method(estimator, *args, **kwargs)\n"
     ]
    },
    {
     "name": "stdout",
     "output_type": "stream",
     "text": [
      "[CV 1/5; 56/108] END max_depth=20, min_samples_leaf=1, min_samples_split=2, n_estimators=100;, score=-0.404 total time=   1.5s\n",
      "[CV 4/5; 57/108] START max_depth=20, min_samples_leaf=1, min_samples_split=2, n_estimators=200\n",
      "[CV 2/5; 56/108] END max_depth=20, min_samples_leaf=1, min_samples_split=2, n_estimators=100;, score=-0.453 total time=   1.3s\n",
      "[CV 5/5; 57/108] START max_depth=20, min_samples_leaf=1, min_samples_split=2, n_estimators=200\n"
     ]
    },
    {
     "name": "stderr",
     "output_type": "stream",
     "text": [
      "/Users/omardukureh12/anaconda3/lib/python3.11/site-packages/sklearn/base.py:1151: DataConversionWarning: A column-vector y was passed when a 1d array was expected. Please change the shape of y to (n_samples,), for example using ravel().\n",
      "  return fit_method(estimator, *args, **kwargs)\n",
      "/Users/omardukureh12/anaconda3/lib/python3.11/site-packages/sklearn/base.py:1151: DataConversionWarning: A column-vector y was passed when a 1d array was expected. Please change the shape of y to (n_samples,), for example using ravel().\n",
      "  return fit_method(estimator, *args, **kwargs)\n"
     ]
    },
    {
     "name": "stdout",
     "output_type": "stream",
     "text": [
      "[CV 3/5; 56/108] END max_depth=20, min_samples_leaf=1, min_samples_split=2, n_estimators=100;, score=-0.466 total time=   1.7s\n",
      "[CV 1/5; 58/108] START max_depth=20, min_samples_leaf=1, min_samples_split=5, n_estimators=50\n",
      "[CV 4/5; 56/108] END max_depth=20, min_samples_leaf=1, min_samples_split=2, n_estimators=100;, score=-0.408 total time=   1.6s\n",
      "[CV 2/5; 58/108] START max_depth=20, min_samples_leaf=1, min_samples_split=5, n_estimators=50\n",
      "[CV 5/5; 56/108] END max_depth=20, min_samples_leaf=1, min_samples_split=2, n_estimators=100;, score=-0.413 total time=   1.6s\n",
      "[CV 3/5; 58/108] START max_depth=20, min_samples_leaf=1, min_samples_split=5, n_estimators=50\n"
     ]
    },
    {
     "name": "stderr",
     "output_type": "stream",
     "text": [
      "/Users/omardukureh12/anaconda3/lib/python3.11/site-packages/sklearn/base.py:1151: DataConversionWarning: A column-vector y was passed when a 1d array was expected. Please change the shape of y to (n_samples,), for example using ravel().\n",
      "  return fit_method(estimator, *args, **kwargs)\n",
      "/Users/omardukureh12/anaconda3/lib/python3.11/site-packages/sklearn/base.py:1151: DataConversionWarning: A column-vector y was passed when a 1d array was expected. Please change the shape of y to (n_samples,), for example using ravel().\n",
      "  return fit_method(estimator, *args, **kwargs)\n",
      "/Users/omardukureh12/anaconda3/lib/python3.11/site-packages/sklearn/base.py:1151: DataConversionWarning: A column-vector y was passed when a 1d array was expected. Please change the shape of y to (n_samples,), for example using ravel().\n",
      "  return fit_method(estimator, *args, **kwargs)\n"
     ]
    },
    {
     "name": "stdout",
     "output_type": "stream",
     "text": [
      "[CV 1/5; 58/108] END max_depth=20, min_samples_leaf=1, min_samples_split=5, n_estimators=50;, score=-0.410 total time=   0.6s\n",
      "[CV 2/5; 58/108] END max_depth=20, min_samples_leaf=1, min_samples_split=5, n_estimators=50;, score=-0.448 total time=   0.6s\n",
      "[CV 4/5; 58/108] START max_depth=20, min_samples_leaf=1, min_samples_split=5, n_estimators=50\n",
      "[CV 5/5; 58/108] START max_depth=20, min_samples_leaf=1, min_samples_split=5, n_estimators=50\n",
      "[CV 3/5; 58/108] END max_depth=20, min_samples_leaf=1, min_samples_split=5, n_estimators=50;, score=-0.468 total time=   0.6s\n",
      "[CV 1/5; 59/108] START max_depth=20, min_samples_leaf=1, min_samples_split=5, n_estimators=100\n"
     ]
    },
    {
     "name": "stderr",
     "output_type": "stream",
     "text": [
      "/Users/omardukureh12/anaconda3/lib/python3.11/site-packages/sklearn/base.py:1151: DataConversionWarning: A column-vector y was passed when a 1d array was expected. Please change the shape of y to (n_samples,), for example using ravel().\n",
      "  return fit_method(estimator, *args, **kwargs)\n",
      "/Users/omardukureh12/anaconda3/lib/python3.11/site-packages/sklearn/base.py:1151: DataConversionWarning: A column-vector y was passed when a 1d array was expected. Please change the shape of y to (n_samples,), for example using ravel().\n",
      "  return fit_method(estimator, *args, **kwargs)\n",
      "/Users/omardukureh12/anaconda3/lib/python3.11/site-packages/sklearn/base.py:1151: DataConversionWarning: A column-vector y was passed when a 1d array was expected. Please change the shape of y to (n_samples,), for example using ravel().\n",
      "  return fit_method(estimator, *args, **kwargs)\n"
     ]
    },
    {
     "name": "stdout",
     "output_type": "stream",
     "text": [
      "[CV 4/5; 58/108] END max_depth=20, min_samples_leaf=1, min_samples_split=5, n_estimators=50;, score=-0.413 total time=   0.6s\n",
      "[CV 2/5; 59/108] START max_depth=20, min_samples_leaf=1, min_samples_split=5, n_estimators=100\n",
      "[CV 5/5; 58/108] END max_depth=20, min_samples_leaf=1, min_samples_split=5, n_estimators=50;, score=-0.417 total time=   0.7s\n",
      "[CV 3/5; 59/108] START max_depth=20, min_samples_leaf=1, min_samples_split=5, n_estimators=100\n"
     ]
    },
    {
     "name": "stderr",
     "output_type": "stream",
     "text": [
      "/Users/omardukureh12/anaconda3/lib/python3.11/site-packages/sklearn/base.py:1151: DataConversionWarning: A column-vector y was passed when a 1d array was expected. Please change the shape of y to (n_samples,), for example using ravel().\n",
      "  return fit_method(estimator, *args, **kwargs)\n",
      "/Users/omardukureh12/anaconda3/lib/python3.11/site-packages/sklearn/base.py:1151: DataConversionWarning: A column-vector y was passed when a 1d array was expected. Please change the shape of y to (n_samples,), for example using ravel().\n",
      "  return fit_method(estimator, *args, **kwargs)\n"
     ]
    },
    {
     "name": "stdout",
     "output_type": "stream",
     "text": [
      "[CV 1/5; 57/108] END max_depth=20, min_samples_leaf=1, min_samples_split=2, n_estimators=200;, score=-0.398 total time=   3.1s\n",
      "[CV 4/5; 59/108] START max_depth=20, min_samples_leaf=1, min_samples_split=5, n_estimators=100\n",
      "[CV 2/5; 57/108] END max_depth=20, min_samples_leaf=1, min_samples_split=2, n_estimators=200;, score=-0.453 total time=   3.1s\n",
      "[CV 5/5; 59/108] START max_depth=20, min_samples_leaf=1, min_samples_split=5, n_estimators=100\n",
      "[CV 3/5; 57/108] END max_depth=20, min_samples_leaf=1, min_samples_split=2, n_estimators=200;, score=-0.464 total time=   3.1s\n",
      "[CV 1/5; 60/108] START max_depth=20, min_samples_leaf=1, min_samples_split=5, n_estimators=200\n"
     ]
    },
    {
     "name": "stderr",
     "output_type": "stream",
     "text": [
      "/Users/omardukureh12/anaconda3/lib/python3.11/site-packages/sklearn/base.py:1151: DataConversionWarning: A column-vector y was passed when a 1d array was expected. Please change the shape of y to (n_samples,), for example using ravel().\n",
      "  return fit_method(estimator, *args, **kwargs)\n",
      "/Users/omardukureh12/anaconda3/lib/python3.11/site-packages/sklearn/base.py:1151: DataConversionWarning: A column-vector y was passed when a 1d array was expected. Please change the shape of y to (n_samples,), for example using ravel().\n",
      "  return fit_method(estimator, *args, **kwargs)\n",
      "/Users/omardukureh12/anaconda3/lib/python3.11/site-packages/sklearn/base.py:1151: DataConversionWarning: A column-vector y was passed when a 1d array was expected. Please change the shape of y to (n_samples,), for example using ravel().\n",
      "  return fit_method(estimator, *args, **kwargs)\n"
     ]
    },
    {
     "name": "stdout",
     "output_type": "stream",
     "text": [
      "[CV 1/5; 59/108] END max_depth=20, min_samples_leaf=1, min_samples_split=5, n_estimators=100;, score=-0.406 total time=   1.3s\n",
      "[CV 2/5; 60/108] START max_depth=20, min_samples_leaf=1, min_samples_split=5, n_estimators=200\n"
     ]
    },
    {
     "name": "stderr",
     "output_type": "stream",
     "text": [
      "/Users/omardukureh12/anaconda3/lib/python3.11/site-packages/sklearn/base.py:1151: DataConversionWarning: A column-vector y was passed when a 1d array was expected. Please change the shape of y to (n_samples,), for example using ravel().\n",
      "  return fit_method(estimator, *args, **kwargs)\n"
     ]
    },
    {
     "name": "stdout",
     "output_type": "stream",
     "text": [
      "[CV 4/5; 57/108] END max_depth=20, min_samples_leaf=1, min_samples_split=2, n_estimators=200;, score=-0.412 total time=   2.9s\n",
      "[CV 3/5; 60/108] START max_depth=20, min_samples_leaf=1, min_samples_split=5, n_estimators=200\n",
      "[CV 2/5; 59/108] END max_depth=20, min_samples_leaf=1, min_samples_split=5, n_estimators=100;, score=-0.451 total time=   1.2s\n",
      "[CV 4/5; 60/108] START max_depth=20, min_samples_leaf=1, min_samples_split=5, n_estimators=200\n",
      "[CV 3/5; 59/108] END max_depth=20, min_samples_leaf=1, min_samples_split=5, n_estimators=100;, score=-0.467 total time=   1.2s\n",
      "[CV 5/5; 60/108] START max_depth=20, min_samples_leaf=1, min_samples_split=5, n_estimators=200\n",
      "[CV 5/5; 57/108] END max_depth=20, min_samples_leaf=1, min_samples_split=2, n_estimators=200;, score=-0.413 total time=   3.0s\n"
     ]
    },
    {
     "name": "stderr",
     "output_type": "stream",
     "text": [
      "/Users/omardukureh12/anaconda3/lib/python3.11/site-packages/sklearn/base.py:1151: DataConversionWarning: A column-vector y was passed when a 1d array was expected. Please change the shape of y to (n_samples,), for example using ravel().\n",
      "  return fit_method(estimator, *args, **kwargs)\n",
      "/Users/omardukureh12/anaconda3/lib/python3.11/site-packages/sklearn/base.py:1151: DataConversionWarning: A column-vector y was passed when a 1d array was expected. Please change the shape of y to (n_samples,), for example using ravel().\n",
      "  return fit_method(estimator, *args, **kwargs)\n",
      "/Users/omardukureh12/anaconda3/lib/python3.11/site-packages/sklearn/base.py:1151: DataConversionWarning: A column-vector y was passed when a 1d array was expected. Please change the shape of y to (n_samples,), for example using ravel().\n",
      "  return fit_method(estimator, *args, **kwargs)\n",
      "/Users/omardukureh12/anaconda3/lib/python3.11/site-packages/sklearn/base.py:1151: DataConversionWarning: A column-vector y was passed when a 1d array was expected. Please change the shape of y to (n_samples,), for example using ravel().\n",
      "  return fit_method(estimator, *args, **kwargs)\n"
     ]
    },
    {
     "name": "stdout",
     "output_type": "stream",
     "text": [
      "[CV 1/5; 61/108] START max_depth=20, min_samples_leaf=1, min_samples_split=10, n_estimators=50\n",
      "[CV 4/5; 59/108] END max_depth=20, min_samples_leaf=1, min_samples_split=5, n_estimators=100;, score=-0.413 total time=   1.2s\n",
      "[CV 2/5; 61/108] START max_depth=20, min_samples_leaf=1, min_samples_split=10, n_estimators=50\n",
      "[CV 5/5; 59/108] END max_depth=20, min_samples_leaf=1, min_samples_split=5, n_estimators=100;, score=-0.412 total time=   1.2s\n",
      "[CV 3/5; 61/108] START max_depth=20, min_samples_leaf=1, min_samples_split=10, n_estimators=50\n"
     ]
    },
    {
     "name": "stderr",
     "output_type": "stream",
     "text": [
      "/Users/omardukureh12/anaconda3/lib/python3.11/site-packages/sklearn/base.py:1151: DataConversionWarning: A column-vector y was passed when a 1d array was expected. Please change the shape of y to (n_samples,), for example using ravel().\n",
      "  return fit_method(estimator, *args, **kwargs)\n",
      "/Users/omardukureh12/anaconda3/lib/python3.11/site-packages/sklearn/base.py:1151: DataConversionWarning: A column-vector y was passed when a 1d array was expected. Please change the shape of y to (n_samples,), for example using ravel().\n",
      "  return fit_method(estimator, *args, **kwargs)\n"
     ]
    },
    {
     "name": "stdout",
     "output_type": "stream",
     "text": [
      "[CV 1/5; 61/108] END max_depth=20, min_samples_leaf=1, min_samples_split=10, n_estimators=50;, score=-0.408 total time=   0.6s\n",
      "[CV 4/5; 61/108] START max_depth=20, min_samples_leaf=1, min_samples_split=10, n_estimators=50\n"
     ]
    },
    {
     "name": "stderr",
     "output_type": "stream",
     "text": [
      "/Users/omardukureh12/anaconda3/lib/python3.11/site-packages/sklearn/base.py:1151: DataConversionWarning: A column-vector y was passed when a 1d array was expected. Please change the shape of y to (n_samples,), for example using ravel().\n",
      "  return fit_method(estimator, *args, **kwargs)\n"
     ]
    },
    {
     "name": "stdout",
     "output_type": "stream",
     "text": [
      "[CV 2/5; 61/108] END max_depth=20, min_samples_leaf=1, min_samples_split=10, n_estimators=50;, score=-0.463 total time=   0.5s\n",
      "[CV 5/5; 61/108] START max_depth=20, min_samples_leaf=1, min_samples_split=10, n_estimators=50\n",
      "[CV 3/5; 61/108] END max_depth=20, min_samples_leaf=1, min_samples_split=10, n_estimators=50;, score=-0.460 total time=   0.5s\n",
      "[CV 1/5; 62/108] START max_depth=20, min_samples_leaf=1, min_samples_split=10, n_estimators=100\n"
     ]
    },
    {
     "name": "stderr",
     "output_type": "stream",
     "text": [
      "/Users/omardukureh12/anaconda3/lib/python3.11/site-packages/sklearn/base.py:1151: DataConversionWarning: A column-vector y was passed when a 1d array was expected. Please change the shape of y to (n_samples,), for example using ravel().\n",
      "  return fit_method(estimator, *args, **kwargs)\n",
      "/Users/omardukureh12/anaconda3/lib/python3.11/site-packages/sklearn/base.py:1151: DataConversionWarning: A column-vector y was passed when a 1d array was expected. Please change the shape of y to (n_samples,), for example using ravel().\n",
      "  return fit_method(estimator, *args, **kwargs)\n"
     ]
    },
    {
     "name": "stdout",
     "output_type": "stream",
     "text": [
      "[CV 4/5; 61/108] END max_depth=20, min_samples_leaf=1, min_samples_split=10, n_estimators=50;, score=-0.430 total time=   0.5s\n",
      "[CV 2/5; 62/108] START max_depth=20, min_samples_leaf=1, min_samples_split=10, n_estimators=100\n"
     ]
    },
    {
     "name": "stderr",
     "output_type": "stream",
     "text": [
      "/Users/omardukureh12/anaconda3/lib/python3.11/site-packages/sklearn/base.py:1151: DataConversionWarning: A column-vector y was passed when a 1d array was expected. Please change the shape of y to (n_samples,), for example using ravel().\n",
      "  return fit_method(estimator, *args, **kwargs)\n"
     ]
    },
    {
     "name": "stdout",
     "output_type": "stream",
     "text": [
      "[CV 5/5; 61/108] END max_depth=20, min_samples_leaf=1, min_samples_split=10, n_estimators=50;, score=-0.414 total time=   0.5s\n",
      "[CV 3/5; 62/108] START max_depth=20, min_samples_leaf=1, min_samples_split=10, n_estimators=100\n"
     ]
    },
    {
     "name": "stderr",
     "output_type": "stream",
     "text": [
      "/Users/omardukureh12/anaconda3/lib/python3.11/site-packages/sklearn/base.py:1151: DataConversionWarning: A column-vector y was passed when a 1d array was expected. Please change the shape of y to (n_samples,), for example using ravel().\n",
      "  return fit_method(estimator, *args, **kwargs)\n"
     ]
    },
    {
     "name": "stdout",
     "output_type": "stream",
     "text": [
      "[CV 1/5; 60/108] END max_depth=20, min_samples_leaf=1, min_samples_split=5, n_estimators=200;, score=-0.401 total time=   2.4s\n",
      "[CV 4/5; 62/108] START max_depth=20, min_samples_leaf=1, min_samples_split=10, n_estimators=100\n",
      "[CV 2/5; 60/108] END max_depth=20, min_samples_leaf=1, min_samples_split=5, n_estimators=200;, score=-0.451 total time=   2.4s\n",
      "[CV 5/5; 62/108] START max_depth=20, min_samples_leaf=1, min_samples_split=10, n_estimators=100\n"
     ]
    },
    {
     "name": "stderr",
     "output_type": "stream",
     "text": [
      "/Users/omardukureh12/anaconda3/lib/python3.11/site-packages/sklearn/base.py:1151: DataConversionWarning: A column-vector y was passed when a 1d array was expected. Please change the shape of y to (n_samples,), for example using ravel().\n",
      "  return fit_method(estimator, *args, **kwargs)\n",
      "/Users/omardukureh12/anaconda3/lib/python3.11/site-packages/sklearn/base.py:1151: DataConversionWarning: A column-vector y was passed when a 1d array was expected. Please change the shape of y to (n_samples,), for example using ravel().\n",
      "  return fit_method(estimator, *args, **kwargs)\n"
     ]
    },
    {
     "name": "stdout",
     "output_type": "stream",
     "text": [
      "[CV 1/5; 62/108] END max_depth=20, min_samples_leaf=1, min_samples_split=10, n_estimators=100;, score=-0.407 total time=   1.0s\n",
      "[CV 1/5; 63/108] START max_depth=20, min_samples_leaf=1, min_samples_split=10, n_estimators=200\n"
     ]
    },
    {
     "name": "stderr",
     "output_type": "stream",
     "text": [
      "/Users/omardukureh12/anaconda3/lib/python3.11/site-packages/sklearn/base.py:1151: DataConversionWarning: A column-vector y was passed when a 1d array was expected. Please change the shape of y to (n_samples,), for example using ravel().\n",
      "  return fit_method(estimator, *args, **kwargs)\n",
      "/Users/omardukureh12/anaconda3/lib/python3.11/site-packages/sklearn/base.py:1151: DataConversionWarning: A column-vector y was passed when a 1d array was expected. Please change the shape of y to (n_samples,), for example using ravel().\n",
      "  return fit_method(estimator, *args, **kwargs)\n"
     ]
    },
    {
     "name": "stdout",
     "output_type": "stream",
     "text": [
      "[CV 2/5; 62/108] END max_depth=20, min_samples_leaf=1, min_samples_split=10, n_estimators=100;, score=-0.461 total time=   1.0s\n",
      "[CV 2/5; 63/108] START max_depth=20, min_samples_leaf=1, min_samples_split=10, n_estimators=200\n",
      "[CV 3/5; 60/108] END max_depth=20, min_samples_leaf=1, min_samples_split=5, n_estimators=200;, score=-0.465 total time=   2.4s\n",
      "[CV 3/5; 63/108] START max_depth=20, min_samples_leaf=1, min_samples_split=10, n_estimators=200\n"
     ]
    },
    {
     "name": "stderr",
     "output_type": "stream",
     "text": [
      "/Users/omardukureh12/anaconda3/lib/python3.11/site-packages/sklearn/base.py:1151: DataConversionWarning: A column-vector y was passed when a 1d array was expected. Please change the shape of y to (n_samples,), for example using ravel().\n",
      "  return fit_method(estimator, *args, **kwargs)\n",
      "/Users/omardukureh12/anaconda3/lib/python3.11/site-packages/sklearn/base.py:1151: DataConversionWarning: A column-vector y was passed when a 1d array was expected. Please change the shape of y to (n_samples,), for example using ravel().\n",
      "  return fit_method(estimator, *args, **kwargs)\n",
      "/Users/omardukureh12/anaconda3/lib/python3.11/site-packages/sklearn/base.py:1151: DataConversionWarning: A column-vector y was passed when a 1d array was expected. Please change the shape of y to (n_samples,), for example using ravel().\n",
      "  return fit_method(estimator, *args, **kwargs)\n",
      "/Users/omardukureh12/anaconda3/lib/python3.11/site-packages/sklearn/base.py:1151: DataConversionWarning: A column-vector y was passed when a 1d array was expected. Please change the shape of y to (n_samples,), for example using ravel().\n",
      "  return fit_method(estimator, *args, **kwargs)\n"
     ]
    },
    {
     "name": "stdout",
     "output_type": "stream",
     "text": [
      "[CV 4/5; 60/108] END max_depth=20, min_samples_leaf=1, min_samples_split=5, n_estimators=200;, score=-0.414 total time=   2.5s\n",
      "[CV 3/5; 62/108] END max_depth=20, min_samples_leaf=1, min_samples_split=10, n_estimators=100;, score=-0.464 total time=   1.0s\n",
      "[CV 4/5; 63/108] START max_depth=20, min_samples_leaf=1, min_samples_split=10, n_estimators=200\n",
      "[CV 5/5; 63/108] START max_depth=20, min_samples_leaf=1, min_samples_split=10, n_estimators=200\n",
      "[CV 5/5; 60/108] END max_depth=20, min_samples_leaf=1, min_samples_split=5, n_estimators=200;, score=-0.412 total time=   2.4s\n",
      "[CV 1/5; 64/108] START max_depth=20, min_samples_leaf=2, min_samples_split=2, n_estimators=50\n",
      "[CV 4/5; 62/108] END max_depth=20, min_samples_leaf=1, min_samples_split=10, n_estimators=100;, score=-0.431 total time=   1.0s\n",
      "[CV 2/5; 64/108] START max_depth=20, min_samples_leaf=2, min_samples_split=2, n_estimators=50\n",
      "[CV 5/5; 62/108] END max_depth=20, min_samples_leaf=1, min_samples_split=10, n_estimators=100;, score=-0.413 total time=   1.0s\n",
      "[CV 3/5; 64/108] START max_depth=20, min_samples_leaf=2, min_samples_split=2, n_estimators=50\n"
     ]
    },
    {
     "name": "stderr",
     "output_type": "stream",
     "text": [
      "/Users/omardukureh12/anaconda3/lib/python3.11/site-packages/sklearn/base.py:1151: DataConversionWarning: A column-vector y was passed when a 1d array was expected. Please change the shape of y to (n_samples,), for example using ravel().\n",
      "  return fit_method(estimator, *args, **kwargs)\n",
      "/Users/omardukureh12/anaconda3/lib/python3.11/site-packages/sklearn/base.py:1151: DataConversionWarning: A column-vector y was passed when a 1d array was expected. Please change the shape of y to (n_samples,), for example using ravel().\n",
      "  return fit_method(estimator, *args, **kwargs)\n"
     ]
    },
    {
     "name": "stdout",
     "output_type": "stream",
     "text": [
      "[CV 1/5; 64/108] END max_depth=20, min_samples_leaf=2, min_samples_split=2, n_estimators=50;, score=-0.403 total time=   0.6s\n",
      "[CV 4/5; 64/108] START max_depth=20, min_samples_leaf=2, min_samples_split=2, n_estimators=50\n"
     ]
    },
    {
     "name": "stderr",
     "output_type": "stream",
     "text": [
      "/Users/omardukureh12/anaconda3/lib/python3.11/site-packages/sklearn/base.py:1151: DataConversionWarning: A column-vector y was passed when a 1d array was expected. Please change the shape of y to (n_samples,), for example using ravel().\n",
      "  return fit_method(estimator, *args, **kwargs)\n"
     ]
    },
    {
     "name": "stdout",
     "output_type": "stream",
     "text": [
      "[CV 2/5; 64/108] END max_depth=20, min_samples_leaf=2, min_samples_split=2, n_estimators=50;, score=-0.444 total time=   0.6s\n",
      "[CV 5/5; 64/108] START max_depth=20, min_samples_leaf=2, min_samples_split=2, n_estimators=50\n",
      "[CV 3/5; 64/108] END max_depth=20, min_samples_leaf=2, min_samples_split=2, n_estimators=50;, score=-0.465 total time=   0.5s\n",
      "[CV 1/5; 65/108] START max_depth=20, min_samples_leaf=2, min_samples_split=2, n_estimators=100\n"
     ]
    },
    {
     "name": "stderr",
     "output_type": "stream",
     "text": [
      "/Users/omardukureh12/anaconda3/lib/python3.11/site-packages/sklearn/base.py:1151: DataConversionWarning: A column-vector y was passed when a 1d array was expected. Please change the shape of y to (n_samples,), for example using ravel().\n",
      "  return fit_method(estimator, *args, **kwargs)\n",
      "/Users/omardukureh12/anaconda3/lib/python3.11/site-packages/sklearn/base.py:1151: DataConversionWarning: A column-vector y was passed when a 1d array was expected. Please change the shape of y to (n_samples,), for example using ravel().\n",
      "  return fit_method(estimator, *args, **kwargs)\n"
     ]
    },
    {
     "name": "stdout",
     "output_type": "stream",
     "text": [
      "[CV 4/5; 64/108] END max_depth=20, min_samples_leaf=2, min_samples_split=2, n_estimators=50;, score=-0.417 total time=   0.5s\n",
      "[CV 2/5; 65/108] START max_depth=20, min_samples_leaf=2, min_samples_split=2, n_estimators=100\n"
     ]
    },
    {
     "name": "stderr",
     "output_type": "stream",
     "text": [
      "/Users/omardukureh12/anaconda3/lib/python3.11/site-packages/sklearn/base.py:1151: DataConversionWarning: A column-vector y was passed when a 1d array was expected. Please change the shape of y to (n_samples,), for example using ravel().\n",
      "  return fit_method(estimator, *args, **kwargs)\n"
     ]
    },
    {
     "name": "stdout",
     "output_type": "stream",
     "text": [
      "[CV 5/5; 64/108] END max_depth=20, min_samples_leaf=2, min_samples_split=2, n_estimators=50;, score=-0.410 total time=   0.5s\n",
      "[CV 3/5; 65/108] START max_depth=20, min_samples_leaf=2, min_samples_split=2, n_estimators=100\n",
      "[CV 1/5; 63/108] END max_depth=20, min_samples_leaf=1, min_samples_split=10, n_estimators=200;, score=-0.401 total time=   1.9s\n",
      "[CV 4/5; 65/108] START max_depth=20, min_samples_leaf=2, min_samples_split=2, n_estimators=100\n"
     ]
    },
    {
     "name": "stderr",
     "output_type": "stream",
     "text": [
      "/Users/omardukureh12/anaconda3/lib/python3.11/site-packages/sklearn/base.py:1151: DataConversionWarning: A column-vector y was passed when a 1d array was expected. Please change the shape of y to (n_samples,), for example using ravel().\n",
      "  return fit_method(estimator, *args, **kwargs)\n",
      "/Users/omardukureh12/anaconda3/lib/python3.11/site-packages/sklearn/base.py:1151: DataConversionWarning: A column-vector y was passed when a 1d array was expected. Please change the shape of y to (n_samples,), for example using ravel().\n",
      "  return fit_method(estimator, *args, **kwargs)\n"
     ]
    },
    {
     "name": "stdout",
     "output_type": "stream",
     "text": [
      "[CV 2/5; 63/108] END max_depth=20, min_samples_leaf=1, min_samples_split=10, n_estimators=200;, score=-0.460 total time=   2.0s\n",
      "[CV 5/5; 65/108] START max_depth=20, min_samples_leaf=2, min_samples_split=2, n_estimators=100\n",
      "[CV 3/5; 63/108] END max_depth=20, min_samples_leaf=1, min_samples_split=10, n_estimators=200;, score=-0.466 total time=   2.0s\n",
      "[CV 1/5; 66/108] START max_depth=20, min_samples_leaf=2, min_samples_split=2, n_estimators=200\n",
      "[CV 4/5; 63/108] END max_depth=20, min_samples_leaf=1, min_samples_split=10, n_estimators=200;, score=-0.433 total time=   2.0s\n",
      "[CV 2/5; 66/108] START max_depth=20, min_samples_leaf=2, min_samples_split=2, n_estimators=200\n"
     ]
    },
    {
     "name": "stderr",
     "output_type": "stream",
     "text": [
      "/Users/omardukureh12/anaconda3/lib/python3.11/site-packages/sklearn/base.py:1151: DataConversionWarning: A column-vector y was passed when a 1d array was expected. Please change the shape of y to (n_samples,), for example using ravel().\n",
      "  return fit_method(estimator, *args, **kwargs)\n",
      "/Users/omardukureh12/anaconda3/lib/python3.11/site-packages/sklearn/base.py:1151: DataConversionWarning: A column-vector y was passed when a 1d array was expected. Please change the shape of y to (n_samples,), for example using ravel().\n",
      "  return fit_method(estimator, *args, **kwargs)\n",
      "/Users/omardukureh12/anaconda3/lib/python3.11/site-packages/sklearn/base.py:1151: DataConversionWarning: A column-vector y was passed when a 1d array was expected. Please change the shape of y to (n_samples,), for example using ravel().\n",
      "  return fit_method(estimator, *args, **kwargs)\n",
      "/Users/omardukureh12/anaconda3/lib/python3.11/site-packages/sklearn/base.py:1151: DataConversionWarning: A column-vector y was passed when a 1d array was expected. Please change the shape of y to (n_samples,), for example using ravel().\n",
      "  return fit_method(estimator, *args, **kwargs)\n"
     ]
    },
    {
     "name": "stdout",
     "output_type": "stream",
     "text": [
      "[CV 5/5; 63/108] END max_depth=20, min_samples_leaf=1, min_samples_split=10, n_estimators=200;, score=-0.410 total time=   2.0s\n",
      "[CV 3/5; 66/108] START max_depth=20, min_samples_leaf=2, min_samples_split=2, n_estimators=200\n",
      "[CV 1/5; 65/108] END max_depth=20, min_samples_leaf=2, min_samples_split=2, n_estimators=100;, score=-0.403 total time=   1.1s\n",
      "[CV 4/5; 66/108] START max_depth=20, min_samples_leaf=2, min_samples_split=2, n_estimators=200\n"
     ]
    },
    {
     "name": "stderr",
     "output_type": "stream",
     "text": [
      "/Users/omardukureh12/anaconda3/lib/python3.11/site-packages/sklearn/base.py:1151: DataConversionWarning: A column-vector y was passed when a 1d array was expected. Please change the shape of y to (n_samples,), for example using ravel().\n",
      "  return fit_method(estimator, *args, **kwargs)\n",
      "/Users/omardukureh12/anaconda3/lib/python3.11/site-packages/sklearn/base.py:1151: DataConversionWarning: A column-vector y was passed when a 1d array was expected. Please change the shape of y to (n_samples,), for example using ravel().\n",
      "  return fit_method(estimator, *args, **kwargs)\n"
     ]
    },
    {
     "name": "stdout",
     "output_type": "stream",
     "text": [
      "[CV 2/5; 65/108] END max_depth=20, min_samples_leaf=2, min_samples_split=2, n_estimators=100;, score=-0.450 total time=   1.1s\n",
      "[CV 5/5; 66/108] START max_depth=20, min_samples_leaf=2, min_samples_split=2, n_estimators=200\n",
      "[CV 3/5; 65/108] END max_depth=20, min_samples_leaf=2, min_samples_split=2, n_estimators=100;, score=-0.464 total time=   1.1s\n",
      "[CV 1/5; 67/108] START max_depth=20, min_samples_leaf=2, min_samples_split=5, n_estimators=50\n",
      "[CV 4/5; 65/108] END max_depth=20, min_samples_leaf=2, min_samples_split=2, n_estimators=100;, score=-0.408 total time=   1.1s\n",
      "[CV 2/5; 67/108] START max_depth=20, min_samples_leaf=2, min_samples_split=5, n_estimators=50\n"
     ]
    },
    {
     "name": "stderr",
     "output_type": "stream",
     "text": [
      "/Users/omardukureh12/anaconda3/lib/python3.11/site-packages/sklearn/base.py:1151: DataConversionWarning: A column-vector y was passed when a 1d array was expected. Please change the shape of y to (n_samples,), for example using ravel().\n",
      "  return fit_method(estimator, *args, **kwargs)\n",
      "/Users/omardukureh12/anaconda3/lib/python3.11/site-packages/sklearn/base.py:1151: DataConversionWarning: A column-vector y was passed when a 1d array was expected. Please change the shape of y to (n_samples,), for example using ravel().\n",
      "  return fit_method(estimator, *args, **kwargs)\n"
     ]
    },
    {
     "name": "stdout",
     "output_type": "stream",
     "text": [
      "[CV 5/5; 65/108] END max_depth=20, min_samples_leaf=2, min_samples_split=2, n_estimators=100;, score=-0.408 total time=   1.1s\n",
      "[CV 3/5; 67/108] START max_depth=20, min_samples_leaf=2, min_samples_split=5, n_estimators=50\n",
      "[CV 1/5; 67/108] END max_depth=20, min_samples_leaf=2, min_samples_split=5, n_estimators=50;, score=-0.404 total time=   0.6s\n",
      "[CV 4/5; 67/108] START max_depth=20, min_samples_leaf=2, min_samples_split=5, n_estimators=50\n"
     ]
    },
    {
     "name": "stderr",
     "output_type": "stream",
     "text": [
      "/Users/omardukureh12/anaconda3/lib/python3.11/site-packages/sklearn/base.py:1151: DataConversionWarning: A column-vector y was passed when a 1d array was expected. Please change the shape of y to (n_samples,), for example using ravel().\n",
      "  return fit_method(estimator, *args, **kwargs)\n",
      "/Users/omardukureh12/anaconda3/lib/python3.11/site-packages/sklearn/base.py:1151: DataConversionWarning: A column-vector y was passed when a 1d array was expected. Please change the shape of y to (n_samples,), for example using ravel().\n",
      "  return fit_method(estimator, *args, **kwargs)\n"
     ]
    },
    {
     "name": "stdout",
     "output_type": "stream",
     "text": [
      "[CV 2/5; 67/108] END max_depth=20, min_samples_leaf=2, min_samples_split=5, n_estimators=50;, score=-0.442 total time=   0.5s\n",
      "[CV 5/5; 67/108] START max_depth=20, min_samples_leaf=2, min_samples_split=5, n_estimators=50\n"
     ]
    },
    {
     "name": "stderr",
     "output_type": "stream",
     "text": [
      "/Users/omardukureh12/anaconda3/lib/python3.11/site-packages/sklearn/base.py:1151: DataConversionWarning: A column-vector y was passed when a 1d array was expected. Please change the shape of y to (n_samples,), for example using ravel().\n",
      "  return fit_method(estimator, *args, **kwargs)\n"
     ]
    },
    {
     "name": "stdout",
     "output_type": "stream",
     "text": [
      "[CV 3/5; 67/108] END max_depth=20, min_samples_leaf=2, min_samples_split=5, n_estimators=50;, score=-0.467 total time=   0.5s\n",
      "[CV 1/5; 68/108] START max_depth=20, min_samples_leaf=2, min_samples_split=5, n_estimators=100\n"
     ]
    },
    {
     "name": "stderr",
     "output_type": "stream",
     "text": [
      "/Users/omardukureh12/anaconda3/lib/python3.11/site-packages/sklearn/base.py:1151: DataConversionWarning: A column-vector y was passed when a 1d array was expected. Please change the shape of y to (n_samples,), for example using ravel().\n",
      "  return fit_method(estimator, *args, **kwargs)\n"
     ]
    },
    {
     "name": "stdout",
     "output_type": "stream",
     "text": [
      "[CV 5/5; 67/108] END max_depth=20, min_samples_leaf=2, min_samples_split=5, n_estimators=50;, score=-0.414 total time=   0.6s\n",
      "[CV 4/5; 67/108] END max_depth=20, min_samples_leaf=2, min_samples_split=5, n_estimators=50;, score=-0.414 total time=   0.7s\n",
      "[CV 2/5; 68/108] START max_depth=20, min_samples_leaf=2, min_samples_split=5, n_estimators=100\n",
      "[CV 3/5; 68/108] START max_depth=20, min_samples_leaf=2, min_samples_split=5, n_estimators=100\n"
     ]
    },
    {
     "name": "stderr",
     "output_type": "stream",
     "text": [
      "/Users/omardukureh12/anaconda3/lib/python3.11/site-packages/sklearn/base.py:1151: DataConversionWarning: A column-vector y was passed when a 1d array was expected. Please change the shape of y to (n_samples,), for example using ravel().\n",
      "  return fit_method(estimator, *args, **kwargs)\n",
      "/Users/omardukureh12/anaconda3/lib/python3.11/site-packages/sklearn/base.py:1151: DataConversionWarning: A column-vector y was passed when a 1d array was expected. Please change the shape of y to (n_samples,), for example using ravel().\n",
      "  return fit_method(estimator, *args, **kwargs)\n"
     ]
    },
    {
     "name": "stdout",
     "output_type": "stream",
     "text": [
      "[CV 1/5; 66/108] END max_depth=20, min_samples_leaf=2, min_samples_split=2, n_estimators=200;, score=-0.395 total time=   2.2s\n",
      "[CV 4/5; 68/108] START max_depth=20, min_samples_leaf=2, min_samples_split=5, n_estimators=100\n",
      "[CV 3/5; 66/108] END max_depth=20, min_samples_leaf=2, min_samples_split=2, n_estimators=200;, score=-0.464 total time=   2.2s\n",
      "[CV 2/5; 66/108] END max_depth=20, min_samples_leaf=2, min_samples_split=2, n_estimators=200;, score=-0.449 total time=   2.3s\n",
      "[CV 5/5; 68/108] START max_depth=20, min_samples_leaf=2, min_samples_split=5, n_estimators=100\n",
      "[CV 1/5; 69/108] START max_depth=20, min_samples_leaf=2, min_samples_split=5, n_estimators=200\n"
     ]
    },
    {
     "name": "stderr",
     "output_type": "stream",
     "text": [
      "/Users/omardukureh12/anaconda3/lib/python3.11/site-packages/sklearn/base.py:1151: DataConversionWarning: A column-vector y was passed when a 1d array was expected. Please change the shape of y to (n_samples,), for example using ravel().\n",
      "  return fit_method(estimator, *args, **kwargs)\n",
      "/Users/omardukureh12/anaconda3/lib/python3.11/site-packages/sklearn/base.py:1151: DataConversionWarning: A column-vector y was passed when a 1d array was expected. Please change the shape of y to (n_samples,), for example using ravel().\n",
      "  return fit_method(estimator, *args, **kwargs)\n",
      "/Users/omardukureh12/anaconda3/lib/python3.11/site-packages/sklearn/base.py:1151: DataConversionWarning: A column-vector y was passed when a 1d array was expected. Please change the shape of y to (n_samples,), for example using ravel().\n",
      "  return fit_method(estimator, *args, **kwargs)\n"
     ]
    },
    {
     "name": "stdout",
     "output_type": "stream",
     "text": [
      "[CV 4/5; 66/108] END max_depth=20, min_samples_leaf=2, min_samples_split=2, n_estimators=200;, score=-0.409 total time=   2.2s\n",
      "[CV 2/5; 69/108] START max_depth=20, min_samples_leaf=2, min_samples_split=5, n_estimators=200\n",
      "[CV 5/5; 66/108] END max_depth=20, min_samples_leaf=2, min_samples_split=2, n_estimators=200;, score=-0.409 total time=   2.3s\n",
      "[CV 3/5; 69/108] START max_depth=20, min_samples_leaf=2, min_samples_split=5, n_estimators=200\n"
     ]
    },
    {
     "name": "stderr",
     "output_type": "stream",
     "text": [
      "/Users/omardukureh12/anaconda3/lib/python3.11/site-packages/sklearn/base.py:1151: DataConversionWarning: A column-vector y was passed when a 1d array was expected. Please change the shape of y to (n_samples,), for example using ravel().\n",
      "  return fit_method(estimator, *args, **kwargs)\n",
      "/Users/omardukureh12/anaconda3/lib/python3.11/site-packages/sklearn/base.py:1151: DataConversionWarning: A column-vector y was passed when a 1d array was expected. Please change the shape of y to (n_samples,), for example using ravel().\n",
      "  return fit_method(estimator, *args, **kwargs)\n"
     ]
    },
    {
     "name": "stdout",
     "output_type": "stream",
     "text": [
      "[CV 1/5; 68/108] END max_depth=20, min_samples_leaf=2, min_samples_split=5, n_estimators=100;, score=-0.403 total time=   1.2s\n",
      "[CV 4/5; 69/108] START max_depth=20, min_samples_leaf=2, min_samples_split=5, n_estimators=200\n"
     ]
    },
    {
     "name": "stderr",
     "output_type": "stream",
     "text": [
      "/Users/omardukureh12/anaconda3/lib/python3.11/site-packages/sklearn/base.py:1151: DataConversionWarning: A column-vector y was passed when a 1d array was expected. Please change the shape of y to (n_samples,), for example using ravel().\n",
      "  return fit_method(estimator, *args, **kwargs)\n"
     ]
    },
    {
     "name": "stdout",
     "output_type": "stream",
     "text": [
      "[CV 3/5; 68/108] END max_depth=20, min_samples_leaf=2, min_samples_split=5, n_estimators=100;, score=-0.464 total time=   1.0s\n",
      "[CV 5/5; 69/108] START max_depth=20, min_samples_leaf=2, min_samples_split=5, n_estimators=200\n",
      "[CV 2/5; 68/108] END max_depth=20, min_samples_leaf=2, min_samples_split=5, n_estimators=100;, score=-0.449 total time=   1.1s\n",
      "[CV 1/5; 70/108] START max_depth=20, min_samples_leaf=2, min_samples_split=10, n_estimators=50\n"
     ]
    },
    {
     "name": "stderr",
     "output_type": "stream",
     "text": [
      "/Users/omardukureh12/anaconda3/lib/python3.11/site-packages/sklearn/base.py:1151: DataConversionWarning: A column-vector y was passed when a 1d array was expected. Please change the shape of y to (n_samples,), for example using ravel().\n",
      "  return fit_method(estimator, *args, **kwargs)\n",
      "/Users/omardukureh12/anaconda3/lib/python3.11/site-packages/sklearn/base.py:1151: DataConversionWarning: A column-vector y was passed when a 1d array was expected. Please change the shape of y to (n_samples,), for example using ravel().\n",
      "  return fit_method(estimator, *args, **kwargs)\n",
      "/Users/omardukureh12/anaconda3/lib/python3.11/site-packages/sklearn/base.py:1151: DataConversionWarning: A column-vector y was passed when a 1d array was expected. Please change the shape of y to (n_samples,), for example using ravel().\n",
      "  return fit_method(estimator, *args, **kwargs)\n"
     ]
    },
    {
     "name": "stdout",
     "output_type": "stream",
     "text": [
      "[CV 4/5; 68/108] END max_depth=20, min_samples_leaf=2, min_samples_split=5, n_estimators=100;, score=-0.407 total time=   1.0s\n",
      "[CV 2/5; 70/108] START max_depth=20, min_samples_leaf=2, min_samples_split=10, n_estimators=50\n",
      "[CV 5/5; 68/108] END max_depth=20, min_samples_leaf=2, min_samples_split=5, n_estimators=100;, score=-0.410 total time=   1.1s\n",
      "[CV 3/5; 70/108] START max_depth=20, min_samples_leaf=2, min_samples_split=10, n_estimators=50\n",
      "[CV 1/5; 70/108] END max_depth=20, min_samples_leaf=2, min_samples_split=10, n_estimators=50;, score=-0.404 total time=   0.5s\n",
      "[CV 4/5; 70/108] START max_depth=20, min_samples_leaf=2, min_samples_split=10, n_estimators=50\n"
     ]
    },
    {
     "name": "stderr",
     "output_type": "stream",
     "text": [
      "/Users/omardukureh12/anaconda3/lib/python3.11/site-packages/sklearn/base.py:1151: DataConversionWarning: A column-vector y was passed when a 1d array was expected. Please change the shape of y to (n_samples,), for example using ravel().\n",
      "  return fit_method(estimator, *args, **kwargs)\n",
      "/Users/omardukureh12/anaconda3/lib/python3.11/site-packages/sklearn/base.py:1151: DataConversionWarning: A column-vector y was passed when a 1d array was expected. Please change the shape of y to (n_samples,), for example using ravel().\n",
      "  return fit_method(estimator, *args, **kwargs)\n"
     ]
    },
    {
     "name": "stdout",
     "output_type": "stream",
     "text": [
      "[CV 2/5; 70/108] END max_depth=20, min_samples_leaf=2, min_samples_split=10, n_estimators=50;, score=-0.461 total time=   0.5s\n",
      "[CV 5/5; 70/108] START max_depth=20, min_samples_leaf=2, min_samples_split=10, n_estimators=50\n"
     ]
    },
    {
     "name": "stderr",
     "output_type": "stream",
     "text": [
      "/Users/omardukureh12/anaconda3/lib/python3.11/site-packages/sklearn/base.py:1151: DataConversionWarning: A column-vector y was passed when a 1d array was expected. Please change the shape of y to (n_samples,), for example using ravel().\n",
      "  return fit_method(estimator, *args, **kwargs)\n"
     ]
    },
    {
     "name": "stdout",
     "output_type": "stream",
     "text": [
      "[CV 3/5; 70/108] END max_depth=20, min_samples_leaf=2, min_samples_split=10, n_estimators=50;, score=-0.465 total time=   0.5s\n",
      "[CV 1/5; 71/108] START max_depth=20, min_samples_leaf=2, min_samples_split=10, n_estimators=100\n",
      "[CV 4/5; 70/108] END max_depth=20, min_samples_leaf=2, min_samples_split=10, n_estimators=50;, score=-0.433 total time=   0.5s\n",
      "[CV 2/5; 71/108] START max_depth=20, min_samples_leaf=2, min_samples_split=10, n_estimators=100\n"
     ]
    },
    {
     "name": "stderr",
     "output_type": "stream",
     "text": [
      "/Users/omardukureh12/anaconda3/lib/python3.11/site-packages/sklearn/base.py:1151: DataConversionWarning: A column-vector y was passed when a 1d array was expected. Please change the shape of y to (n_samples,), for example using ravel().\n",
      "  return fit_method(estimator, *args, **kwargs)\n",
      "/Users/omardukureh12/anaconda3/lib/python3.11/site-packages/sklearn/base.py:1151: DataConversionWarning: A column-vector y was passed when a 1d array was expected. Please change the shape of y to (n_samples,), for example using ravel().\n",
      "  return fit_method(estimator, *args, **kwargs)\n"
     ]
    },
    {
     "name": "stdout",
     "output_type": "stream",
     "text": [
      "[CV 5/5; 70/108] END max_depth=20, min_samples_leaf=2, min_samples_split=10, n_estimators=50;, score=-0.413 total time=   0.5s\n",
      "[CV 3/5; 71/108] START max_depth=20, min_samples_leaf=2, min_samples_split=10, n_estimators=100\n"
     ]
    },
    {
     "name": "stderr",
     "output_type": "stream",
     "text": [
      "/Users/omardukureh12/anaconda3/lib/python3.11/site-packages/sklearn/base.py:1151: DataConversionWarning: A column-vector y was passed when a 1d array was expected. Please change the shape of y to (n_samples,), for example using ravel().\n",
      "  return fit_method(estimator, *args, **kwargs)\n"
     ]
    },
    {
     "name": "stdout",
     "output_type": "stream",
     "text": [
      "[CV 1/5; 69/108] END max_depth=20, min_samples_leaf=2, min_samples_split=5, n_estimators=200;, score=-0.396 total time=   2.0s\n",
      "[CV 4/5; 71/108] START max_depth=20, min_samples_leaf=2, min_samples_split=10, n_estimators=100\n"
     ]
    },
    {
     "name": "stderr",
     "output_type": "stream",
     "text": [
      "/Users/omardukureh12/anaconda3/lib/python3.11/site-packages/sklearn/base.py:1151: DataConversionWarning: A column-vector y was passed when a 1d array was expected. Please change the shape of y to (n_samples,), for example using ravel().\n",
      "  return fit_method(estimator, *args, **kwargs)\n"
     ]
    },
    {
     "name": "stdout",
     "output_type": "stream",
     "text": [
      "[CV 2/5; 69/108] END max_depth=20, min_samples_leaf=2, min_samples_split=5, n_estimators=200;, score=-0.450 total time=   2.1s\n",
      "[CV 5/5; 71/108] START max_depth=20, min_samples_leaf=2, min_samples_split=10, n_estimators=100\n",
      "[CV 3/5; 69/108] END max_depth=20, min_samples_leaf=2, min_samples_split=5, n_estimators=200;, score=-0.464 total time=   2.1s\n",
      "[CV 1/5; 72/108] START max_depth=20, min_samples_leaf=2, min_samples_split=10, n_estimators=200\n"
     ]
    },
    {
     "name": "stderr",
     "output_type": "stream",
     "text": [
      "/Users/omardukureh12/anaconda3/lib/python3.11/site-packages/sklearn/base.py:1151: DataConversionWarning: A column-vector y was passed when a 1d array was expected. Please change the shape of y to (n_samples,), for example using ravel().\n",
      "  return fit_method(estimator, *args, **kwargs)\n",
      "/Users/omardukureh12/anaconda3/lib/python3.11/site-packages/sklearn/base.py:1151: DataConversionWarning: A column-vector y was passed when a 1d array was expected. Please change the shape of y to (n_samples,), for example using ravel().\n",
      "  return fit_method(estimator, *args, **kwargs)\n"
     ]
    },
    {
     "name": "stdout",
     "output_type": "stream",
     "text": [
      "[CV 1/5; 71/108] END max_depth=20, min_samples_leaf=2, min_samples_split=10, n_estimators=100;, score=-0.402 total time=   1.0s\n",
      "[CV 2/5; 72/108] START max_depth=20, min_samples_leaf=2, min_samples_split=10, n_estimators=200\n",
      "[CV 4/5; 69/108] END max_depth=20, min_samples_leaf=2, min_samples_split=5, n_estimators=200;, score=-0.411 total time=   2.2s\n",
      "[CV 3/5; 72/108] START max_depth=20, min_samples_leaf=2, min_samples_split=10, n_estimators=200\n",
      "[CV 2/5; 71/108] END max_depth=20, min_samples_leaf=2, min_samples_split=10, n_estimators=100;, score=-0.462 total time=   1.0s\n",
      "[CV 4/5; 72/108] START max_depth=20, min_samples_leaf=2, min_samples_split=10, n_estimators=200\n",
      "[CV 5/5; 69/108] END max_depth=20, min_samples_leaf=2, min_samples_split=5, n_estimators=200;, score=-0.409 total time=   2.1s\n",
      "[CV 5/5; 72/108] START max_depth=20, min_samples_leaf=2, min_samples_split=10, n_estimators=200\n"
     ]
    },
    {
     "name": "stderr",
     "output_type": "stream",
     "text": [
      "/Users/omardukureh12/anaconda3/lib/python3.11/site-packages/sklearn/base.py:1151: DataConversionWarning: A column-vector y was passed when a 1d array was expected. Please change the shape of y to (n_samples,), for example using ravel().\n",
      "  return fit_method(estimator, *args, **kwargs)\n",
      "/Users/omardukureh12/anaconda3/lib/python3.11/site-packages/sklearn/base.py:1151: DataConversionWarning: A column-vector y was passed when a 1d array was expected. Please change the shape of y to (n_samples,), for example using ravel().\n",
      "  return fit_method(estimator, *args, **kwargs)\n",
      "/Users/omardukureh12/anaconda3/lib/python3.11/site-packages/sklearn/base.py:1151: DataConversionWarning: A column-vector y was passed when a 1d array was expected. Please change the shape of y to (n_samples,), for example using ravel().\n",
      "  return fit_method(estimator, *args, **kwargs)\n",
      "/Users/omardukureh12/anaconda3/lib/python3.11/site-packages/sklearn/base.py:1151: DataConversionWarning: A column-vector y was passed when a 1d array was expected. Please change the shape of y to (n_samples,), for example using ravel().\n",
      "  return fit_method(estimator, *args, **kwargs)\n"
     ]
    },
    {
     "name": "stdout",
     "output_type": "stream",
     "text": [
      "[CV 3/5; 71/108] END max_depth=20, min_samples_leaf=2, min_samples_split=10, n_estimators=100;, score=-0.464 total time=   1.0s\n",
      "[CV 1/5; 73/108] START max_depth=20, min_samples_leaf=4, min_samples_split=2, n_estimators=50\n",
      "[CV 4/5; 71/108] END max_depth=20, min_samples_leaf=2, min_samples_split=10, n_estimators=100;, score=-0.428 total time=   1.0s\n",
      "[CV 2/5; 73/108] START max_depth=20, min_samples_leaf=4, min_samples_split=2, n_estimators=50\n"
     ]
    },
    {
     "name": "stderr",
     "output_type": "stream",
     "text": [
      "/Users/omardukureh12/anaconda3/lib/python3.11/site-packages/sklearn/base.py:1151: DataConversionWarning: A column-vector y was passed when a 1d array was expected. Please change the shape of y to (n_samples,), for example using ravel().\n",
      "  return fit_method(estimator, *args, **kwargs)\n",
      "/Users/omardukureh12/anaconda3/lib/python3.11/site-packages/sklearn/base.py:1151: DataConversionWarning: A column-vector y was passed when a 1d array was expected. Please change the shape of y to (n_samples,), for example using ravel().\n",
      "  return fit_method(estimator, *args, **kwargs)\n"
     ]
    },
    {
     "name": "stdout",
     "output_type": "stream",
     "text": [
      "[CV 5/5; 71/108] END max_depth=20, min_samples_leaf=2, min_samples_split=10, n_estimators=100;, score=-0.411 total time=   0.9s\n",
      "[CV 3/5; 73/108] START max_depth=20, min_samples_leaf=4, min_samples_split=2, n_estimators=50\n",
      "[CV 1/5; 73/108] END max_depth=20, min_samples_leaf=4, min_samples_split=2, n_estimators=50;, score=-0.396 total time=   0.4s\n",
      "[CV 4/5; 73/108] START max_depth=20, min_samples_leaf=4, min_samples_split=2, n_estimators=50\n"
     ]
    },
    {
     "name": "stderr",
     "output_type": "stream",
     "text": [
      "/Users/omardukureh12/anaconda3/lib/python3.11/site-packages/sklearn/base.py:1151: DataConversionWarning: A column-vector y was passed when a 1d array was expected. Please change the shape of y to (n_samples,), for example using ravel().\n",
      "  return fit_method(estimator, *args, **kwargs)\n",
      "/Users/omardukureh12/anaconda3/lib/python3.11/site-packages/sklearn/base.py:1151: DataConversionWarning: A column-vector y was passed when a 1d array was expected. Please change the shape of y to (n_samples,), for example using ravel().\n",
      "  return fit_method(estimator, *args, **kwargs)\n"
     ]
    },
    {
     "name": "stdout",
     "output_type": "stream",
     "text": [
      "[CV 2/5; 73/108] END max_depth=20, min_samples_leaf=4, min_samples_split=2, n_estimators=50;, score=-0.461 total time=   0.4s\n",
      "[CV 5/5; 73/108] START max_depth=20, min_samples_leaf=4, min_samples_split=2, n_estimators=50\n"
     ]
    },
    {
     "name": "stderr",
     "output_type": "stream",
     "text": [
      "/Users/omardukureh12/anaconda3/lib/python3.11/site-packages/sklearn/base.py:1151: DataConversionWarning: A column-vector y was passed when a 1d array was expected. Please change the shape of y to (n_samples,), for example using ravel().\n",
      "  return fit_method(estimator, *args, **kwargs)\n"
     ]
    },
    {
     "name": "stdout",
     "output_type": "stream",
     "text": [
      "[CV 3/5; 73/108] END max_depth=20, min_samples_leaf=4, min_samples_split=2, n_estimators=50;, score=-0.475 total time=   0.5s\n",
      "[CV 1/5; 74/108] START max_depth=20, min_samples_leaf=4, min_samples_split=2, n_estimators=100\n",
      "[CV 4/5; 73/108] END max_depth=20, min_samples_leaf=4, min_samples_split=2, n_estimators=50;, score=-0.428 total time=   0.5s\n",
      "[CV 2/5; 74/108] START max_depth=20, min_samples_leaf=4, min_samples_split=2, n_estimators=100\n",
      "[CV 5/5; 73/108] END max_depth=20, min_samples_leaf=4, min_samples_split=2, n_estimators=50;, score=-0.408 total time=   0.4s\n",
      "[CV 3/5; 74/108] START max_depth=20, min_samples_leaf=4, min_samples_split=2, n_estimators=100\n"
     ]
    },
    {
     "name": "stderr",
     "output_type": "stream",
     "text": [
      "/Users/omardukureh12/anaconda3/lib/python3.11/site-packages/sklearn/base.py:1151: DataConversionWarning: A column-vector y was passed when a 1d array was expected. Please change the shape of y to (n_samples,), for example using ravel().\n",
      "  return fit_method(estimator, *args, **kwargs)\n",
      "/Users/omardukureh12/anaconda3/lib/python3.11/site-packages/sklearn/base.py:1151: DataConversionWarning: A column-vector y was passed when a 1d array was expected. Please change the shape of y to (n_samples,), for example using ravel().\n",
      "  return fit_method(estimator, *args, **kwargs)\n",
      "/Users/omardukureh12/anaconda3/lib/python3.11/site-packages/sklearn/base.py:1151: DataConversionWarning: A column-vector y was passed when a 1d array was expected. Please change the shape of y to (n_samples,), for example using ravel().\n",
      "  return fit_method(estimator, *args, **kwargs)\n"
     ]
    },
    {
     "name": "stdout",
     "output_type": "stream",
     "text": [
      "[CV 1/5; 72/108] END max_depth=20, min_samples_leaf=2, min_samples_split=10, n_estimators=200;, score=-0.398 total time=   1.8s\n",
      "[CV 4/5; 74/108] START max_depth=20, min_samples_leaf=4, min_samples_split=2, n_estimators=100\n",
      "[CV 3/5; 72/108] END max_depth=20, min_samples_leaf=2, min_samples_split=10, n_estimators=200;, score=-0.466 total time=   1.8s\n",
      "[CV 5/5; 74/108] START max_depth=20, min_samples_leaf=4, min_samples_split=2, n_estimators=100\n"
     ]
    },
    {
     "name": "stderr",
     "output_type": "stream",
     "text": [
      "/Users/omardukureh12/anaconda3/lib/python3.11/site-packages/sklearn/base.py:1151: DataConversionWarning: A column-vector y was passed when a 1d array was expected. Please change the shape of y to (n_samples,), for example using ravel().\n",
      "  return fit_method(estimator, *args, **kwargs)\n",
      "/Users/omardukureh12/anaconda3/lib/python3.11/site-packages/sklearn/base.py:1151: DataConversionWarning: A column-vector y was passed when a 1d array was expected. Please change the shape of y to (n_samples,), for example using ravel().\n",
      "  return fit_method(estimator, *args, **kwargs)\n",
      "/Users/omardukureh12/anaconda3/lib/python3.11/site-packages/sklearn/base.py:1151: DataConversionWarning: A column-vector y was passed when a 1d array was expected. Please change the shape of y to (n_samples,), for example using ravel().\n",
      "  return fit_method(estimator, *args, **kwargs)\n"
     ]
    },
    {
     "name": "stdout",
     "output_type": "stream",
     "text": [
      "[CV 2/5; 72/108] END max_depth=20, min_samples_leaf=2, min_samples_split=10, n_estimators=200;, score=-0.461 total time=   1.9s\n",
      "[CV 1/5; 75/108] START max_depth=20, min_samples_leaf=4, min_samples_split=2, n_estimators=200\n",
      "[CV 4/5; 72/108] END max_depth=20, min_samples_leaf=2, min_samples_split=10, n_estimators=200;, score=-0.432 total time=   1.9s\n",
      "[CV 2/5; 75/108] START max_depth=20, min_samples_leaf=4, min_samples_split=2, n_estimators=200\n",
      "[CV 2/5; 74/108] END max_depth=20, min_samples_leaf=4, min_samples_split=2, n_estimators=100;, score=-0.464 total time=   0.8s\n",
      "[CV 3/5; 75/108] START max_depth=20, min_samples_leaf=4, min_samples_split=2, n_estimators=200\n",
      "[CV 5/5; 72/108] END max_depth=20, min_samples_leaf=2, min_samples_split=10, n_estimators=200;, score=-0.409 total time=   1.9s\n",
      "[CV 4/5; 75/108] START max_depth=20, min_samples_leaf=4, min_samples_split=2, n_estimators=200\n",
      "[CV 1/5; 74/108] END max_depth=20, min_samples_leaf=4, min_samples_split=2, n_estimators=100;, score=-0.395 total time=   0.9s\n",
      "[CV 5/5; 75/108] START max_depth=20, min_samples_leaf=4, min_samples_split=2, n_estimators=200\n"
     ]
    },
    {
     "name": "stderr",
     "output_type": "stream",
     "text": [
      "/Users/omardukureh12/anaconda3/lib/python3.11/site-packages/sklearn/base.py:1151: DataConversionWarning: A column-vector y was passed when a 1d array was expected. Please change the shape of y to (n_samples,), for example using ravel().\n",
      "  return fit_method(estimator, *args, **kwargs)\n",
      "/Users/omardukureh12/anaconda3/lib/python3.11/site-packages/sklearn/base.py:1151: DataConversionWarning: A column-vector y was passed when a 1d array was expected. Please change the shape of y to (n_samples,), for example using ravel().\n",
      "  return fit_method(estimator, *args, **kwargs)\n",
      "/Users/omardukureh12/anaconda3/lib/python3.11/site-packages/sklearn/base.py:1151: DataConversionWarning: A column-vector y was passed when a 1d array was expected. Please change the shape of y to (n_samples,), for example using ravel().\n",
      "  return fit_method(estimator, *args, **kwargs)\n",
      "/Users/omardukureh12/anaconda3/lib/python3.11/site-packages/sklearn/base.py:1151: DataConversionWarning: A column-vector y was passed when a 1d array was expected. Please change the shape of y to (n_samples,), for example using ravel().\n",
      "  return fit_method(estimator, *args, **kwargs)\n"
     ]
    },
    {
     "name": "stdout",
     "output_type": "stream",
     "text": [
      "[CV 3/5; 74/108] END max_depth=20, min_samples_leaf=4, min_samples_split=2, n_estimators=100;, score=-0.468 total time=   0.9s\n",
      "[CV 1/5; 76/108] START max_depth=20, min_samples_leaf=4, min_samples_split=5, n_estimators=50\n"
     ]
    },
    {
     "name": "stderr",
     "output_type": "stream",
     "text": [
      "/Users/omardukureh12/anaconda3/lib/python3.11/site-packages/sklearn/base.py:1151: DataConversionWarning: A column-vector y was passed when a 1d array was expected. Please change the shape of y to (n_samples,), for example using ravel().\n",
      "  return fit_method(estimator, *args, **kwargs)\n"
     ]
    },
    {
     "name": "stdout",
     "output_type": "stream",
     "text": [
      "[CV 4/5; 74/108] END max_depth=20, min_samples_leaf=4, min_samples_split=2, n_estimators=100;, score=-0.434 total time=   0.9s\n",
      "[CV 2/5; 76/108] START max_depth=20, min_samples_leaf=4, min_samples_split=5, n_estimators=50\n",
      "[CV 1/5; 76/108] END max_depth=20, min_samples_leaf=4, min_samples_split=5, n_estimators=50;, score=-0.396 total time=   0.4s\n",
      "[CV 3/5; 76/108] START max_depth=20, min_samples_leaf=4, min_samples_split=5, n_estimators=50\n",
      "[CV 5/5; 74/108] END max_depth=20, min_samples_leaf=4, min_samples_split=2, n_estimators=100;, score=-0.410 total time=   0.9s\n",
      "[CV 4/5; 76/108] START max_depth=20, min_samples_leaf=4, min_samples_split=5, n_estimators=50\n"
     ]
    },
    {
     "name": "stderr",
     "output_type": "stream",
     "text": [
      "/Users/omardukureh12/anaconda3/lib/python3.11/site-packages/sklearn/base.py:1151: DataConversionWarning: A column-vector y was passed when a 1d array was expected. Please change the shape of y to (n_samples,), for example using ravel().\n",
      "  return fit_method(estimator, *args, **kwargs)\n",
      "/Users/omardukureh12/anaconda3/lib/python3.11/site-packages/sklearn/base.py:1151: DataConversionWarning: A column-vector y was passed when a 1d array was expected. Please change the shape of y to (n_samples,), for example using ravel().\n",
      "  return fit_method(estimator, *args, **kwargs)\n",
      "/Users/omardukureh12/anaconda3/lib/python3.11/site-packages/sklearn/base.py:1151: DataConversionWarning: A column-vector y was passed when a 1d array was expected. Please change the shape of y to (n_samples,), for example using ravel().\n",
      "  return fit_method(estimator, *args, **kwargs)\n"
     ]
    },
    {
     "name": "stdout",
     "output_type": "stream",
     "text": [
      "[CV 2/5; 76/108] END max_depth=20, min_samples_leaf=4, min_samples_split=5, n_estimators=50;, score=-0.461 total time=   0.5s\n",
      "[CV 5/5; 76/108] START max_depth=20, min_samples_leaf=4, min_samples_split=5, n_estimators=50\n",
      "[CV 3/5; 76/108] END max_depth=20, min_samples_leaf=4, min_samples_split=5, n_estimators=50;, score=-0.475 total time=   0.5s\n",
      "[CV 1/5; 77/108] START max_depth=20, min_samples_leaf=4, min_samples_split=5, n_estimators=100\n",
      "[CV 4/5; 76/108] END max_depth=20, min_samples_leaf=4, min_samples_split=5, n_estimators=50;, score=-0.428 total time=   0.5s\n",
      "[CV 2/5; 77/108] START max_depth=20, min_samples_leaf=4, min_samples_split=5, n_estimators=100\n"
     ]
    },
    {
     "name": "stderr",
     "output_type": "stream",
     "text": [
      "/Users/omardukureh12/anaconda3/lib/python3.11/site-packages/sklearn/base.py:1151: DataConversionWarning: A column-vector y was passed when a 1d array was expected. Please change the shape of y to (n_samples,), for example using ravel().\n",
      "  return fit_method(estimator, *args, **kwargs)\n",
      "/Users/omardukureh12/anaconda3/lib/python3.11/site-packages/sklearn/base.py:1151: DataConversionWarning: A column-vector y was passed when a 1d array was expected. Please change the shape of y to (n_samples,), for example using ravel().\n",
      "  return fit_method(estimator, *args, **kwargs)\n",
      "/Users/omardukureh12/anaconda3/lib/python3.11/site-packages/sklearn/base.py:1151: DataConversionWarning: A column-vector y was passed when a 1d array was expected. Please change the shape of y to (n_samples,), for example using ravel().\n",
      "  return fit_method(estimator, *args, **kwargs)\n"
     ]
    },
    {
     "name": "stdout",
     "output_type": "stream",
     "text": [
      "[CV 5/5; 76/108] END max_depth=20, min_samples_leaf=4, min_samples_split=5, n_estimators=50;, score=-0.408 total time=   0.5s\n",
      "[CV 3/5; 77/108] START max_depth=20, min_samples_leaf=4, min_samples_split=5, n_estimators=100\n",
      "[CV 1/5; 75/108] END max_depth=20, min_samples_leaf=4, min_samples_split=2, n_estimators=200;, score=-0.394 total time=   1.7s\n",
      "[CV 4/5; 77/108] START max_depth=20, min_samples_leaf=4, min_samples_split=5, n_estimators=100\n",
      "[CV 2/5; 75/108] END max_depth=20, min_samples_leaf=4, min_samples_split=2, n_estimators=200;, score=-0.466 total time=   1.7s\n",
      "[CV 5/5; 77/108] START max_depth=20, min_samples_leaf=4, min_samples_split=5, n_estimators=100\n"
     ]
    },
    {
     "name": "stderr",
     "output_type": "stream",
     "text": [
      "/Users/omardukureh12/anaconda3/lib/python3.11/site-packages/sklearn/base.py:1151: DataConversionWarning: A column-vector y was passed when a 1d array was expected. Please change the shape of y to (n_samples,), for example using ravel().\n",
      "  return fit_method(estimator, *args, **kwargs)\n",
      "/Users/omardukureh12/anaconda3/lib/python3.11/site-packages/sklearn/base.py:1151: DataConversionWarning: A column-vector y was passed when a 1d array was expected. Please change the shape of y to (n_samples,), for example using ravel().\n",
      "  return fit_method(estimator, *args, **kwargs)\n",
      "/Users/omardukureh12/anaconda3/lib/python3.11/site-packages/sklearn/base.py:1151: DataConversionWarning: A column-vector y was passed when a 1d array was expected. Please change the shape of y to (n_samples,), for example using ravel().\n",
      "  return fit_method(estimator, *args, **kwargs)\n"
     ]
    },
    {
     "name": "stdout",
     "output_type": "stream",
     "text": [
      "[CV 3/5; 75/108] END max_depth=20, min_samples_leaf=4, min_samples_split=2, n_estimators=200;, score=-0.468 total time=   1.8s\n",
      "[CV 1/5; 78/108] START max_depth=20, min_samples_leaf=4, min_samples_split=5, n_estimators=200\n",
      "[CV 5/5; 75/108] END max_depth=20, min_samples_leaf=4, min_samples_split=2, n_estimators=200;, score=-0.410 total time=   1.8s\n",
      "[CV 2/5; 78/108] START max_depth=20, min_samples_leaf=4, min_samples_split=5, n_estimators=200\n",
      "[CV 4/5; 75/108] END max_depth=20, min_samples_leaf=4, min_samples_split=2, n_estimators=200;, score=-0.438 total time=   1.8s\n",
      "[CV 3/5; 78/108] START max_depth=20, min_samples_leaf=4, min_samples_split=5, n_estimators=200\n"
     ]
    },
    {
     "name": "stderr",
     "output_type": "stream",
     "text": [
      "/Users/omardukureh12/anaconda3/lib/python3.11/site-packages/sklearn/base.py:1151: DataConversionWarning: A column-vector y was passed when a 1d array was expected. Please change the shape of y to (n_samples,), for example using ravel().\n",
      "  return fit_method(estimator, *args, **kwargs)\n",
      "/Users/omardukureh12/anaconda3/lib/python3.11/site-packages/sklearn/base.py:1151: DataConversionWarning: A column-vector y was passed when a 1d array was expected. Please change the shape of y to (n_samples,), for example using ravel().\n",
      "  return fit_method(estimator, *args, **kwargs)\n",
      "/Users/omardukureh12/anaconda3/lib/python3.11/site-packages/sklearn/base.py:1151: DataConversionWarning: A column-vector y was passed when a 1d array was expected. Please change the shape of y to (n_samples,), for example using ravel().\n",
      "  return fit_method(estimator, *args, **kwargs)\n"
     ]
    },
    {
     "name": "stdout",
     "output_type": "stream",
     "text": [
      "[CV 1/5; 77/108] END max_depth=20, min_samples_leaf=4, min_samples_split=5, n_estimators=100;, score=-0.395 total time=   0.9s\n",
      "[CV 4/5; 78/108] START max_depth=20, min_samples_leaf=4, min_samples_split=5, n_estimators=200\n",
      "[CV 2/5; 77/108] END max_depth=20, min_samples_leaf=4, min_samples_split=5, n_estimators=100;, score=-0.464 total time=   0.9s\n",
      "[CV 5/5; 78/108] START max_depth=20, min_samples_leaf=4, min_samples_split=5, n_estimators=200\n"
     ]
    },
    {
     "name": "stderr",
     "output_type": "stream",
     "text": [
      "/Users/omardukureh12/anaconda3/lib/python3.11/site-packages/sklearn/base.py:1151: DataConversionWarning: A column-vector y was passed when a 1d array was expected. Please change the shape of y to (n_samples,), for example using ravel().\n",
      "  return fit_method(estimator, *args, **kwargs)\n",
      "/Users/omardukureh12/anaconda3/lib/python3.11/site-packages/sklearn/base.py:1151: DataConversionWarning: A column-vector y was passed when a 1d array was expected. Please change the shape of y to (n_samples,), for example using ravel().\n",
      "  return fit_method(estimator, *args, **kwargs)\n"
     ]
    },
    {
     "name": "stdout",
     "output_type": "stream",
     "text": [
      "[CV 3/5; 77/108] END max_depth=20, min_samples_leaf=4, min_samples_split=5, n_estimators=100;, score=-0.468 total time=   0.9s\n",
      "[CV 1/5; 79/108] START max_depth=20, min_samples_leaf=4, min_samples_split=10, n_estimators=50\n",
      "[CV 4/5; 77/108] END max_depth=20, min_samples_leaf=4, min_samples_split=5, n_estimators=100;, score=-0.434 total time=   0.9s\n",
      "[CV 2/5; 79/108] START max_depth=20, min_samples_leaf=4, min_samples_split=10, n_estimators=50\n",
      "[CV 5/5; 77/108] END max_depth=20, min_samples_leaf=4, min_samples_split=5, n_estimators=100;, score=-0.410 total time=   0.9s\n",
      "[CV 3/5; 79/108] START max_depth=20, min_samples_leaf=4, min_samples_split=10, n_estimators=50\n"
     ]
    },
    {
     "name": "stderr",
     "output_type": "stream",
     "text": [
      "/Users/omardukureh12/anaconda3/lib/python3.11/site-packages/sklearn/base.py:1151: DataConversionWarning: A column-vector y was passed when a 1d array was expected. Please change the shape of y to (n_samples,), for example using ravel().\n",
      "  return fit_method(estimator, *args, **kwargs)\n",
      "/Users/omardukureh12/anaconda3/lib/python3.11/site-packages/sklearn/base.py:1151: DataConversionWarning: A column-vector y was passed when a 1d array was expected. Please change the shape of y to (n_samples,), for example using ravel().\n",
      "  return fit_method(estimator, *args, **kwargs)\n",
      "/Users/omardukureh12/anaconda3/lib/python3.11/site-packages/sklearn/base.py:1151: DataConversionWarning: A column-vector y was passed when a 1d array was expected. Please change the shape of y to (n_samples,), for example using ravel().\n",
      "  return fit_method(estimator, *args, **kwargs)\n"
     ]
    },
    {
     "name": "stdout",
     "output_type": "stream",
     "text": [
      "[CV 1/5; 79/108] END max_depth=20, min_samples_leaf=4, min_samples_split=10, n_estimators=50;, score=-0.400 total time=   0.6s\n",
      "[CV 4/5; 79/108] START max_depth=20, min_samples_leaf=4, min_samples_split=10, n_estimators=50\n",
      "[CV 2/5; 79/108] END max_depth=20, min_samples_leaf=4, min_samples_split=10, n_estimators=50;, score=-0.468 total time=   0.5s\n",
      "[CV 5/5; 79/108] START max_depth=20, min_samples_leaf=4, min_samples_split=10, n_estimators=50\n",
      "[CV 3/5; 79/108] END max_depth=20, min_samples_leaf=4, min_samples_split=10, n_estimators=50;, score=-0.477 total time=   0.5s\n",
      "[CV 1/5; 80/108] START max_depth=20, min_samples_leaf=4, min_samples_split=10, n_estimators=100\n"
     ]
    },
    {
     "name": "stderr",
     "output_type": "stream",
     "text": [
      "/Users/omardukureh12/anaconda3/lib/python3.11/site-packages/sklearn/base.py:1151: DataConversionWarning: A column-vector y was passed when a 1d array was expected. Please change the shape of y to (n_samples,), for example using ravel().\n",
      "  return fit_method(estimator, *args, **kwargs)\n",
      "/Users/omardukureh12/anaconda3/lib/python3.11/site-packages/sklearn/base.py:1151: DataConversionWarning: A column-vector y was passed when a 1d array was expected. Please change the shape of y to (n_samples,), for example using ravel().\n",
      "  return fit_method(estimator, *args, **kwargs)\n",
      "/Users/omardukureh12/anaconda3/lib/python3.11/site-packages/sklearn/base.py:1151: DataConversionWarning: A column-vector y was passed when a 1d array was expected. Please change the shape of y to (n_samples,), for example using ravel().\n",
      "  return fit_method(estimator, *args, **kwargs)\n"
     ]
    },
    {
     "name": "stdout",
     "output_type": "stream",
     "text": [
      "[CV 4/5; 79/108] END max_depth=20, min_samples_leaf=4, min_samples_split=10, n_estimators=50;, score=-0.433 total time=   0.4s\n",
      "[CV 2/5; 80/108] START max_depth=20, min_samples_leaf=4, min_samples_split=10, n_estimators=100\n",
      "[CV 5/5; 79/108] END max_depth=20, min_samples_leaf=4, min_samples_split=10, n_estimators=50;, score=-0.411 total time=   0.4s\n",
      "[CV 3/5; 80/108] START max_depth=20, min_samples_leaf=4, min_samples_split=10, n_estimators=100\n"
     ]
    },
    {
     "name": "stderr",
     "output_type": "stream",
     "text": [
      "/Users/omardukureh12/anaconda3/lib/python3.11/site-packages/sklearn/base.py:1151: DataConversionWarning: A column-vector y was passed when a 1d array was expected. Please change the shape of y to (n_samples,), for example using ravel().\n",
      "  return fit_method(estimator, *args, **kwargs)\n",
      "/Users/omardukureh12/anaconda3/lib/python3.11/site-packages/sklearn/base.py:1151: DataConversionWarning: A column-vector y was passed when a 1d array was expected. Please change the shape of y to (n_samples,), for example using ravel().\n",
      "  return fit_method(estimator, *args, **kwargs)\n"
     ]
    },
    {
     "name": "stdout",
     "output_type": "stream",
     "text": [
      "[CV 1/5; 78/108] END max_depth=20, min_samples_leaf=4, min_samples_split=5, n_estimators=200;, score=-0.394 total time=   1.9s\n",
      "[CV 4/5; 80/108] START max_depth=20, min_samples_leaf=4, min_samples_split=10, n_estimators=100\n",
      "[CV 2/5; 78/108] END max_depth=20, min_samples_leaf=4, min_samples_split=5, n_estimators=200;, score=-0.466 total time=   1.9s\n",
      "[CV 5/5; 80/108] START max_depth=20, min_samples_leaf=4, min_samples_split=10, n_estimators=100\n",
      "[CV 3/5; 78/108] END max_depth=20, min_samples_leaf=4, min_samples_split=5, n_estimators=200;, score=-0.468 total time=   1.9s\n",
      "[CV 1/5; 81/108] START max_depth=20, min_samples_leaf=4, min_samples_split=10, n_estimators=200\n"
     ]
    },
    {
     "name": "stderr",
     "output_type": "stream",
     "text": [
      "/Users/omardukureh12/anaconda3/lib/python3.11/site-packages/sklearn/base.py:1151: DataConversionWarning: A column-vector y was passed when a 1d array was expected. Please change the shape of y to (n_samples,), for example using ravel().\n",
      "  return fit_method(estimator, *args, **kwargs)\n",
      "/Users/omardukureh12/anaconda3/lib/python3.11/site-packages/sklearn/base.py:1151: DataConversionWarning: A column-vector y was passed when a 1d array was expected. Please change the shape of y to (n_samples,), for example using ravel().\n",
      "  return fit_method(estimator, *args, **kwargs)\n",
      "/Users/omardukureh12/anaconda3/lib/python3.11/site-packages/sklearn/base.py:1151: DataConversionWarning: A column-vector y was passed when a 1d array was expected. Please change the shape of y to (n_samples,), for example using ravel().\n",
      "  return fit_method(estimator, *args, **kwargs)\n"
     ]
    },
    {
     "name": "stdout",
     "output_type": "stream",
     "text": [
      "[CV 1/5; 80/108] END max_depth=20, min_samples_leaf=4, min_samples_split=10, n_estimators=100;, score=-0.398 total time=   0.8s\n",
      "[CV 2/5; 81/108] START max_depth=20, min_samples_leaf=4, min_samples_split=10, n_estimators=200\n",
      "[CV 4/5; 78/108] END max_depth=20, min_samples_leaf=4, min_samples_split=5, n_estimators=200;, score=-0.438 total time=   1.9s\n",
      "[CV 3/5; 81/108] START max_depth=20, min_samples_leaf=4, min_samples_split=10, n_estimators=200\n",
      "[CV 5/5; 78/108] END max_depth=20, min_samples_leaf=4, min_samples_split=5, n_estimators=200;, score=-0.410 total time=   1.9s\n",
      "[CV 4/5; 81/108] START max_depth=20, min_samples_leaf=4, min_samples_split=10, n_estimators=200\n"
     ]
    },
    {
     "name": "stderr",
     "output_type": "stream",
     "text": [
      "/Users/omardukureh12/anaconda3/lib/python3.11/site-packages/sklearn/base.py:1151: DataConversionWarning: A column-vector y was passed when a 1d array was expected. Please change the shape of y to (n_samples,), for example using ravel().\n",
      "  return fit_method(estimator, *args, **kwargs)\n",
      "/Users/omardukureh12/anaconda3/lib/python3.11/site-packages/sklearn/base.py:1151: DataConversionWarning: A column-vector y was passed when a 1d array was expected. Please change the shape of y to (n_samples,), for example using ravel().\n",
      "  return fit_method(estimator, *args, **kwargs)\n",
      "/Users/omardukureh12/anaconda3/lib/python3.11/site-packages/sklearn/base.py:1151: DataConversionWarning: A column-vector y was passed when a 1d array was expected. Please change the shape of y to (n_samples,), for example using ravel().\n",
      "  return fit_method(estimator, *args, **kwargs)\n"
     ]
    },
    {
     "name": "stdout",
     "output_type": "stream",
     "text": [
      "[CV 2/5; 80/108] END max_depth=20, min_samples_leaf=4, min_samples_split=10, n_estimators=100;, score=-0.469 total time=   0.8s\n",
      "[CV 5/5; 81/108] START max_depth=20, min_samples_leaf=4, min_samples_split=10, n_estimators=200\n",
      "[CV 3/5; 80/108] END max_depth=20, min_samples_leaf=4, min_samples_split=10, n_estimators=100;, score=-0.471 total time=   0.9s\n",
      "[CV 1/5; 82/108] START max_depth=30, min_samples_leaf=1, min_samples_split=2, n_estimators=50\n"
     ]
    },
    {
     "name": "stderr",
     "output_type": "stream",
     "text": [
      "/Users/omardukureh12/anaconda3/lib/python3.11/site-packages/sklearn/base.py:1151: DataConversionWarning: A column-vector y was passed when a 1d array was expected. Please change the shape of y to (n_samples,), for example using ravel().\n",
      "  return fit_method(estimator, *args, **kwargs)\n",
      "/Users/omardukureh12/anaconda3/lib/python3.11/site-packages/sklearn/base.py:1151: DataConversionWarning: A column-vector y was passed when a 1d array was expected. Please change the shape of y to (n_samples,), for example using ravel().\n",
      "  return fit_method(estimator, *args, **kwargs)\n"
     ]
    },
    {
     "name": "stdout",
     "output_type": "stream",
     "text": [
      "[CV 4/5; 80/108] END max_depth=20, min_samples_leaf=4, min_samples_split=10, n_estimators=100;, score=-0.439 total time=   0.8s\n",
      "[CV 2/5; 82/108] START max_depth=30, min_samples_leaf=1, min_samples_split=2, n_estimators=50\n",
      "[CV 5/5; 80/108] END max_depth=20, min_samples_leaf=4, min_samples_split=10, n_estimators=100;, score=-0.413 total time=   0.9s\n",
      "[CV 3/5; 82/108] START max_depth=30, min_samples_leaf=1, min_samples_split=2, n_estimators=50\n"
     ]
    },
    {
     "name": "stderr",
     "output_type": "stream",
     "text": [
      "/Users/omardukureh12/anaconda3/lib/python3.11/site-packages/sklearn/base.py:1151: DataConversionWarning: A column-vector y was passed when a 1d array was expected. Please change the shape of y to (n_samples,), for example using ravel().\n",
      "  return fit_method(estimator, *args, **kwargs)\n",
      "/Users/omardukureh12/anaconda3/lib/python3.11/site-packages/sklearn/base.py:1151: DataConversionWarning: A column-vector y was passed when a 1d array was expected. Please change the shape of y to (n_samples,), for example using ravel().\n",
      "  return fit_method(estimator, *args, **kwargs)\n"
     ]
    },
    {
     "name": "stdout",
     "output_type": "stream",
     "text": [
      "[CV 1/5; 82/108] END max_depth=30, min_samples_leaf=1, min_samples_split=2, n_estimators=50;, score=-0.407 total time=   0.8s\n",
      "[CV 4/5; 82/108] START max_depth=30, min_samples_leaf=1, min_samples_split=2, n_estimators=50\n",
      "[CV 2/5; 82/108] END max_depth=30, min_samples_leaf=1, min_samples_split=2, n_estimators=50;, score=-0.450 total time=   0.7s\n",
      "[CV 5/5; 82/108] START max_depth=30, min_samples_leaf=1, min_samples_split=2, n_estimators=50\n"
     ]
    },
    {
     "name": "stderr",
     "output_type": "stream",
     "text": [
      "/Users/omardukureh12/anaconda3/lib/python3.11/site-packages/sklearn/base.py:1151: DataConversionWarning: A column-vector y was passed when a 1d array was expected. Please change the shape of y to (n_samples,), for example using ravel().\n",
      "  return fit_method(estimator, *args, **kwargs)\n",
      "/Users/omardukureh12/anaconda3/lib/python3.11/site-packages/sklearn/base.py:1151: DataConversionWarning: A column-vector y was passed when a 1d array was expected. Please change the shape of y to (n_samples,), for example using ravel().\n",
      "  return fit_method(estimator, *args, **kwargs)\n"
     ]
    },
    {
     "name": "stdout",
     "output_type": "stream",
     "text": [
      "[CV 3/5; 82/108] END max_depth=30, min_samples_leaf=1, min_samples_split=2, n_estimators=50;, score=-0.470 total time=   0.7s\n",
      "[CV 1/5; 83/108] START max_depth=30, min_samples_leaf=1, min_samples_split=2, n_estimators=100\n",
      "[CV 1/5; 81/108] END max_depth=20, min_samples_leaf=4, min_samples_split=10, n_estimators=200;, score=-0.396 total time=   1.8s\n",
      "[CV 2/5; 83/108] START max_depth=30, min_samples_leaf=1, min_samples_split=2, n_estimators=100\n"
     ]
    },
    {
     "name": "stderr",
     "output_type": "stream",
     "text": [
      "/Users/omardukureh12/anaconda3/lib/python3.11/site-packages/sklearn/base.py:1151: DataConversionWarning: A column-vector y was passed when a 1d array was expected. Please change the shape of y to (n_samples,), for example using ravel().\n",
      "  return fit_method(estimator, *args, **kwargs)\n",
      "/Users/omardukureh12/anaconda3/lib/python3.11/site-packages/sklearn/base.py:1151: DataConversionWarning: A column-vector y was passed when a 1d array was expected. Please change the shape of y to (n_samples,), for example using ravel().\n",
      "  return fit_method(estimator, *args, **kwargs)\n"
     ]
    },
    {
     "name": "stdout",
     "output_type": "stream",
     "text": [
      "[CV 3/5; 81/108] END max_depth=20, min_samples_leaf=4, min_samples_split=10, n_estimators=200;, score=-0.471 total time=   1.7s\n",
      "[CV 3/5; 83/108] START max_depth=30, min_samples_leaf=1, min_samples_split=2, n_estimators=100\n",
      "[CV 2/5; 81/108] END max_depth=20, min_samples_leaf=4, min_samples_split=10, n_estimators=200;, score=-0.469 total time=   1.8s\n",
      "[CV 4/5; 83/108] START max_depth=30, min_samples_leaf=1, min_samples_split=2, n_estimators=100\n",
      "[CV 4/5; 82/108] END max_depth=30, min_samples_leaf=1, min_samples_split=2, n_estimators=50;, score=-0.410 total time=   0.6s\n",
      "[CV 5/5; 83/108] START max_depth=30, min_samples_leaf=1, min_samples_split=2, n_estimators=100\n",
      "[CV 4/5; 81/108] END max_depth=20, min_samples_leaf=4, min_samples_split=10, n_estimators=200;, score=-0.444 total time=   1.8s\n",
      "[CV 1/5; 84/108] START max_depth=30, min_samples_leaf=1, min_samples_split=2, n_estimators=200\n"
     ]
    },
    {
     "name": "stderr",
     "output_type": "stream",
     "text": [
      "/Users/omardukureh12/anaconda3/lib/python3.11/site-packages/sklearn/base.py:1151: DataConversionWarning: A column-vector y was passed when a 1d array was expected. Please change the shape of y to (n_samples,), for example using ravel().\n",
      "  return fit_method(estimator, *args, **kwargs)\n",
      "/Users/omardukureh12/anaconda3/lib/python3.11/site-packages/sklearn/base.py:1151: DataConversionWarning: A column-vector y was passed when a 1d array was expected. Please change the shape of y to (n_samples,), for example using ravel().\n",
      "  return fit_method(estimator, *args, **kwargs)\n",
      "/Users/omardukureh12/anaconda3/lib/python3.11/site-packages/sklearn/base.py:1151: DataConversionWarning: A column-vector y was passed when a 1d array was expected. Please change the shape of y to (n_samples,), for example using ravel().\n",
      "  return fit_method(estimator, *args, **kwargs)\n",
      "/Users/omardukureh12/anaconda3/lib/python3.11/site-packages/sklearn/base.py:1151: DataConversionWarning: A column-vector y was passed when a 1d array was expected. Please change the shape of y to (n_samples,), for example using ravel().\n",
      "  return fit_method(estimator, *args, **kwargs)\n"
     ]
    },
    {
     "name": "stdout",
     "output_type": "stream",
     "text": [
      "[CV 5/5; 82/108] END max_depth=30, min_samples_leaf=1, min_samples_split=2, n_estimators=50;, score=-0.421 total time=   0.7s\n",
      "[CV 2/5; 84/108] START max_depth=30, min_samples_leaf=1, min_samples_split=2, n_estimators=200\n",
      "[CV 5/5; 81/108] END max_depth=20, min_samples_leaf=4, min_samples_split=10, n_estimators=200;, score=-0.411 total time=   1.8s\n",
      "[CV 3/5; 84/108] START max_depth=30, min_samples_leaf=1, min_samples_split=2, n_estimators=200\n"
     ]
    },
    {
     "name": "stderr",
     "output_type": "stream",
     "text": [
      "/Users/omardukureh12/anaconda3/lib/python3.11/site-packages/sklearn/base.py:1151: DataConversionWarning: A column-vector y was passed when a 1d array was expected. Please change the shape of y to (n_samples,), for example using ravel().\n",
      "  return fit_method(estimator, *args, **kwargs)\n",
      "/Users/omardukureh12/anaconda3/lib/python3.11/site-packages/sklearn/base.py:1151: DataConversionWarning: A column-vector y was passed when a 1d array was expected. Please change the shape of y to (n_samples,), for example using ravel().\n",
      "  return fit_method(estimator, *args, **kwargs)\n"
     ]
    },
    {
     "name": "stdout",
     "output_type": "stream",
     "text": [
      "[CV 1/5; 83/108] END max_depth=30, min_samples_leaf=1, min_samples_split=2, n_estimators=100;, score=-0.405 total time=   1.3s\n",
      "[CV 4/5; 84/108] START max_depth=30, min_samples_leaf=1, min_samples_split=2, n_estimators=200\n",
      "[CV 2/5; 83/108] END max_depth=30, min_samples_leaf=1, min_samples_split=2, n_estimators=100;, score=-0.451 total time=   1.3s\n",
      "[CV 5/5; 84/108] START max_depth=30, min_samples_leaf=1, min_samples_split=2, n_estimators=200\n"
     ]
    },
    {
     "name": "stderr",
     "output_type": "stream",
     "text": [
      "/Users/omardukureh12/anaconda3/lib/python3.11/site-packages/sklearn/base.py:1151: DataConversionWarning: A column-vector y was passed when a 1d array was expected. Please change the shape of y to (n_samples,), for example using ravel().\n",
      "  return fit_method(estimator, *args, **kwargs)\n",
      "/Users/omardukureh12/anaconda3/lib/python3.11/site-packages/sklearn/base.py:1151: DataConversionWarning: A column-vector y was passed when a 1d array was expected. Please change the shape of y to (n_samples,), for example using ravel().\n",
      "  return fit_method(estimator, *args, **kwargs)\n",
      "/Users/omardukureh12/anaconda3/lib/python3.11/site-packages/sklearn/base.py:1151: DataConversionWarning: A column-vector y was passed when a 1d array was expected. Please change the shape of y to (n_samples,), for example using ravel().\n",
      "  return fit_method(estimator, *args, **kwargs)\n"
     ]
    },
    {
     "name": "stdout",
     "output_type": "stream",
     "text": [
      "[CV 3/5; 83/108] END max_depth=30, min_samples_leaf=1, min_samples_split=2, n_estimators=100;, score=-0.463 total time=   1.3s\n",
      "[CV 1/5; 85/108] START max_depth=30, min_samples_leaf=1, min_samples_split=5, n_estimators=50\n",
      "[CV 4/5; 83/108] END max_depth=30, min_samples_leaf=1, min_samples_split=2, n_estimators=100;, score=-0.411 total time=   1.3s\n",
      "[CV 2/5; 85/108] START max_depth=30, min_samples_leaf=1, min_samples_split=5, n_estimators=50\n",
      "[CV 5/5; 83/108] END max_depth=30, min_samples_leaf=1, min_samples_split=2, n_estimators=100;, score=-0.414 total time=   1.3s\n",
      "[CV 3/5; 85/108] START max_depth=30, min_samples_leaf=1, min_samples_split=5, n_estimators=50\n"
     ]
    },
    {
     "name": "stderr",
     "output_type": "stream",
     "text": [
      "/Users/omardukureh12/anaconda3/lib/python3.11/site-packages/sklearn/base.py:1151: DataConversionWarning: A column-vector y was passed when a 1d array was expected. Please change the shape of y to (n_samples,), for example using ravel().\n",
      "  return fit_method(estimator, *args, **kwargs)\n",
      "/Users/omardukureh12/anaconda3/lib/python3.11/site-packages/sklearn/base.py:1151: DataConversionWarning: A column-vector y was passed when a 1d array was expected. Please change the shape of y to (n_samples,), for example using ravel().\n",
      "  return fit_method(estimator, *args, **kwargs)\n"
     ]
    },
    {
     "name": "stdout",
     "output_type": "stream",
     "text": [
      "[CV 1/5; 85/108] END max_depth=30, min_samples_leaf=1, min_samples_split=5, n_estimators=50;, score=-0.410 total time=   0.6s\n",
      "[CV 4/5; 85/108] START max_depth=30, min_samples_leaf=1, min_samples_split=5, n_estimators=50\n",
      "[CV 2/5; 85/108] END max_depth=30, min_samples_leaf=1, min_samples_split=5, n_estimators=50;, score=-0.447 total time=   0.5s\n",
      "[CV 5/5; 85/108] START max_depth=30, min_samples_leaf=1, min_samples_split=5, n_estimators=50\n",
      "[CV 3/5; 85/108] END max_depth=30, min_samples_leaf=1, min_samples_split=5, n_estimators=50;, score=-0.470 total time=   0.5s\n",
      "[CV 1/5; 86/108] START max_depth=30, min_samples_leaf=1, min_samples_split=5, n_estimators=100\n"
     ]
    },
    {
     "name": "stderr",
     "output_type": "stream",
     "text": [
      "/Users/omardukureh12/anaconda3/lib/python3.11/site-packages/sklearn/base.py:1151: DataConversionWarning: A column-vector y was passed when a 1d array was expected. Please change the shape of y to (n_samples,), for example using ravel().\n",
      "  return fit_method(estimator, *args, **kwargs)\n",
      "/Users/omardukureh12/anaconda3/lib/python3.11/site-packages/sklearn/base.py:1151: DataConversionWarning: A column-vector y was passed when a 1d array was expected. Please change the shape of y to (n_samples,), for example using ravel().\n",
      "  return fit_method(estimator, *args, **kwargs)\n",
      "/Users/omardukureh12/anaconda3/lib/python3.11/site-packages/sklearn/base.py:1151: DataConversionWarning: A column-vector y was passed when a 1d array was expected. Please change the shape of y to (n_samples,), for example using ravel().\n",
      "  return fit_method(estimator, *args, **kwargs)\n"
     ]
    },
    {
     "name": "stdout",
     "output_type": "stream",
     "text": [
      "[CV 4/5; 85/108] END max_depth=30, min_samples_leaf=1, min_samples_split=5, n_estimators=50;, score=-0.413 total time=   0.6s\n",
      "[CV 2/5; 86/108] START max_depth=30, min_samples_leaf=1, min_samples_split=5, n_estimators=100\n",
      "[CV 5/5; 85/108] END max_depth=30, min_samples_leaf=1, min_samples_split=5, n_estimators=50;, score=-0.418 total time=   0.6s\n",
      "[CV 3/5; 86/108] START max_depth=30, min_samples_leaf=1, min_samples_split=5, n_estimators=100\n"
     ]
    },
    {
     "name": "stderr",
     "output_type": "stream",
     "text": [
      "/Users/omardukureh12/anaconda3/lib/python3.11/site-packages/sklearn/base.py:1151: DataConversionWarning: A column-vector y was passed when a 1d array was expected. Please change the shape of y to (n_samples,), for example using ravel().\n",
      "  return fit_method(estimator, *args, **kwargs)\n",
      "/Users/omardukureh12/anaconda3/lib/python3.11/site-packages/sklearn/base.py:1151: DataConversionWarning: A column-vector y was passed when a 1d array was expected. Please change the shape of y to (n_samples,), for example using ravel().\n",
      "  return fit_method(estimator, *args, **kwargs)\n"
     ]
    },
    {
     "name": "stdout",
     "output_type": "stream",
     "text": [
      "[CV 1/5; 84/108] END max_depth=30, min_samples_leaf=1, min_samples_split=2, n_estimators=200;, score=-0.400 total time=   2.5s\n",
      "[CV 4/5; 86/108] START max_depth=30, min_samples_leaf=1, min_samples_split=5, n_estimators=100\n",
      "[CV 2/5; 84/108] END max_depth=30, min_samples_leaf=1, min_samples_split=2, n_estimators=200;, score=-0.451 total time=   2.5s\n",
      "[CV 5/5; 86/108] START max_depth=30, min_samples_leaf=1, min_samples_split=5, n_estimators=100\n"
     ]
    },
    {
     "name": "stderr",
     "output_type": "stream",
     "text": [
      "/Users/omardukureh12/anaconda3/lib/python3.11/site-packages/sklearn/base.py:1151: DataConversionWarning: A column-vector y was passed when a 1d array was expected. Please change the shape of y to (n_samples,), for example using ravel().\n",
      "  return fit_method(estimator, *args, **kwargs)\n",
      "/Users/omardukureh12/anaconda3/lib/python3.11/site-packages/sklearn/base.py:1151: DataConversionWarning: A column-vector y was passed when a 1d array was expected. Please change the shape of y to (n_samples,), for example using ravel().\n",
      "  return fit_method(estimator, *args, **kwargs)\n"
     ]
    },
    {
     "name": "stdout",
     "output_type": "stream",
     "text": [
      "[CV 3/5; 84/108] END max_depth=30, min_samples_leaf=1, min_samples_split=2, n_estimators=200;, score=-0.463 total time=   2.6s\n",
      "[CV 1/5; 87/108] START max_depth=30, min_samples_leaf=1, min_samples_split=5, n_estimators=200\n"
     ]
    },
    {
     "name": "stderr",
     "output_type": "stream",
     "text": [
      "/Users/omardukureh12/anaconda3/lib/python3.11/site-packages/sklearn/base.py:1151: DataConversionWarning: A column-vector y was passed when a 1d array was expected. Please change the shape of y to (n_samples,), for example using ravel().\n",
      "  return fit_method(estimator, *args, **kwargs)\n",
      "/Users/omardukureh12/anaconda3/lib/python3.11/site-packages/sklearn/base.py:1151: DataConversionWarning: A column-vector y was passed when a 1d array was expected. Please change the shape of y to (n_samples,), for example using ravel().\n",
      "  return fit_method(estimator, *args, **kwargs)\n"
     ]
    },
    {
     "name": "stdout",
     "output_type": "stream",
     "text": [
      "[CV 1/5; 86/108] END max_depth=30, min_samples_leaf=1, min_samples_split=5, n_estimators=100;, score=-0.407 total time=   1.2s\n",
      "[CV 2/5; 87/108] START max_depth=30, min_samples_leaf=1, min_samples_split=5, n_estimators=200\n",
      "[CV 2/5; 86/108] END max_depth=30, min_samples_leaf=1, min_samples_split=5, n_estimators=100;, score=-0.450 total time=   1.1s\n",
      "[CV 3/5; 87/108] START max_depth=30, min_samples_leaf=1, min_samples_split=5, n_estimators=200\n",
      "[CV 3/5; 86/108] END max_depth=30, min_samples_leaf=1, min_samples_split=5, n_estimators=100;, score=-0.466 total time=   1.1s\n",
      "[CV 4/5; 87/108] START max_depth=30, min_samples_leaf=1, min_samples_split=5, n_estimators=200\n",
      "[CV 4/5; 84/108] END max_depth=30, min_samples_leaf=1, min_samples_split=2, n_estimators=200;, score=-0.416 total time=   2.6s\n",
      "[CV 5/5; 87/108] START max_depth=30, min_samples_leaf=1, min_samples_split=5, n_estimators=200\n",
      "[CV 5/5; 84/108] END max_depth=30, min_samples_leaf=1, min_samples_split=2, n_estimators=200;, score=-0.413 total time=   2.6s\n",
      "[CV 1/5; 88/108] START max_depth=30, min_samples_leaf=1, min_samples_split=10, n_estimators=50\n"
     ]
    },
    {
     "name": "stderr",
     "output_type": "stream",
     "text": [
      "/Users/omardukureh12/anaconda3/lib/python3.11/site-packages/sklearn/base.py:1151: DataConversionWarning: A column-vector y was passed when a 1d array was expected. Please change the shape of y to (n_samples,), for example using ravel().\n",
      "  return fit_method(estimator, *args, **kwargs)\n",
      "/Users/omardukureh12/anaconda3/lib/python3.11/site-packages/sklearn/base.py:1151: DataConversionWarning: A column-vector y was passed when a 1d array was expected. Please change the shape of y to (n_samples,), for example using ravel().\n",
      "  return fit_method(estimator, *args, **kwargs)\n",
      "/Users/omardukureh12/anaconda3/lib/python3.11/site-packages/sklearn/base.py:1151: DataConversionWarning: A column-vector y was passed when a 1d array was expected. Please change the shape of y to (n_samples,), for example using ravel().\n",
      "  return fit_method(estimator, *args, **kwargs)\n",
      "/Users/omardukureh12/anaconda3/lib/python3.11/site-packages/sklearn/base.py:1151: DataConversionWarning: A column-vector y was passed when a 1d array was expected. Please change the shape of y to (n_samples,), for example using ravel().\n",
      "  return fit_method(estimator, *args, **kwargs)\n"
     ]
    },
    {
     "name": "stdout",
     "output_type": "stream",
     "text": [
      "[CV 4/5; 86/108] END max_depth=30, min_samples_leaf=1, min_samples_split=5, n_estimators=100;, score=-0.412 total time=   1.2s\n",
      "[CV 2/5; 88/108] START max_depth=30, min_samples_leaf=1, min_samples_split=10, n_estimators=50\n",
      "[CV 5/5; 86/108] END max_depth=30, min_samples_leaf=1, min_samples_split=5, n_estimators=100;, score=-0.413 total time=   1.1s\n",
      "[CV 3/5; 88/108] START max_depth=30, min_samples_leaf=1, min_samples_split=10, n_estimators=50\n"
     ]
    },
    {
     "name": "stderr",
     "output_type": "stream",
     "text": [
      "/Users/omardukureh12/anaconda3/lib/python3.11/site-packages/sklearn/base.py:1151: DataConversionWarning: A column-vector y was passed when a 1d array was expected. Please change the shape of y to (n_samples,), for example using ravel().\n",
      "  return fit_method(estimator, *args, **kwargs)\n",
      "/Users/omardukureh12/anaconda3/lib/python3.11/site-packages/sklearn/base.py:1151: DataConversionWarning: A column-vector y was passed when a 1d array was expected. Please change the shape of y to (n_samples,), for example using ravel().\n",
      "  return fit_method(estimator, *args, **kwargs)\n"
     ]
    },
    {
     "name": "stdout",
     "output_type": "stream",
     "text": [
      "[CV 1/5; 88/108] END max_depth=30, min_samples_leaf=1, min_samples_split=10, n_estimators=50;, score=-0.408 total time=   0.5s\n",
      "[CV 4/5; 88/108] START max_depth=30, min_samples_leaf=1, min_samples_split=10, n_estimators=50\n",
      "[CV 2/5; 88/108] END max_depth=30, min_samples_leaf=1, min_samples_split=10, n_estimators=50;, score=-0.462 total time=   0.5s\n",
      "[CV 5/5; 88/108] START max_depth=30, min_samples_leaf=1, min_samples_split=10, n_estimators=50\n"
     ]
    },
    {
     "name": "stderr",
     "output_type": "stream",
     "text": [
      "/Users/omardukureh12/anaconda3/lib/python3.11/site-packages/sklearn/base.py:1151: DataConversionWarning: A column-vector y was passed when a 1d array was expected. Please change the shape of y to (n_samples,), for example using ravel().\n",
      "  return fit_method(estimator, *args, **kwargs)\n",
      "/Users/omardukureh12/anaconda3/lib/python3.11/site-packages/sklearn/base.py:1151: DataConversionWarning: A column-vector y was passed when a 1d array was expected. Please change the shape of y to (n_samples,), for example using ravel().\n",
      "  return fit_method(estimator, *args, **kwargs)\n"
     ]
    },
    {
     "name": "stdout",
     "output_type": "stream",
     "text": [
      "[CV 3/5; 88/108] END max_depth=30, min_samples_leaf=1, min_samples_split=10, n_estimators=50;, score=-0.460 total time=   0.6s\n",
      "[CV 1/5; 89/108] START max_depth=30, min_samples_leaf=1, min_samples_split=10, n_estimators=100\n"
     ]
    },
    {
     "name": "stderr",
     "output_type": "stream",
     "text": [
      "/Users/omardukureh12/anaconda3/lib/python3.11/site-packages/sklearn/base.py:1151: DataConversionWarning: A column-vector y was passed when a 1d array was expected. Please change the shape of y to (n_samples,), for example using ravel().\n",
      "  return fit_method(estimator, *args, **kwargs)\n"
     ]
    },
    {
     "name": "stdout",
     "output_type": "stream",
     "text": [
      "[CV 4/5; 88/108] END max_depth=30, min_samples_leaf=1, min_samples_split=10, n_estimators=50;, score=-0.429 total time=   0.6s\n",
      "[CV 2/5; 89/108] START max_depth=30, min_samples_leaf=1, min_samples_split=10, n_estimators=100\n",
      "[CV 5/5; 88/108] END max_depth=30, min_samples_leaf=1, min_samples_split=10, n_estimators=50;, score=-0.414 total time=   0.5s\n",
      "[CV 3/5; 89/108] START max_depth=30, min_samples_leaf=1, min_samples_split=10, n_estimators=100\n"
     ]
    },
    {
     "name": "stderr",
     "output_type": "stream",
     "text": [
      "/Users/omardukureh12/anaconda3/lib/python3.11/site-packages/sklearn/base.py:1151: DataConversionWarning: A column-vector y was passed when a 1d array was expected. Please change the shape of y to (n_samples,), for example using ravel().\n",
      "  return fit_method(estimator, *args, **kwargs)\n",
      "/Users/omardukureh12/anaconda3/lib/python3.11/site-packages/sklearn/base.py:1151: DataConversionWarning: A column-vector y was passed when a 1d array was expected. Please change the shape of y to (n_samples,), for example using ravel().\n",
      "  return fit_method(estimator, *args, **kwargs)\n"
     ]
    },
    {
     "name": "stdout",
     "output_type": "stream",
     "text": [
      "[CV 1/5; 87/108] END max_depth=30, min_samples_leaf=1, min_samples_split=5, n_estimators=200;, score=-0.401 total time=   2.3s\n",
      "[CV 4/5; 89/108] START max_depth=30, min_samples_leaf=1, min_samples_split=10, n_estimators=100\n"
     ]
    },
    {
     "name": "stderr",
     "output_type": "stream",
     "text": [
      "/Users/omardukureh12/anaconda3/lib/python3.11/site-packages/sklearn/base.py:1151: DataConversionWarning: A column-vector y was passed when a 1d array was expected. Please change the shape of y to (n_samples,), for example using ravel().\n",
      "  return fit_method(estimator, *args, **kwargs)\n"
     ]
    },
    {
     "name": "stdout",
     "output_type": "stream",
     "text": [
      "[CV 1/5; 89/108] END max_depth=30, min_samples_leaf=1, min_samples_split=10, n_estimators=100;, score=-0.407 total time=   1.0s\n",
      "[CV 5/5; 89/108] START max_depth=30, min_samples_leaf=1, min_samples_split=10, n_estimators=100\n",
      "[CV 2/5; 87/108] END max_depth=30, min_samples_leaf=1, min_samples_split=5, n_estimators=200;, score=-0.449 total time=   2.4s\n",
      "[CV 1/5; 90/108] START max_depth=30, min_samples_leaf=1, min_samples_split=10, n_estimators=200\n"
     ]
    },
    {
     "name": "stderr",
     "output_type": "stream",
     "text": [
      "/Users/omardukureh12/anaconda3/lib/python3.11/site-packages/sklearn/base.py:1151: DataConversionWarning: A column-vector y was passed when a 1d array was expected. Please change the shape of y to (n_samples,), for example using ravel().\n",
      "  return fit_method(estimator, *args, **kwargs)\n",
      "/Users/omardukureh12/anaconda3/lib/python3.11/site-packages/sklearn/base.py:1151: DataConversionWarning: A column-vector y was passed when a 1d array was expected. Please change the shape of y to (n_samples,), for example using ravel().\n",
      "  return fit_method(estimator, *args, **kwargs)\n"
     ]
    },
    {
     "name": "stdout",
     "output_type": "stream",
     "text": [
      "[CV 2/5; 89/108] END max_depth=30, min_samples_leaf=1, min_samples_split=10, n_estimators=100;, score=-0.460 total time=   1.0s\n",
      "[CV 2/5; 90/108] START max_depth=30, min_samples_leaf=1, min_samples_split=10, n_estimators=200\n",
      "[CV 3/5; 89/108] END max_depth=30, min_samples_leaf=1, min_samples_split=10, n_estimators=100;, score=-0.463 total time=   1.0s\n",
      "[CV 3/5; 90/108] START max_depth=30, min_samples_leaf=1, min_samples_split=10, n_estimators=200\n"
     ]
    },
    {
     "name": "stderr",
     "output_type": "stream",
     "text": [
      "/Users/omardukureh12/anaconda3/lib/python3.11/site-packages/sklearn/base.py:1151: DataConversionWarning: A column-vector y was passed when a 1d array was expected. Please change the shape of y to (n_samples,), for example using ravel().\n",
      "  return fit_method(estimator, *args, **kwargs)\n",
      "/Users/omardukureh12/anaconda3/lib/python3.11/site-packages/sklearn/base.py:1151: DataConversionWarning: A column-vector y was passed when a 1d array was expected. Please change the shape of y to (n_samples,), for example using ravel().\n",
      "  return fit_method(estimator, *args, **kwargs)\n"
     ]
    },
    {
     "name": "stdout",
     "output_type": "stream",
     "text": [
      "[CV 3/5; 87/108] END max_depth=30, min_samples_leaf=1, min_samples_split=5, n_estimators=200;, score=-0.465 total time=   2.4s\n",
      "[CV 4/5; 90/108] START max_depth=30, min_samples_leaf=1, min_samples_split=10, n_estimators=200\n",
      "[CV 5/5; 87/108] END max_depth=30, min_samples_leaf=1, min_samples_split=5, n_estimators=200;, score=-0.413 total time=   2.4s\n",
      "[CV 5/5; 90/108] START max_depth=30, min_samples_leaf=1, min_samples_split=10, n_estimators=200\n",
      "[CV 4/5; 87/108] END max_depth=30, min_samples_leaf=1, min_samples_split=5, n_estimators=200;, score=-0.413 total time=   2.5s\n",
      "[CV 1/5; 91/108] START max_depth=30, min_samples_leaf=2, min_samples_split=2, n_estimators=50\n"
     ]
    },
    {
     "name": "stderr",
     "output_type": "stream",
     "text": [
      "/Users/omardukureh12/anaconda3/lib/python3.11/site-packages/sklearn/base.py:1151: DataConversionWarning: A column-vector y was passed when a 1d array was expected. Please change the shape of y to (n_samples,), for example using ravel().\n",
      "  return fit_method(estimator, *args, **kwargs)\n",
      "/Users/omardukureh12/anaconda3/lib/python3.11/site-packages/sklearn/base.py:1151: DataConversionWarning: A column-vector y was passed when a 1d array was expected. Please change the shape of y to (n_samples,), for example using ravel().\n",
      "  return fit_method(estimator, *args, **kwargs)\n",
      "/Users/omardukureh12/anaconda3/lib/python3.11/site-packages/sklearn/base.py:1151: DataConversionWarning: A column-vector y was passed when a 1d array was expected. Please change the shape of y to (n_samples,), for example using ravel().\n",
      "  return fit_method(estimator, *args, **kwargs)\n"
     ]
    },
    {
     "name": "stdout",
     "output_type": "stream",
     "text": [
      "[CV 4/5; 89/108] END max_depth=30, min_samples_leaf=1, min_samples_split=10, n_estimators=100;, score=-0.430 total time=   1.0s\n",
      "[CV 2/5; 91/108] START max_depth=30, min_samples_leaf=2, min_samples_split=2, n_estimators=50\n",
      "[CV 5/5; 89/108] END max_depth=30, min_samples_leaf=1, min_samples_split=10, n_estimators=100;, score=-0.413 total time=   0.9s\n",
      "[CV 3/5; 91/108] START max_depth=30, min_samples_leaf=2, min_samples_split=2, n_estimators=50\n"
     ]
    },
    {
     "name": "stderr",
     "output_type": "stream",
     "text": [
      "/Users/omardukureh12/anaconda3/lib/python3.11/site-packages/sklearn/base.py:1151: DataConversionWarning: A column-vector y was passed when a 1d array was expected. Please change the shape of y to (n_samples,), for example using ravel().\n",
      "  return fit_method(estimator, *args, **kwargs)\n",
      "/Users/omardukureh12/anaconda3/lib/python3.11/site-packages/sklearn/base.py:1151: DataConversionWarning: A column-vector y was passed when a 1d array was expected. Please change the shape of y to (n_samples,), for example using ravel().\n",
      "  return fit_method(estimator, *args, **kwargs)\n"
     ]
    },
    {
     "name": "stdout",
     "output_type": "stream",
     "text": [
      "[CV 1/5; 91/108] END max_depth=30, min_samples_leaf=2, min_samples_split=2, n_estimators=50;, score=-0.403 total time=   0.5s\n",
      "[CV 4/5; 91/108] START max_depth=30, min_samples_leaf=2, min_samples_split=2, n_estimators=50\n"
     ]
    },
    {
     "name": "stderr",
     "output_type": "stream",
     "text": [
      "/Users/omardukureh12/anaconda3/lib/python3.11/site-packages/sklearn/base.py:1151: DataConversionWarning: A column-vector y was passed when a 1d array was expected. Please change the shape of y to (n_samples,), for example using ravel().\n",
      "  return fit_method(estimator, *args, **kwargs)\n"
     ]
    },
    {
     "name": "stdout",
     "output_type": "stream",
     "text": [
      "[CV 2/5; 91/108] END max_depth=30, min_samples_leaf=2, min_samples_split=2, n_estimators=50;, score=-0.443 total time=   0.6s\n",
      "[CV 5/5; 91/108] START max_depth=30, min_samples_leaf=2, min_samples_split=2, n_estimators=50\n",
      "[CV 3/5; 91/108] END max_depth=30, min_samples_leaf=2, min_samples_split=2, n_estimators=50;, score=-0.465 total time=   0.5s\n",
      "[CV 1/5; 92/108] START max_depth=30, min_samples_leaf=2, min_samples_split=2, n_estimators=100\n"
     ]
    },
    {
     "name": "stderr",
     "output_type": "stream",
     "text": [
      "/Users/omardukureh12/anaconda3/lib/python3.11/site-packages/sklearn/base.py:1151: DataConversionWarning: A column-vector y was passed when a 1d array was expected. Please change the shape of y to (n_samples,), for example using ravel().\n",
      "  return fit_method(estimator, *args, **kwargs)\n",
      "/Users/omardukureh12/anaconda3/lib/python3.11/site-packages/sklearn/base.py:1151: DataConversionWarning: A column-vector y was passed when a 1d array was expected. Please change the shape of y to (n_samples,), for example using ravel().\n",
      "  return fit_method(estimator, *args, **kwargs)\n"
     ]
    },
    {
     "name": "stdout",
     "output_type": "stream",
     "text": [
      "[CV 4/5; 91/108] END max_depth=30, min_samples_leaf=2, min_samples_split=2, n_estimators=50;, score=-0.416 total time=   0.6s\n",
      "[CV 2/5; 92/108] START max_depth=30, min_samples_leaf=2, min_samples_split=2, n_estimators=100\n"
     ]
    },
    {
     "name": "stderr",
     "output_type": "stream",
     "text": [
      "/Users/omardukureh12/anaconda3/lib/python3.11/site-packages/sklearn/base.py:1151: DataConversionWarning: A column-vector y was passed when a 1d array was expected. Please change the shape of y to (n_samples,), for example using ravel().\n",
      "  return fit_method(estimator, *args, **kwargs)\n"
     ]
    },
    {
     "name": "stdout",
     "output_type": "stream",
     "text": [
      "[CV 5/5; 91/108] END max_depth=30, min_samples_leaf=2, min_samples_split=2, n_estimators=50;, score=-0.410 total time=   0.6s\n",
      "[CV 3/5; 92/108] START max_depth=30, min_samples_leaf=2, min_samples_split=2, n_estimators=100\n",
      "[CV 1/5; 90/108] END max_depth=30, min_samples_leaf=1, min_samples_split=10, n_estimators=200;, score=-0.401 total time=   2.0s\n",
      "[CV 4/5; 92/108] START max_depth=30, min_samples_leaf=2, min_samples_split=2, n_estimators=100\n",
      "[CV 2/5; 90/108] END max_depth=30, min_samples_leaf=1, min_samples_split=10, n_estimators=200;, score=-0.460 total time=   1.9s\n",
      "[CV 5/5; 92/108] START max_depth=30, min_samples_leaf=2, min_samples_split=2, n_estimators=100\n"
     ]
    },
    {
     "name": "stderr",
     "output_type": "stream",
     "text": [
      "/Users/omardukureh12/anaconda3/lib/python3.11/site-packages/sklearn/base.py:1151: DataConversionWarning: A column-vector y was passed when a 1d array was expected. Please change the shape of y to (n_samples,), for example using ravel().\n",
      "  return fit_method(estimator, *args, **kwargs)\n",
      "/Users/omardukureh12/anaconda3/lib/python3.11/site-packages/sklearn/base.py:1151: DataConversionWarning: A column-vector y was passed when a 1d array was expected. Please change the shape of y to (n_samples,), for example using ravel().\n",
      "  return fit_method(estimator, *args, **kwargs)\n",
      "/Users/omardukureh12/anaconda3/lib/python3.11/site-packages/sklearn/base.py:1151: DataConversionWarning: A column-vector y was passed when a 1d array was expected. Please change the shape of y to (n_samples,), for example using ravel().\n",
      "  return fit_method(estimator, *args, **kwargs)\n"
     ]
    },
    {
     "name": "stdout",
     "output_type": "stream",
     "text": [
      "[CV 5/5; 90/108] END max_depth=30, min_samples_leaf=1, min_samples_split=10, n_estimators=200;, score=-0.410 total time=   1.9s\n",
      "[CV 1/5; 93/108] START max_depth=30, min_samples_leaf=2, min_samples_split=2, n_estimators=200\n",
      "[CV 3/5; 90/108] END max_depth=30, min_samples_leaf=1, min_samples_split=10, n_estimators=200;, score=-0.466 total time=   2.0s\n",
      "[CV 2/5; 93/108] START max_depth=30, min_samples_leaf=2, min_samples_split=2, n_estimators=200\n",
      "[CV 4/5; 90/108] END max_depth=30, min_samples_leaf=1, min_samples_split=10, n_estimators=200;, score=-0.433 total time=   1.9s\n",
      "[CV 3/5; 93/108] START max_depth=30, min_samples_leaf=2, min_samples_split=2, n_estimators=200\n",
      "[CV 1/5; 92/108] END max_depth=30, min_samples_leaf=2, min_samples_split=2, n_estimators=100;, score=-0.402 total time=   1.0s\n",
      "[CV 4/5; 93/108] START max_depth=30, min_samples_leaf=2, min_samples_split=2, n_estimators=200\n"
     ]
    },
    {
     "name": "stderr",
     "output_type": "stream",
     "text": [
      "/Users/omardukureh12/anaconda3/lib/python3.11/site-packages/sklearn/base.py:1151: DataConversionWarning: A column-vector y was passed when a 1d array was expected. Please change the shape of y to (n_samples,), for example using ravel().\n",
      "  return fit_method(estimator, *args, **kwargs)\n",
      "/Users/omardukureh12/anaconda3/lib/python3.11/site-packages/sklearn/base.py:1151: DataConversionWarning: A column-vector y was passed when a 1d array was expected. Please change the shape of y to (n_samples,), for example using ravel().\n",
      "  return fit_method(estimator, *args, **kwargs)\n",
      "/Users/omardukureh12/anaconda3/lib/python3.11/site-packages/sklearn/base.py:1151: DataConversionWarning: A column-vector y was passed when a 1d array was expected. Please change the shape of y to (n_samples,), for example using ravel().\n",
      "  return fit_method(estimator, *args, **kwargs)\n",
      "/Users/omardukureh12/anaconda3/lib/python3.11/site-packages/sklearn/base.py:1151: DataConversionWarning: A column-vector y was passed when a 1d array was expected. Please change the shape of y to (n_samples,), for example using ravel().\n",
      "  return fit_method(estimator, *args, **kwargs)\n"
     ]
    },
    {
     "name": "stdout",
     "output_type": "stream",
     "text": [
      "[CV 2/5; 92/108] END max_depth=30, min_samples_leaf=2, min_samples_split=2, n_estimators=100;, score=-0.449 total time=   1.1s\n",
      "[CV 5/5; 93/108] START max_depth=30, min_samples_leaf=2, min_samples_split=2, n_estimators=200\n"
     ]
    },
    {
     "name": "stderr",
     "output_type": "stream",
     "text": [
      "/Users/omardukureh12/anaconda3/lib/python3.11/site-packages/sklearn/base.py:1151: DataConversionWarning: A column-vector y was passed when a 1d array was expected. Please change the shape of y to (n_samples,), for example using ravel().\n",
      "  return fit_method(estimator, *args, **kwargs)\n"
     ]
    },
    {
     "name": "stdout",
     "output_type": "stream",
     "text": [
      "[CV 3/5; 92/108] END max_depth=30, min_samples_leaf=2, min_samples_split=2, n_estimators=100;, score=-0.464 total time=   1.1s\n",
      "[CV 1/5; 94/108] START max_depth=30, min_samples_leaf=2, min_samples_split=5, n_estimators=50\n",
      "[CV 4/5; 92/108] END max_depth=30, min_samples_leaf=2, min_samples_split=2, n_estimators=100;, score=-0.408 total time=   1.2s\n",
      "[CV 2/5; 94/108] START max_depth=30, min_samples_leaf=2, min_samples_split=5, n_estimators=50\n"
     ]
    },
    {
     "name": "stderr",
     "output_type": "stream",
     "text": [
      "/Users/omardukureh12/anaconda3/lib/python3.11/site-packages/sklearn/base.py:1151: DataConversionWarning: A column-vector y was passed when a 1d array was expected. Please change the shape of y to (n_samples,), for example using ravel().\n",
      "  return fit_method(estimator, *args, **kwargs)\n",
      "/Users/omardukureh12/anaconda3/lib/python3.11/site-packages/sklearn/base.py:1151: DataConversionWarning: A column-vector y was passed when a 1d array was expected. Please change the shape of y to (n_samples,), for example using ravel().\n",
      "  return fit_method(estimator, *args, **kwargs)\n"
     ]
    },
    {
     "name": "stdout",
     "output_type": "stream",
     "text": [
      "[CV 5/5; 92/108] END max_depth=30, min_samples_leaf=2, min_samples_split=2, n_estimators=100;, score=-0.408 total time=   1.2s\n",
      "[CV 3/5; 94/108] START max_depth=30, min_samples_leaf=2, min_samples_split=5, n_estimators=50\n",
      "[CV 1/5; 94/108] END max_depth=30, min_samples_leaf=2, min_samples_split=5, n_estimators=50;, score=-0.404 total time=   0.5s\n",
      "[CV 4/5; 94/108] START max_depth=30, min_samples_leaf=2, min_samples_split=5, n_estimators=50\n"
     ]
    },
    {
     "name": "stderr",
     "output_type": "stream",
     "text": [
      "/Users/omardukureh12/anaconda3/lib/python3.11/site-packages/sklearn/base.py:1151: DataConversionWarning: A column-vector y was passed when a 1d array was expected. Please change the shape of y to (n_samples,), for example using ravel().\n",
      "  return fit_method(estimator, *args, **kwargs)\n",
      "/Users/omardukureh12/anaconda3/lib/python3.11/site-packages/sklearn/base.py:1151: DataConversionWarning: A column-vector y was passed when a 1d array was expected. Please change the shape of y to (n_samples,), for example using ravel().\n",
      "  return fit_method(estimator, *args, **kwargs)\n"
     ]
    },
    {
     "name": "stdout",
     "output_type": "stream",
     "text": [
      "[CV 2/5; 94/108] END max_depth=30, min_samples_leaf=2, min_samples_split=5, n_estimators=50;, score=-0.443 total time=   0.5s\n",
      "[CV 5/5; 94/108] START max_depth=30, min_samples_leaf=2, min_samples_split=5, n_estimators=50\n",
      "[CV 3/5; 94/108] END max_depth=30, min_samples_leaf=2, min_samples_split=5, n_estimators=50;, score=-0.467 total time=   0.5s\n",
      "[CV 1/5; 95/108] START max_depth=30, min_samples_leaf=2, min_samples_split=5, n_estimators=100\n"
     ]
    },
    {
     "name": "stderr",
     "output_type": "stream",
     "text": [
      "/Users/omardukureh12/anaconda3/lib/python3.11/site-packages/sklearn/base.py:1151: DataConversionWarning: A column-vector y was passed when a 1d array was expected. Please change the shape of y to (n_samples,), for example using ravel().\n",
      "  return fit_method(estimator, *args, **kwargs)\n",
      "/Users/omardukureh12/anaconda3/lib/python3.11/site-packages/sklearn/base.py:1151: DataConversionWarning: A column-vector y was passed when a 1d array was expected. Please change the shape of y to (n_samples,), for example using ravel().\n",
      "  return fit_method(estimator, *args, **kwargs)\n"
     ]
    },
    {
     "name": "stdout",
     "output_type": "stream",
     "text": [
      "[CV 4/5; 94/108] END max_depth=30, min_samples_leaf=2, min_samples_split=5, n_estimators=50;, score=-0.414 total time=   0.5s\n",
      "[CV 2/5; 95/108] START max_depth=30, min_samples_leaf=2, min_samples_split=5, n_estimators=100\n",
      "[CV 5/5; 94/108] END max_depth=30, min_samples_leaf=2, min_samples_split=5, n_estimators=50;, score=-0.415 total time=   0.5s\n",
      "[CV 3/5; 95/108] START max_depth=30, min_samples_leaf=2, min_samples_split=5, n_estimators=100\n"
     ]
    },
    {
     "name": "stderr",
     "output_type": "stream",
     "text": [
      "/Users/omardukureh12/anaconda3/lib/python3.11/site-packages/sklearn/base.py:1151: DataConversionWarning: A column-vector y was passed when a 1d array was expected. Please change the shape of y to (n_samples,), for example using ravel().\n",
      "  return fit_method(estimator, *args, **kwargs)\n",
      "/Users/omardukureh12/anaconda3/lib/python3.11/site-packages/sklearn/base.py:1151: DataConversionWarning: A column-vector y was passed when a 1d array was expected. Please change the shape of y to (n_samples,), for example using ravel().\n",
      "  return fit_method(estimator, *args, **kwargs)\n"
     ]
    },
    {
     "name": "stdout",
     "output_type": "stream",
     "text": [
      "[CV 3/5; 93/108] END max_depth=30, min_samples_leaf=2, min_samples_split=2, n_estimators=200;, score=-0.464 total time=   2.2s\n",
      "[CV 4/5; 95/108] START max_depth=30, min_samples_leaf=2, min_samples_split=5, n_estimators=100\n",
      "[CV 1/5; 93/108] END max_depth=30, min_samples_leaf=2, min_samples_split=2, n_estimators=200;, score=-0.395 total time=   2.3s\n",
      "[CV 5/5; 95/108] START max_depth=30, min_samples_leaf=2, min_samples_split=5, n_estimators=100\n",
      "[CV 4/5; 93/108] END max_depth=30, min_samples_leaf=2, min_samples_split=2, n_estimators=200;, score=-0.409 total time=   2.2s\n",
      "[CV 1/5; 96/108] START max_depth=30, min_samples_leaf=2, min_samples_split=5, n_estimators=200\n"
     ]
    },
    {
     "name": "stderr",
     "output_type": "stream",
     "text": [
      "/Users/omardukureh12/anaconda3/lib/python3.11/site-packages/sklearn/base.py:1151: DataConversionWarning: A column-vector y was passed when a 1d array was expected. Please change the shape of y to (n_samples,), for example using ravel().\n",
      "  return fit_method(estimator, *args, **kwargs)\n",
      "/Users/omardukureh12/anaconda3/lib/python3.11/site-packages/sklearn/base.py:1151: DataConversionWarning: A column-vector y was passed when a 1d array was expected. Please change the shape of y to (n_samples,), for example using ravel().\n",
      "  return fit_method(estimator, *args, **kwargs)\n",
      "/Users/omardukureh12/anaconda3/lib/python3.11/site-packages/sklearn/base.py:1151: DataConversionWarning: A column-vector y was passed when a 1d array was expected. Please change the shape of y to (n_samples,), for example using ravel().\n",
      "  return fit_method(estimator, *args, **kwargs)\n"
     ]
    },
    {
     "name": "stdout",
     "output_type": "stream",
     "text": [
      "[CV 2/5; 93/108] END max_depth=30, min_samples_leaf=2, min_samples_split=2, n_estimators=200;, score=-0.449 total time=   2.4s\n",
      "[CV 2/5; 96/108] START max_depth=30, min_samples_leaf=2, min_samples_split=5, n_estimators=200\n",
      "[CV 5/5; 93/108] END max_depth=30, min_samples_leaf=2, min_samples_split=2, n_estimators=200;, score=-0.409 total time=   2.1s\n",
      "[CV 3/5; 96/108] START max_depth=30, min_samples_leaf=2, min_samples_split=5, n_estimators=200\n",
      "[CV 1/5; 95/108] END max_depth=30, min_samples_leaf=2, min_samples_split=5, n_estimators=100;, score=-0.404 total time=   1.0s\n",
      "[CV 4/5; 96/108] START max_depth=30, min_samples_leaf=2, min_samples_split=5, n_estimators=200\n"
     ]
    },
    {
     "name": "stderr",
     "output_type": "stream",
     "text": [
      "/Users/omardukureh12/anaconda3/lib/python3.11/site-packages/sklearn/base.py:1151: DataConversionWarning: A column-vector y was passed when a 1d array was expected. Please change the shape of y to (n_samples,), for example using ravel().\n",
      "  return fit_method(estimator, *args, **kwargs)\n",
      "/Users/omardukureh12/anaconda3/lib/python3.11/site-packages/sklearn/base.py:1151: DataConversionWarning: A column-vector y was passed when a 1d array was expected. Please change the shape of y to (n_samples,), for example using ravel().\n",
      "  return fit_method(estimator, *args, **kwargs)\n",
      "/Users/omardukureh12/anaconda3/lib/python3.11/site-packages/sklearn/base.py:1151: DataConversionWarning: A column-vector y was passed when a 1d array was expected. Please change the shape of y to (n_samples,), for example using ravel().\n",
      "  return fit_method(estimator, *args, **kwargs)\n"
     ]
    },
    {
     "name": "stdout",
     "output_type": "stream",
     "text": [
      "[CV 2/5; 95/108] END max_depth=30, min_samples_leaf=2, min_samples_split=5, n_estimators=100;, score=-0.449 total time=   1.1s\n",
      "[CV 5/5; 96/108] START max_depth=30, min_samples_leaf=2, min_samples_split=5, n_estimators=200\n"
     ]
    },
    {
     "name": "stderr",
     "output_type": "stream",
     "text": [
      "/Users/omardukureh12/anaconda3/lib/python3.11/site-packages/sklearn/base.py:1151: DataConversionWarning: A column-vector y was passed when a 1d array was expected. Please change the shape of y to (n_samples,), for example using ravel().\n",
      "  return fit_method(estimator, *args, **kwargs)\n"
     ]
    },
    {
     "name": "stdout",
     "output_type": "stream",
     "text": [
      "[CV 3/5; 95/108] END max_depth=30, min_samples_leaf=2, min_samples_split=5, n_estimators=100;, score=-0.464 total time=   1.1s\n",
      "[CV 1/5; 97/108] START max_depth=30, min_samples_leaf=2, min_samples_split=10, n_estimators=50\n",
      "[CV 4/5; 95/108] END max_depth=30, min_samples_leaf=2, min_samples_split=5, n_estimators=100;, score=-0.407 total time=   1.0s\n",
      "[CV 2/5; 97/108] START max_depth=30, min_samples_leaf=2, min_samples_split=10, n_estimators=50\n"
     ]
    },
    {
     "name": "stderr",
     "output_type": "stream",
     "text": [
      "/Users/omardukureh12/anaconda3/lib/python3.11/site-packages/sklearn/base.py:1151: DataConversionWarning: A column-vector y was passed when a 1d array was expected. Please change the shape of y to (n_samples,), for example using ravel().\n",
      "  return fit_method(estimator, *args, **kwargs)\n",
      "/Users/omardukureh12/anaconda3/lib/python3.11/site-packages/sklearn/base.py:1151: DataConversionWarning: A column-vector y was passed when a 1d array was expected. Please change the shape of y to (n_samples,), for example using ravel().\n",
      "  return fit_method(estimator, *args, **kwargs)\n"
     ]
    },
    {
     "name": "stdout",
     "output_type": "stream",
     "text": [
      "[CV 5/5; 95/108] END max_depth=30, min_samples_leaf=2, min_samples_split=5, n_estimators=100;, score=-0.410 total time=   1.0s\n",
      "[CV 3/5; 97/108] START max_depth=30, min_samples_leaf=2, min_samples_split=10, n_estimators=50\n",
      "[CV 1/5; 97/108] END max_depth=30, min_samples_leaf=2, min_samples_split=10, n_estimators=50;, score=-0.404 total time=   0.4s\n",
      "[CV 4/5; 97/108] START max_depth=30, min_samples_leaf=2, min_samples_split=10, n_estimators=50\n"
     ]
    },
    {
     "name": "stderr",
     "output_type": "stream",
     "text": [
      "/Users/omardukureh12/anaconda3/lib/python3.11/site-packages/sklearn/base.py:1151: DataConversionWarning: A column-vector y was passed when a 1d array was expected. Please change the shape of y to (n_samples,), for example using ravel().\n",
      "  return fit_method(estimator, *args, **kwargs)\n",
      "/Users/omardukureh12/anaconda3/lib/python3.11/site-packages/sklearn/base.py:1151: DataConversionWarning: A column-vector y was passed when a 1d array was expected. Please change the shape of y to (n_samples,), for example using ravel().\n",
      "  return fit_method(estimator, *args, **kwargs)\n"
     ]
    },
    {
     "name": "stdout",
     "output_type": "stream",
     "text": [
      "[CV 2/5; 97/108] END max_depth=30, min_samples_leaf=2, min_samples_split=10, n_estimators=50;, score=-0.461 total time=   0.5s\n",
      "[CV 5/5; 97/108] START max_depth=30, min_samples_leaf=2, min_samples_split=10, n_estimators=50\n",
      "[CV 3/5; 97/108] END max_depth=30, min_samples_leaf=2, min_samples_split=10, n_estimators=50;, score=-0.465 total time=   0.5s\n",
      "[CV 1/5; 98/108] START max_depth=30, min_samples_leaf=2, min_samples_split=10, n_estimators=100\n"
     ]
    },
    {
     "name": "stderr",
     "output_type": "stream",
     "text": [
      "/Users/omardukureh12/anaconda3/lib/python3.11/site-packages/sklearn/base.py:1151: DataConversionWarning: A column-vector y was passed when a 1d array was expected. Please change the shape of y to (n_samples,), for example using ravel().\n",
      "  return fit_method(estimator, *args, **kwargs)\n",
      "/Users/omardukureh12/anaconda3/lib/python3.11/site-packages/sklearn/base.py:1151: DataConversionWarning: A column-vector y was passed when a 1d array was expected. Please change the shape of y to (n_samples,), for example using ravel().\n",
      "  return fit_method(estimator, *args, **kwargs)\n"
     ]
    },
    {
     "name": "stdout",
     "output_type": "stream",
     "text": [
      "[CV 4/5; 97/108] END max_depth=30, min_samples_leaf=2, min_samples_split=10, n_estimators=50;, score=-0.433 total time=   0.5s\n",
      "[CV 2/5; 98/108] START max_depth=30, min_samples_leaf=2, min_samples_split=10, n_estimators=100\n"
     ]
    },
    {
     "name": "stderr",
     "output_type": "stream",
     "text": [
      "/Users/omardukureh12/anaconda3/lib/python3.11/site-packages/sklearn/base.py:1151: DataConversionWarning: A column-vector y was passed when a 1d array was expected. Please change the shape of y to (n_samples,), for example using ravel().\n",
      "  return fit_method(estimator, *args, **kwargs)\n"
     ]
    },
    {
     "name": "stdout",
     "output_type": "stream",
     "text": [
      "[CV 5/5; 97/108] END max_depth=30, min_samples_leaf=2, min_samples_split=10, n_estimators=50;, score=-0.413 total time=   0.6s\n",
      "[CV 3/5; 98/108] START max_depth=30, min_samples_leaf=2, min_samples_split=10, n_estimators=100\n"
     ]
    },
    {
     "name": "stderr",
     "output_type": "stream",
     "text": [
      "/Users/omardukureh12/anaconda3/lib/python3.11/site-packages/sklearn/base.py:1151: DataConversionWarning: A column-vector y was passed when a 1d array was expected. Please change the shape of y to (n_samples,), for example using ravel().\n",
      "  return fit_method(estimator, *args, **kwargs)\n"
     ]
    },
    {
     "name": "stdout",
     "output_type": "stream",
     "text": [
      "[CV 1/5; 96/108] END max_depth=30, min_samples_leaf=2, min_samples_split=5, n_estimators=200;, score=-0.396 total time=   2.1s\n",
      "[CV 4/5; 98/108] START max_depth=30, min_samples_leaf=2, min_samples_split=10, n_estimators=100\n",
      "[CV 1/5; 98/108] END max_depth=30, min_samples_leaf=2, min_samples_split=10, n_estimators=100;, score=-0.402 total time=   1.0s\n"
     ]
    },
    {
     "name": "stderr",
     "output_type": "stream",
     "text": [
      "/Users/omardukureh12/anaconda3/lib/python3.11/site-packages/sklearn/base.py:1151: DataConversionWarning: A column-vector y was passed when a 1d array was expected. Please change the shape of y to (n_samples,), for example using ravel().\n",
      "  return fit_method(estimator, *args, **kwargs)\n",
      "/Users/omardukureh12/anaconda3/lib/python3.11/site-packages/sklearn/base.py:1151: DataConversionWarning: A column-vector y was passed when a 1d array was expected. Please change the shape of y to (n_samples,), for example using ravel().\n",
      "  return fit_method(estimator, *args, **kwargs)\n",
      "/Users/omardukureh12/anaconda3/lib/python3.11/site-packages/sklearn/base.py:1151: DataConversionWarning: A column-vector y was passed when a 1d array was expected. Please change the shape of y to (n_samples,), for example using ravel().\n",
      "  return fit_method(estimator, *args, **kwargs)\n"
     ]
    },
    {
     "name": "stdout",
     "output_type": "stream",
     "text": [
      "[CV 2/5; 96/108] END max_depth=30, min_samples_leaf=2, min_samples_split=5, n_estimators=200;, score=-0.450 total time=   2.2s\n",
      "[CV 5/5; 98/108] START max_depth=30, min_samples_leaf=2, min_samples_split=10, n_estimators=100\n",
      "[CV 1/5; 99/108] START max_depth=30, min_samples_leaf=2, min_samples_split=10, n_estimators=200\n",
      "[CV 3/5; 96/108] END max_depth=30, min_samples_leaf=2, min_samples_split=5, n_estimators=200;, score=-0.464 total time=   2.2s\n",
      "[CV 2/5; 99/108] START max_depth=30, min_samples_leaf=2, min_samples_split=10, n_estimators=200\n",
      "[CV 4/5; 96/108] END max_depth=30, min_samples_leaf=2, min_samples_split=5, n_estimators=200;, score=-0.411 total time=   2.2s\n",
      "[CV 3/5; 99/108] START max_depth=30, min_samples_leaf=2, min_samples_split=10, n_estimators=200\n"
     ]
    },
    {
     "name": "stderr",
     "output_type": "stream",
     "text": [
      "/Users/omardukureh12/anaconda3/lib/python3.11/site-packages/sklearn/base.py:1151: DataConversionWarning: A column-vector y was passed when a 1d array was expected. Please change the shape of y to (n_samples,), for example using ravel().\n",
      "  return fit_method(estimator, *args, **kwargs)\n",
      "/Users/omardukureh12/anaconda3/lib/python3.11/site-packages/sklearn/base.py:1151: DataConversionWarning: A column-vector y was passed when a 1d array was expected. Please change the shape of y to (n_samples,), for example using ravel().\n",
      "  return fit_method(estimator, *args, **kwargs)\n",
      "/Users/omardukureh12/anaconda3/lib/python3.11/site-packages/sklearn/base.py:1151: DataConversionWarning: A column-vector y was passed when a 1d array was expected. Please change the shape of y to (n_samples,), for example using ravel().\n",
      "  return fit_method(estimator, *args, **kwargs)\n",
      "/Users/omardukureh12/anaconda3/lib/python3.11/site-packages/sklearn/base.py:1151: DataConversionWarning: A column-vector y was passed when a 1d array was expected. Please change the shape of y to (n_samples,), for example using ravel().\n",
      "  return fit_method(estimator, *args, **kwargs)\n"
     ]
    },
    {
     "name": "stdout",
     "output_type": "stream",
     "text": [
      "[CV 5/5; 96/108] END max_depth=30, min_samples_leaf=2, min_samples_split=5, n_estimators=200;, score=-0.409 total time=   2.2s\n",
      "[CV 4/5; 99/108] START max_depth=30, min_samples_leaf=2, min_samples_split=10, n_estimators=200\n",
      "[CV 2/5; 98/108] END max_depth=30, min_samples_leaf=2, min_samples_split=10, n_estimators=100;, score=-0.462 total time=   1.0s\n",
      "[CV 5/5; 99/108] START max_depth=30, min_samples_leaf=2, min_samples_split=10, n_estimators=200\n",
      "[CV 3/5; 98/108] END max_depth=30, min_samples_leaf=2, min_samples_split=10, n_estimators=100;, score=-0.464 total time=   1.0s\n",
      "[CV 1/5; 100/108] START max_depth=30, min_samples_leaf=4, min_samples_split=2, n_estimators=50\n"
     ]
    },
    {
     "name": "stderr",
     "output_type": "stream",
     "text": [
      "/Users/omardukureh12/anaconda3/lib/python3.11/site-packages/sklearn/base.py:1151: DataConversionWarning: A column-vector y was passed when a 1d array was expected. Please change the shape of y to (n_samples,), for example using ravel().\n",
      "  return fit_method(estimator, *args, **kwargs)\n",
      "/Users/omardukureh12/anaconda3/lib/python3.11/site-packages/sklearn/base.py:1151: DataConversionWarning: A column-vector y was passed when a 1d array was expected. Please change the shape of y to (n_samples,), for example using ravel().\n",
      "  return fit_method(estimator, *args, **kwargs)\n"
     ]
    },
    {
     "name": "stdout",
     "output_type": "stream",
     "text": [
      "[CV 4/5; 98/108] END max_depth=30, min_samples_leaf=2, min_samples_split=10, n_estimators=100;, score=-0.428 total time=   0.9s\n",
      "[CV 2/5; 100/108] START max_depth=30, min_samples_leaf=4, min_samples_split=2, n_estimators=50\n",
      "[CV 5/5; 98/108] END max_depth=30, min_samples_leaf=2, min_samples_split=10, n_estimators=100;, score=-0.411 total time=   0.9s\n",
      "[CV 3/5; 100/108] START max_depth=30, min_samples_leaf=4, min_samples_split=2, n_estimators=50\n",
      "[CV 1/5; 100/108] END max_depth=30, min_samples_leaf=4, min_samples_split=2, n_estimators=50;, score=-0.396 total time=   0.4s\n",
      "[CV 4/5; 100/108] START max_depth=30, min_samples_leaf=4, min_samples_split=2, n_estimators=50\n",
      "[CV 2/5; 100/108] END max_depth=30, min_samples_leaf=4, min_samples_split=2, n_estimators=50;, score=-0.461 total time=   0.4s\n"
     ]
    },
    {
     "name": "stderr",
     "output_type": "stream",
     "text": [
      "/Users/omardukureh12/anaconda3/lib/python3.11/site-packages/sklearn/base.py:1151: DataConversionWarning: A column-vector y was passed when a 1d array was expected. Please change the shape of y to (n_samples,), for example using ravel().\n",
      "  return fit_method(estimator, *args, **kwargs)\n",
      "/Users/omardukureh12/anaconda3/lib/python3.11/site-packages/sklearn/base.py:1151: DataConversionWarning: A column-vector y was passed when a 1d array was expected. Please change the shape of y to (n_samples,), for example using ravel().\n",
      "  return fit_method(estimator, *args, **kwargs)\n",
      "/Users/omardukureh12/anaconda3/lib/python3.11/site-packages/sklearn/base.py:1151: DataConversionWarning: A column-vector y was passed when a 1d array was expected. Please change the shape of y to (n_samples,), for example using ravel().\n",
      "  return fit_method(estimator, *args, **kwargs)\n"
     ]
    },
    {
     "name": "stdout",
     "output_type": "stream",
     "text": [
      "[CV 5/5; 100/108] START max_depth=30, min_samples_leaf=4, min_samples_split=2, n_estimators=50\n",
      "[CV 3/5; 100/108] END max_depth=30, min_samples_leaf=4, min_samples_split=2, n_estimators=50;, score=-0.475 total time=   0.5s\n",
      "[CV 1/5; 101/108] START max_depth=30, min_samples_leaf=4, min_samples_split=2, n_estimators=100\n",
      "[CV 4/5; 100/108] END max_depth=30, min_samples_leaf=4, min_samples_split=2, n_estimators=50;, score=-0.428 total time=   0.4s\n",
      "[CV 2/5; 101/108] START max_depth=30, min_samples_leaf=4, min_samples_split=2, n_estimators=100\n"
     ]
    },
    {
     "name": "stderr",
     "output_type": "stream",
     "text": [
      "/Users/omardukureh12/anaconda3/lib/python3.11/site-packages/sklearn/base.py:1151: DataConversionWarning: A column-vector y was passed when a 1d array was expected. Please change the shape of y to (n_samples,), for example using ravel().\n",
      "  return fit_method(estimator, *args, **kwargs)\n",
      "/Users/omardukureh12/anaconda3/lib/python3.11/site-packages/sklearn/base.py:1151: DataConversionWarning: A column-vector y was passed when a 1d array was expected. Please change the shape of y to (n_samples,), for example using ravel().\n",
      "  return fit_method(estimator, *args, **kwargs)\n"
     ]
    },
    {
     "name": "stdout",
     "output_type": "stream",
     "text": [
      "[CV 5/5; 100/108] END max_depth=30, min_samples_leaf=4, min_samples_split=2, n_estimators=50;, score=-0.408 total time=   0.5s\n",
      "[CV 3/5; 101/108] START max_depth=30, min_samples_leaf=4, min_samples_split=2, n_estimators=100\n"
     ]
    },
    {
     "name": "stderr",
     "output_type": "stream",
     "text": [
      "/Users/omardukureh12/anaconda3/lib/python3.11/site-packages/sklearn/base.py:1151: DataConversionWarning: A column-vector y was passed when a 1d array was expected. Please change the shape of y to (n_samples,), for example using ravel().\n",
      "  return fit_method(estimator, *args, **kwargs)\n"
     ]
    },
    {
     "name": "stdout",
     "output_type": "stream",
     "text": [
      "[CV 1/5; 99/108] END max_depth=30, min_samples_leaf=2, min_samples_split=10, n_estimators=200;, score=-0.398 total time=   1.9s\n",
      "[CV 4/5; 101/108] START max_depth=30, min_samples_leaf=4, min_samples_split=2, n_estimators=100\n",
      "[CV 2/5; 99/108] END max_depth=30, min_samples_leaf=2, min_samples_split=10, n_estimators=200;, score=-0.461 total time=   1.9s\n",
      "[CV 5/5; 101/108] START max_depth=30, min_samples_leaf=4, min_samples_split=2, n_estimators=100\n",
      "[CV 3/5; 99/108] END max_depth=30, min_samples_leaf=2, min_samples_split=10, n_estimators=200;, score=-0.466 total time=   1.9s\n",
      "[CV 1/5; 102/108] START max_depth=30, min_samples_leaf=4, min_samples_split=2, n_estimators=200\n"
     ]
    },
    {
     "name": "stderr",
     "output_type": "stream",
     "text": [
      "/Users/omardukureh12/anaconda3/lib/python3.11/site-packages/sklearn/base.py:1151: DataConversionWarning: A column-vector y was passed when a 1d array was expected. Please change the shape of y to (n_samples,), for example using ravel().\n",
      "  return fit_method(estimator, *args, **kwargs)\n",
      "/Users/omardukureh12/anaconda3/lib/python3.11/site-packages/sklearn/base.py:1151: DataConversionWarning: A column-vector y was passed when a 1d array was expected. Please change the shape of y to (n_samples,), for example using ravel().\n",
      "  return fit_method(estimator, *args, **kwargs)\n",
      "/Users/omardukureh12/anaconda3/lib/python3.11/site-packages/sklearn/base.py:1151: DataConversionWarning: A column-vector y was passed when a 1d array was expected. Please change the shape of y to (n_samples,), for example using ravel().\n",
      "  return fit_method(estimator, *args, **kwargs)\n"
     ]
    },
    {
     "name": "stdout",
     "output_type": "stream",
     "text": [
      "[CV 5/5; 99/108] END max_depth=30, min_samples_leaf=2, min_samples_split=10, n_estimators=200;, score=-0.409 total time=   1.8s\n",
      "[CV 2/5; 102/108] START max_depth=30, min_samples_leaf=4, min_samples_split=2, n_estimators=200\n",
      "[CV 4/5; 99/108] END max_depth=30, min_samples_leaf=2, min_samples_split=10, n_estimators=200;, score=-0.432 total time=   1.9s\n",
      "[CV 3/5; 102/108] START max_depth=30, min_samples_leaf=4, min_samples_split=2, n_estimators=200\n",
      "[CV 2/5; 101/108] END max_depth=30, min_samples_leaf=4, min_samples_split=2, n_estimators=100;, score=-0.464 total time=   0.8s\n",
      "[CV 4/5; 102/108] START max_depth=30, min_samples_leaf=4, min_samples_split=2, n_estimators=200\n",
      "[CV 1/5; 101/108] END max_depth=30, min_samples_leaf=4, min_samples_split=2, n_estimators=100;, score=-0.395 total time=   0.9s\n",
      "[CV 5/5; 102/108] START max_depth=30, min_samples_leaf=4, min_samples_split=2, n_estimators=200\n"
     ]
    },
    {
     "name": "stderr",
     "output_type": "stream",
     "text": [
      "/Users/omardukureh12/anaconda3/lib/python3.11/site-packages/sklearn/base.py:1151: DataConversionWarning: A column-vector y was passed when a 1d array was expected. Please change the shape of y to (n_samples,), for example using ravel().\n",
      "  return fit_method(estimator, *args, **kwargs)\n",
      "/Users/omardukureh12/anaconda3/lib/python3.11/site-packages/sklearn/base.py:1151: DataConversionWarning: A column-vector y was passed when a 1d array was expected. Please change the shape of y to (n_samples,), for example using ravel().\n",
      "  return fit_method(estimator, *args, **kwargs)\n",
      "/Users/omardukureh12/anaconda3/lib/python3.11/site-packages/sklearn/base.py:1151: DataConversionWarning: A column-vector y was passed when a 1d array was expected. Please change the shape of y to (n_samples,), for example using ravel().\n",
      "  return fit_method(estimator, *args, **kwargs)\n",
      "/Users/omardukureh12/anaconda3/lib/python3.11/site-packages/sklearn/base.py:1151: DataConversionWarning: A column-vector y was passed when a 1d array was expected. Please change the shape of y to (n_samples,), for example using ravel().\n",
      "  return fit_method(estimator, *args, **kwargs)\n"
     ]
    },
    {
     "name": "stdout",
     "output_type": "stream",
     "text": [
      "[CV 3/5; 101/108] END max_depth=30, min_samples_leaf=4, min_samples_split=2, n_estimators=100;, score=-0.468 total time=   0.9s\n",
      "[CV 1/5; 103/108] START max_depth=30, min_samples_leaf=4, min_samples_split=5, n_estimators=50\n"
     ]
    },
    {
     "name": "stderr",
     "output_type": "stream",
     "text": [
      "/Users/omardukureh12/anaconda3/lib/python3.11/site-packages/sklearn/base.py:1151: DataConversionWarning: A column-vector y was passed when a 1d array was expected. Please change the shape of y to (n_samples,), for example using ravel().\n",
      "  return fit_method(estimator, *args, **kwargs)\n"
     ]
    },
    {
     "name": "stdout",
     "output_type": "stream",
     "text": [
      "[CV 4/5; 101/108] END max_depth=30, min_samples_leaf=4, min_samples_split=2, n_estimators=100;, score=-0.434 total time=   0.9s\n",
      "[CV 2/5; 103/108] START max_depth=30, min_samples_leaf=4, min_samples_split=5, n_estimators=50\n",
      "[CV 5/5; 101/108] END max_depth=30, min_samples_leaf=4, min_samples_split=2, n_estimators=100;, score=-0.410 total time=   0.9s\n",
      "[CV 3/5; 103/108] START max_depth=30, min_samples_leaf=4, min_samples_split=5, n_estimators=50\n",
      "[CV 1/5; 103/108] END max_depth=30, min_samples_leaf=4, min_samples_split=5, n_estimators=50;, score=-0.396 total time=   0.5s\n",
      "[CV 4/5; 103/108] START max_depth=30, min_samples_leaf=4, min_samples_split=5, n_estimators=50\n"
     ]
    },
    {
     "name": "stderr",
     "output_type": "stream",
     "text": [
      "/Users/omardukureh12/anaconda3/lib/python3.11/site-packages/sklearn/base.py:1151: DataConversionWarning: A column-vector y was passed when a 1d array was expected. Please change the shape of y to (n_samples,), for example using ravel().\n",
      "  return fit_method(estimator, *args, **kwargs)\n",
      "/Users/omardukureh12/anaconda3/lib/python3.11/site-packages/sklearn/base.py:1151: DataConversionWarning: A column-vector y was passed when a 1d array was expected. Please change the shape of y to (n_samples,), for example using ravel().\n",
      "  return fit_method(estimator, *args, **kwargs)\n",
      "/Users/omardukureh12/anaconda3/lib/python3.11/site-packages/sklearn/base.py:1151: DataConversionWarning: A column-vector y was passed when a 1d array was expected. Please change the shape of y to (n_samples,), for example using ravel().\n",
      "  return fit_method(estimator, *args, **kwargs)\n"
     ]
    },
    {
     "name": "stdout",
     "output_type": "stream",
     "text": [
      "[CV 2/5; 103/108] END max_depth=30, min_samples_leaf=4, min_samples_split=5, n_estimators=50;, score=-0.461 total time=   0.4s\n",
      "[CV 5/5; 103/108] START max_depth=30, min_samples_leaf=4, min_samples_split=5, n_estimators=50\n",
      "[CV 3/5; 103/108] END max_depth=30, min_samples_leaf=4, min_samples_split=5, n_estimators=50;, score=-0.475 total time=   0.5s\n",
      "[CV 1/5; 104/108] START max_depth=30, min_samples_leaf=4, min_samples_split=5, n_estimators=100\n",
      "[CV 4/5; 103/108] END max_depth=30, min_samples_leaf=4, min_samples_split=5, n_estimators=50;, score=-0.428 total time=   0.4s\n",
      "[CV 2/5; 104/108] START max_depth=30, min_samples_leaf=4, min_samples_split=5, n_estimators=100\n"
     ]
    },
    {
     "name": "stderr",
     "output_type": "stream",
     "text": [
      "/Users/omardukureh12/anaconda3/lib/python3.11/site-packages/sklearn/base.py:1151: DataConversionWarning: A column-vector y was passed when a 1d array was expected. Please change the shape of y to (n_samples,), for example using ravel().\n",
      "  return fit_method(estimator, *args, **kwargs)\n",
      "/Users/omardukureh12/anaconda3/lib/python3.11/site-packages/sklearn/base.py:1151: DataConversionWarning: A column-vector y was passed when a 1d array was expected. Please change the shape of y to (n_samples,), for example using ravel().\n",
      "  return fit_method(estimator, *args, **kwargs)\n",
      "/Users/omardukureh12/anaconda3/lib/python3.11/site-packages/sklearn/base.py:1151: DataConversionWarning: A column-vector y was passed when a 1d array was expected. Please change the shape of y to (n_samples,), for example using ravel().\n",
      "  return fit_method(estimator, *args, **kwargs)\n"
     ]
    },
    {
     "name": "stdout",
     "output_type": "stream",
     "text": [
      "[CV 5/5; 103/108] END max_depth=30, min_samples_leaf=4, min_samples_split=5, n_estimators=50;, score=-0.408 total time=   0.5s\n",
      "[CV 3/5; 104/108] START max_depth=30, min_samples_leaf=4, min_samples_split=5, n_estimators=100\n",
      "[CV 1/5; 102/108] END max_depth=30, min_samples_leaf=4, min_samples_split=2, n_estimators=200;, score=-0.394 total time=   1.8s\n",
      "[CV 4/5; 104/108] START max_depth=30, min_samples_leaf=4, min_samples_split=5, n_estimators=100\n"
     ]
    },
    {
     "name": "stderr",
     "output_type": "stream",
     "text": [
      "/Users/omardukureh12/anaconda3/lib/python3.11/site-packages/sklearn/base.py:1151: DataConversionWarning: A column-vector y was passed when a 1d array was expected. Please change the shape of y to (n_samples,), for example using ravel().\n",
      "  return fit_method(estimator, *args, **kwargs)\n",
      "/Users/omardukureh12/anaconda3/lib/python3.11/site-packages/sklearn/base.py:1151: DataConversionWarning: A column-vector y was passed when a 1d array was expected. Please change the shape of y to (n_samples,), for example using ravel().\n",
      "  return fit_method(estimator, *args, **kwargs)\n"
     ]
    },
    {
     "name": "stdout",
     "output_type": "stream",
     "text": [
      "[CV 2/5; 102/108] END max_depth=30, min_samples_leaf=4, min_samples_split=2, n_estimators=200;, score=-0.466 total time=   1.8s\n",
      "[CV 5/5; 104/108] START max_depth=30, min_samples_leaf=4, min_samples_split=5, n_estimators=100\n",
      "[CV 3/5; 102/108] END max_depth=30, min_samples_leaf=4, min_samples_split=2, n_estimators=200;, score=-0.468 total time=   1.8s\n",
      "[CV 4/5; 102/108] END max_depth=30, min_samples_leaf=4, min_samples_split=2, n_estimators=200;, score=-0.438 total time=   1.7s\n",
      "[CV 1/5; 105/108] START max_depth=30, min_samples_leaf=4, min_samples_split=5, n_estimators=200\n",
      "[CV 2/5; 105/108] START max_depth=30, min_samples_leaf=4, min_samples_split=5, n_estimators=200\n",
      "[CV 5/5; 102/108] END max_depth=30, min_samples_leaf=4, min_samples_split=2, n_estimators=200;, score=-0.410 total time=   1.8s\n",
      "[CV 3/5; 105/108] START max_depth=30, min_samples_leaf=4, min_samples_split=5, n_estimators=200\n"
     ]
    },
    {
     "name": "stderr",
     "output_type": "stream",
     "text": [
      "/Users/omardukureh12/anaconda3/lib/python3.11/site-packages/sklearn/base.py:1151: DataConversionWarning: A column-vector y was passed when a 1d array was expected. Please change the shape of y to (n_samples,), for example using ravel().\n",
      "  return fit_method(estimator, *args, **kwargs)\n",
      "/Users/omardukureh12/anaconda3/lib/python3.11/site-packages/sklearn/base.py:1151: DataConversionWarning: A column-vector y was passed when a 1d array was expected. Please change the shape of y to (n_samples,), for example using ravel().\n",
      "  return fit_method(estimator, *args, **kwargs)\n",
      "/Users/omardukureh12/anaconda3/lib/python3.11/site-packages/sklearn/base.py:1151: DataConversionWarning: A column-vector y was passed when a 1d array was expected. Please change the shape of y to (n_samples,), for example using ravel().\n",
      "  return fit_method(estimator, *args, **kwargs)\n",
      "/Users/omardukureh12/anaconda3/lib/python3.11/site-packages/sklearn/base.py:1151: DataConversionWarning: A column-vector y was passed when a 1d array was expected. Please change the shape of y to (n_samples,), for example using ravel().\n",
      "  return fit_method(estimator, *args, **kwargs)\n"
     ]
    },
    {
     "name": "stdout",
     "output_type": "stream",
     "text": [
      "[CV 1/5; 104/108] END max_depth=30, min_samples_leaf=4, min_samples_split=5, n_estimators=100;, score=-0.395 total time=   0.9s\n",
      "[CV 2/5; 104/108] END max_depth=30, min_samples_leaf=4, min_samples_split=5, n_estimators=100;, score=-0.464 total time=   0.8s\n",
      "[CV 4/5; 105/108] START max_depth=30, min_samples_leaf=4, min_samples_split=5, n_estimators=200\n",
      "[CV 5/5; 105/108] START max_depth=30, min_samples_leaf=4, min_samples_split=5, n_estimators=200\n"
     ]
    },
    {
     "name": "stderr",
     "output_type": "stream",
     "text": [
      "/Users/omardukureh12/anaconda3/lib/python3.11/site-packages/sklearn/base.py:1151: DataConversionWarning: A column-vector y was passed when a 1d array was expected. Please change the shape of y to (n_samples,), for example using ravel().\n",
      "  return fit_method(estimator, *args, **kwargs)\n",
      "/Users/omardukureh12/anaconda3/lib/python3.11/site-packages/sklearn/base.py:1151: DataConversionWarning: A column-vector y was passed when a 1d array was expected. Please change the shape of y to (n_samples,), for example using ravel().\n",
      "  return fit_method(estimator, *args, **kwargs)\n"
     ]
    },
    {
     "name": "stdout",
     "output_type": "stream",
     "text": [
      "[CV 3/5; 104/108] END max_depth=30, min_samples_leaf=4, min_samples_split=5, n_estimators=100;, score=-0.468 total time=   0.9s\n",
      "[CV 1/5; 106/108] START max_depth=30, min_samples_leaf=4, min_samples_split=10, n_estimators=50\n",
      "[CV 4/5; 104/108] END max_depth=30, min_samples_leaf=4, min_samples_split=5, n_estimators=100;, score=-0.434 total time=   0.9s\n",
      "[CV 2/5; 106/108] START max_depth=30, min_samples_leaf=4, min_samples_split=10, n_estimators=50\n"
     ]
    },
    {
     "name": "stderr",
     "output_type": "stream",
     "text": [
      "/Users/omardukureh12/anaconda3/lib/python3.11/site-packages/sklearn/base.py:1151: DataConversionWarning: A column-vector y was passed when a 1d array was expected. Please change the shape of y to (n_samples,), for example using ravel().\n",
      "  return fit_method(estimator, *args, **kwargs)\n",
      "/Users/omardukureh12/anaconda3/lib/python3.11/site-packages/sklearn/base.py:1151: DataConversionWarning: A column-vector y was passed when a 1d array was expected. Please change the shape of y to (n_samples,), for example using ravel().\n",
      "  return fit_method(estimator, *args, **kwargs)\n"
     ]
    },
    {
     "name": "stdout",
     "output_type": "stream",
     "text": [
      "[CV 5/5; 104/108] END max_depth=30, min_samples_leaf=4, min_samples_split=5, n_estimators=100;, score=-0.410 total time=   0.9s\n",
      "[CV 3/5; 106/108] START max_depth=30, min_samples_leaf=4, min_samples_split=10, n_estimators=50\n",
      "[CV 1/5; 106/108] END max_depth=30, min_samples_leaf=4, min_samples_split=10, n_estimators=50;, score=-0.400 total time=   0.4s\n",
      "[CV 4/5; 106/108] START max_depth=30, min_samples_leaf=4, min_samples_split=10, n_estimators=50\n"
     ]
    },
    {
     "name": "stderr",
     "output_type": "stream",
     "text": [
      "/Users/omardukureh12/anaconda3/lib/python3.11/site-packages/sklearn/base.py:1151: DataConversionWarning: A column-vector y was passed when a 1d array was expected. Please change the shape of y to (n_samples,), for example using ravel().\n",
      "  return fit_method(estimator, *args, **kwargs)\n",
      "/Users/omardukureh12/anaconda3/lib/python3.11/site-packages/sklearn/base.py:1151: DataConversionWarning: A column-vector y was passed when a 1d array was expected. Please change the shape of y to (n_samples,), for example using ravel().\n",
      "  return fit_method(estimator, *args, **kwargs)\n"
     ]
    },
    {
     "name": "stdout",
     "output_type": "stream",
     "text": [
      "[CV 2/5; 106/108] END max_depth=30, min_samples_leaf=4, min_samples_split=10, n_estimators=50;, score=-0.468 total time=   0.4s\n",
      "[CV 5/5; 106/108] START max_depth=30, min_samples_leaf=4, min_samples_split=10, n_estimators=50\n",
      "[CV 3/5; 106/108] END max_depth=30, min_samples_leaf=4, min_samples_split=10, n_estimators=50;, score=-0.477 total time=   0.4s\n",
      "[CV 1/5; 107/108] START max_depth=30, min_samples_leaf=4, min_samples_split=10, n_estimators=100\n"
     ]
    },
    {
     "name": "stderr",
     "output_type": "stream",
     "text": [
      "/Users/omardukureh12/anaconda3/lib/python3.11/site-packages/sklearn/base.py:1151: DataConversionWarning: A column-vector y was passed when a 1d array was expected. Please change the shape of y to (n_samples,), for example using ravel().\n",
      "  return fit_method(estimator, *args, **kwargs)\n",
      "/Users/omardukureh12/anaconda3/lib/python3.11/site-packages/sklearn/base.py:1151: DataConversionWarning: A column-vector y was passed when a 1d array was expected. Please change the shape of y to (n_samples,), for example using ravel().\n",
      "  return fit_method(estimator, *args, **kwargs)\n"
     ]
    },
    {
     "name": "stdout",
     "output_type": "stream",
     "text": [
      "[CV 4/5; 106/108] END max_depth=30, min_samples_leaf=4, min_samples_split=10, n_estimators=50;, score=-0.433 total time=   0.4s\n",
      "[CV 2/5; 107/108] START max_depth=30, min_samples_leaf=4, min_samples_split=10, n_estimators=100\n",
      "[CV 5/5; 106/108] END max_depth=30, min_samples_leaf=4, min_samples_split=10, n_estimators=50;, score=-0.411 total time=   0.4s\n",
      "[CV 3/5; 107/108] START max_depth=30, min_samples_leaf=4, min_samples_split=10, n_estimators=100\n"
     ]
    },
    {
     "name": "stderr",
     "output_type": "stream",
     "text": [
      "/Users/omardukureh12/anaconda3/lib/python3.11/site-packages/sklearn/base.py:1151: DataConversionWarning: A column-vector y was passed when a 1d array was expected. Please change the shape of y to (n_samples,), for example using ravel().\n",
      "  return fit_method(estimator, *args, **kwargs)\n",
      "/Users/omardukureh12/anaconda3/lib/python3.11/site-packages/sklearn/base.py:1151: DataConversionWarning: A column-vector y was passed when a 1d array was expected. Please change the shape of y to (n_samples,), for example using ravel().\n",
      "  return fit_method(estimator, *args, **kwargs)\n"
     ]
    },
    {
     "name": "stdout",
     "output_type": "stream",
     "text": [
      "[CV 2/5; 105/108] END max_depth=30, min_samples_leaf=4, min_samples_split=5, n_estimators=200;, score=-0.466 total time=   1.7s\n",
      "[CV 4/5; 107/108] START max_depth=30, min_samples_leaf=4, min_samples_split=10, n_estimators=100\n",
      "[CV 1/5; 105/108] END max_depth=30, min_samples_leaf=4, min_samples_split=5, n_estimators=200;, score=-0.394 total time=   1.9s\n",
      "[CV 5/5; 107/108] START max_depth=30, min_samples_leaf=4, min_samples_split=10, n_estimators=100\n",
      "[CV 3/5; 105/108] END max_depth=30, min_samples_leaf=4, min_samples_split=5, n_estimators=200;, score=-0.468 total time=   1.8s\n",
      "[CV 1/5; 108/108] START max_depth=30, min_samples_leaf=4, min_samples_split=10, n_estimators=200\n"
     ]
    },
    {
     "name": "stderr",
     "output_type": "stream",
     "text": [
      "/Users/omardukureh12/anaconda3/lib/python3.11/site-packages/sklearn/base.py:1151: DataConversionWarning: A column-vector y was passed when a 1d array was expected. Please change the shape of y to (n_samples,), for example using ravel().\n",
      "  return fit_method(estimator, *args, **kwargs)\n",
      "/Users/omardukureh12/anaconda3/lib/python3.11/site-packages/sklearn/base.py:1151: DataConversionWarning: A column-vector y was passed when a 1d array was expected. Please change the shape of y to (n_samples,), for example using ravel().\n",
      "  return fit_method(estimator, *args, **kwargs)\n",
      "/Users/omardukureh12/anaconda3/lib/python3.11/site-packages/sklearn/base.py:1151: DataConversionWarning: A column-vector y was passed when a 1d array was expected. Please change the shape of y to (n_samples,), for example using ravel().\n",
      "  return fit_method(estimator, *args, **kwargs)\n"
     ]
    },
    {
     "name": "stdout",
     "output_type": "stream",
     "text": [
      "[CV 5/5; 105/108] END max_depth=30, min_samples_leaf=4, min_samples_split=5, n_estimators=200;, score=-0.410 total time=   1.7s\n",
      "[CV 2/5; 108/108] START max_depth=30, min_samples_leaf=4, min_samples_split=10, n_estimators=200\n",
      "[CV 4/5; 105/108] END max_depth=30, min_samples_leaf=4, min_samples_split=5, n_estimators=200;, score=-0.438 total time=   1.8s\n",
      "[CV 3/5; 108/108] START max_depth=30, min_samples_leaf=4, min_samples_split=10, n_estimators=200\n",
      "[CV 1/5; 107/108] END max_depth=30, min_samples_leaf=4, min_samples_split=10, n_estimators=100;, score=-0.398 total time=   0.9s\n",
      "[CV 4/5; 108/108] START max_depth=30, min_samples_leaf=4, min_samples_split=10, n_estimators=200\n"
     ]
    },
    {
     "name": "stderr",
     "output_type": "stream",
     "text": [
      "/Users/omardukureh12/anaconda3/lib/python3.11/site-packages/sklearn/base.py:1151: DataConversionWarning: A column-vector y was passed when a 1d array was expected. Please change the shape of y to (n_samples,), for example using ravel().\n",
      "  return fit_method(estimator, *args, **kwargs)\n",
      "/Users/omardukureh12/anaconda3/lib/python3.11/site-packages/sklearn/base.py:1151: DataConversionWarning: A column-vector y was passed when a 1d array was expected. Please change the shape of y to (n_samples,), for example using ravel().\n",
      "  return fit_method(estimator, *args, **kwargs)\n",
      "/Users/omardukureh12/anaconda3/lib/python3.11/site-packages/sklearn/base.py:1151: DataConversionWarning: A column-vector y was passed when a 1d array was expected. Please change the shape of y to (n_samples,), for example using ravel().\n",
      "  return fit_method(estimator, *args, **kwargs)\n"
     ]
    },
    {
     "name": "stdout",
     "output_type": "stream",
     "text": [
      "[CV 2/5; 107/108] END max_depth=30, min_samples_leaf=4, min_samples_split=10, n_estimators=100;, score=-0.469 total time=   0.8s\n",
      "[CV 5/5; 108/108] START max_depth=30, min_samples_leaf=4, min_samples_split=10, n_estimators=200\n",
      "[CV 3/5; 107/108] END max_depth=30, min_samples_leaf=4, min_samples_split=10, n_estimators=100;, score=-0.471 total time=   0.8s\n"
     ]
    },
    {
     "name": "stderr",
     "output_type": "stream",
     "text": [
      "/Users/omardukureh12/anaconda3/lib/python3.11/site-packages/sklearn/base.py:1151: DataConversionWarning: A column-vector y was passed when a 1d array was expected. Please change the shape of y to (n_samples,), for example using ravel().\n",
      "  return fit_method(estimator, *args, **kwargs)\n"
     ]
    },
    {
     "name": "stdout",
     "output_type": "stream",
     "text": [
      "[CV 4/5; 107/108] END max_depth=30, min_samples_leaf=4, min_samples_split=10, n_estimators=100;, score=-0.439 total time=   0.9s\n",
      "[CV 5/5; 107/108] END max_depth=30, min_samples_leaf=4, min_samples_split=10, n_estimators=100;, score=-0.413 total time=   0.8s\n",
      "[CV 1/5; 108/108] END max_depth=30, min_samples_leaf=4, min_samples_split=10, n_estimators=200;, score=-0.396 total time=   1.5s\n",
      "[CV 2/5; 108/108] END max_depth=30, min_samples_leaf=4, min_samples_split=10, n_estimators=200;, score=-0.469 total time=   1.5s\n",
      "[CV 3/5; 108/108] END max_depth=30, min_samples_leaf=4, min_samples_split=10, n_estimators=200;, score=-0.471 total time=   1.5s\n",
      "[CV 4/5; 108/108] END max_depth=30, min_samples_leaf=4, min_samples_split=10, n_estimators=200;, score=-0.444 total time=   1.5s\n",
      "[CV 5/5; 108/108] END max_depth=30, min_samples_leaf=4, min_samples_split=10, n_estimators=200;, score=-0.411 total time=   1.5s\n"
     ]
    },
    {
     "name": "stderr",
     "output_type": "stream",
     "text": [
      "/Users/omardukureh12/anaconda3/lib/python3.11/site-packages/sklearn/base.py:1151: DataConversionWarning: A column-vector y was passed when a 1d array was expected. Please change the shape of y to (n_samples,), for example using ravel().\n",
      "  return fit_method(estimator, *args, **kwargs)\n"
     ]
    },
    {
     "data": {
      "text/html": [
       "<style>#sk-container-id-8 {color: black;}#sk-container-id-8 pre{padding: 0;}#sk-container-id-8 div.sk-toggleable {background-color: white;}#sk-container-id-8 label.sk-toggleable__label {cursor: pointer;display: block;width: 100%;margin-bottom: 0;padding: 0.3em;box-sizing: border-box;text-align: center;}#sk-container-id-8 label.sk-toggleable__label-arrow:before {content: \"▸\";float: left;margin-right: 0.25em;color: #696969;}#sk-container-id-8 label.sk-toggleable__label-arrow:hover:before {color: black;}#sk-container-id-8 div.sk-estimator:hover label.sk-toggleable__label-arrow:before {color: black;}#sk-container-id-8 div.sk-toggleable__content {max-height: 0;max-width: 0;overflow: hidden;text-align: left;background-color: #f0f8ff;}#sk-container-id-8 div.sk-toggleable__content pre {margin: 0.2em;color: black;border-radius: 0.25em;background-color: #f0f8ff;}#sk-container-id-8 input.sk-toggleable__control:checked~div.sk-toggleable__content {max-height: 200px;max-width: 100%;overflow: auto;}#sk-container-id-8 input.sk-toggleable__control:checked~label.sk-toggleable__label-arrow:before {content: \"▾\";}#sk-container-id-8 div.sk-estimator input.sk-toggleable__control:checked~label.sk-toggleable__label {background-color: #d4ebff;}#sk-container-id-8 div.sk-label input.sk-toggleable__control:checked~label.sk-toggleable__label {background-color: #d4ebff;}#sk-container-id-8 input.sk-hidden--visually {border: 0;clip: rect(1px 1px 1px 1px);clip: rect(1px, 1px, 1px, 1px);height: 1px;margin: -1px;overflow: hidden;padding: 0;position: absolute;width: 1px;}#sk-container-id-8 div.sk-estimator {font-family: monospace;background-color: #f0f8ff;border: 1px dotted black;border-radius: 0.25em;box-sizing: border-box;margin-bottom: 0.5em;}#sk-container-id-8 div.sk-estimator:hover {background-color: #d4ebff;}#sk-container-id-8 div.sk-parallel-item::after {content: \"\";width: 100%;border-bottom: 1px solid gray;flex-grow: 1;}#sk-container-id-8 div.sk-label:hover label.sk-toggleable__label {background-color: #d4ebff;}#sk-container-id-8 div.sk-serial::before {content: \"\";position: absolute;border-left: 1px solid gray;box-sizing: border-box;top: 0;bottom: 0;left: 50%;z-index: 0;}#sk-container-id-8 div.sk-serial {display: flex;flex-direction: column;align-items: center;background-color: white;padding-right: 0.2em;padding-left: 0.2em;position: relative;}#sk-container-id-8 div.sk-item {position: relative;z-index: 1;}#sk-container-id-8 div.sk-parallel {display: flex;align-items: stretch;justify-content: center;background-color: white;position: relative;}#sk-container-id-8 div.sk-item::before, #sk-container-id-8 div.sk-parallel-item::before {content: \"\";position: absolute;border-left: 1px solid gray;box-sizing: border-box;top: 0;bottom: 0;left: 50%;z-index: -1;}#sk-container-id-8 div.sk-parallel-item {display: flex;flex-direction: column;z-index: 1;position: relative;background-color: white;}#sk-container-id-8 div.sk-parallel-item:first-child::after {align-self: flex-end;width: 50%;}#sk-container-id-8 div.sk-parallel-item:last-child::after {align-self: flex-start;width: 50%;}#sk-container-id-8 div.sk-parallel-item:only-child::after {width: 0;}#sk-container-id-8 div.sk-dashed-wrapped {border: 1px dashed gray;margin: 0 0.4em 0.5em 0.4em;box-sizing: border-box;padding-bottom: 0.4em;background-color: white;}#sk-container-id-8 div.sk-label label {font-family: monospace;font-weight: bold;display: inline-block;line-height: 1.2em;}#sk-container-id-8 div.sk-label-container {text-align: center;}#sk-container-id-8 div.sk-container {/* jupyter's `normalize.less` sets `[hidden] { display: none; }` but bootstrap.min.css set `[hidden] { display: none !important; }` so we also need the `!important` here to be able to override the default hidden behavior on the sphinx rendered scikit-learn.org. See: https://github.com/scikit-learn/scikit-learn/issues/21755 */display: inline-block !important;position: relative;}#sk-container-id-8 div.sk-text-repr-fallback {display: none;}</style><div id=\"sk-container-id-8\" class=\"sk-top-container\"><div class=\"sk-text-repr-fallback\"><pre>GridSearchCV(cv=5, estimator=RandomForestRegressor(random_state=42), n_jobs=-1,\n",
       "             param_grid={&#x27;max_depth&#x27;: [None, 10, 20, 30],\n",
       "                         &#x27;min_samples_leaf&#x27;: [1, 2, 4],\n",
       "                         &#x27;min_samples_split&#x27;: [2, 5, 10],\n",
       "                         &#x27;n_estimators&#x27;: [50, 100, 200]},\n",
       "             scoring=&#x27;neg_mean_squared_error&#x27;, verbose=100)</pre><b>In a Jupyter environment, please rerun this cell to show the HTML representation or trust the notebook. <br />On GitHub, the HTML representation is unable to render, please try loading this page with nbviewer.org.</b></div><div class=\"sk-container\" hidden><div class=\"sk-item sk-dashed-wrapped\"><div class=\"sk-label-container\"><div class=\"sk-label sk-toggleable\"><input class=\"sk-toggleable__control sk-hidden--visually\" id=\"sk-estimator-id-10\" type=\"checkbox\" ><label for=\"sk-estimator-id-10\" class=\"sk-toggleable__label sk-toggleable__label-arrow\">GridSearchCV</label><div class=\"sk-toggleable__content\"><pre>GridSearchCV(cv=5, estimator=RandomForestRegressor(random_state=42), n_jobs=-1,\n",
       "             param_grid={&#x27;max_depth&#x27;: [None, 10, 20, 30],\n",
       "                         &#x27;min_samples_leaf&#x27;: [1, 2, 4],\n",
       "                         &#x27;min_samples_split&#x27;: [2, 5, 10],\n",
       "                         &#x27;n_estimators&#x27;: [50, 100, 200]},\n",
       "             scoring=&#x27;neg_mean_squared_error&#x27;, verbose=100)</pre></div></div></div><div class=\"sk-parallel\"><div class=\"sk-parallel-item\"><div class=\"sk-item\"><div class=\"sk-label-container\"><div class=\"sk-label sk-toggleable\"><input class=\"sk-toggleable__control sk-hidden--visually\" id=\"sk-estimator-id-11\" type=\"checkbox\" ><label for=\"sk-estimator-id-11\" class=\"sk-toggleable__label sk-toggleable__label-arrow\">estimator: RandomForestRegressor</label><div class=\"sk-toggleable__content\"><pre>RandomForestRegressor(random_state=42)</pre></div></div></div><div class=\"sk-serial\"><div class=\"sk-item\"><div class=\"sk-estimator sk-toggleable\"><input class=\"sk-toggleable__control sk-hidden--visually\" id=\"sk-estimator-id-12\" type=\"checkbox\" ><label for=\"sk-estimator-id-12\" class=\"sk-toggleable__label sk-toggleable__label-arrow\">RandomForestRegressor</label><div class=\"sk-toggleable__content\"><pre>RandomForestRegressor(random_state=42)</pre></div></div></div></div></div></div></div></div></div></div>"
      ],
      "text/plain": [
       "GridSearchCV(cv=5, estimator=RandomForestRegressor(random_state=42), n_jobs=-1,\n",
       "             param_grid={'max_depth': [None, 10, 20, 30],\n",
       "                         'min_samples_leaf': [1, 2, 4],\n",
       "                         'min_samples_split': [2, 5, 10],\n",
       "                         'n_estimators': [50, 100, 200]},\n",
       "             scoring='neg_mean_squared_error', verbose=100)"
      ]
     },
     "execution_count": 56,
     "metadata": {},
     "output_type": "execute_result"
    }
   ],
   "source": [
    "rf_model = RandomForestRegressor(random_state=42)\n",
    "param_grid = {\n",
    "    'n_estimators': [50, 100, 200],\n",
    "    'max_depth': [None, 10, 20, 30],\n",
    "    'min_samples_split': [2, 5, 10],\n",
    "    'min_samples_leaf': [1, 2, 4]\n",
    "}\n",
    "\n",
    "grid_search = GridSearchCV(\n",
    "    estimator=rf_model,\n",
    "    param_grid=param_grid,\n",
    "    scoring='neg_mean_squared_error',\n",
    "    cv=5,\n",
    "    n_jobs=-1,\n",
    "    verbose = 100\n",
    ")\n",
    "\n",
    "grid_search.fit(X_train, y_train)"
   ]
  },
  {
   "cell_type": "code",
   "execution_count": 46,
   "metadata": {},
   "outputs": [],
   "source": [
    "best_rf_model = grid_search.best_estimator_ #extracts best model with the best hyperparameters"
   ]
  },
  {
   "cell_type": "markdown",
   "metadata": {},
   "source": [
    "# Model Evaluation"
   ]
  },
  {
   "cell_type": "code",
   "execution_count": 47,
   "metadata": {},
   "outputs": [],
   "source": [
    "min_ws = Cleaned_Nbacombined['WS'].min()\n",
    "shift = 1 - min_ws if min_ws <= 0 else 0\n",
    "preds = {\n",
    "    \"Linear Regression\": np.exp(LR_Model.predict(X_test))-shift, \n",
    "    \"Random Forest\": best_rf_model.predict(X_test),\n",
    "    \"XGBoost\": XGB_reg.predict(X_test)\n",
    "}"
   ]
  },
  {
   "cell_type": "code",
   "execution_count": 55,
   "metadata": {},
   "outputs": [
    {
     "name": "stdout",
     "output_type": "stream",
     "text": [
      "Linear Regression:\n",
      "  RMSE: 1.693\n",
      "  R²:   0.605\n",
      "------------------------------\n",
      "Random Forest:\n",
      "  RMSE: 0.675\n",
      "  R²:   0.937\n",
      "------------------------------\n",
      "XGBoost:\n",
      "  RMSE: 0.613\n",
      "  R²:   0.948\n",
      "------------------------------\n"
     ]
    }
   ],
   "source": [
    "for name, y_pred in preds.items():\n",
    "    rmse = mean_squared_error(y_test, y_pred, squared=False)\n",
    "    r2 =  r2_score(y_test, y_pred)\n",
    "    print(f'{name}:')\n",
    "    print(f'  RMSE: {rmse:.3f}')\n",
    "    print(f\"  R²:   {r2:.3f}\")\n",
    "    print(\"-\" * 30)"
   ]
  },
  {
   "cell_type": "markdown",
   "metadata": {},
   "source": [
    "both Random Forest and XGBoost are good models for this dataset. Liner regression is not a good model for this dataset, the R2 Score is comparatively higer than the ones of Random Forest and XGBoost. Lets look at more of these models and see which one is the best. "
   ]
  },
  {
   "cell_type": "code",
   "execution_count": 49,
   "metadata": {},
   "outputs": [
    {
     "data": {
      "image/png": "[encoded data removed]",
      "text/plain": [
       "<Figure size 1400x1000 with 1 Axes>"
      ]
     },
     "metadata": {},
     "output_type": "display_data"
    }
   ],
   "source": [
    "temp_df = Cleaned_Nbacombined[Cleaned_Nbacombined['Year'] == 2024].copy()\n",
    "temp_df = temp_df.reset_index(drop=True)\n",
    "\n",
    "\n",
    "temp_df['Actual'] = y_test.values\n",
    "temp_df[\"Linear Regression\"] = preds[\"Linear Regression\"]\n",
    "temp_df[\"Random Forest\"] = preds[\"Random Forest\"]\n",
    "temp_df[\"XGBoost\"] = preds[\"XGBoost\"]\n",
    "\n",
    "\n",
    "top10 = temp_df.sort_values('Actual', ascending=False).head(10)\n",
    "players = top10['Player']\n",
    "\n",
    "\n",
    "model_names = ['Actual','Linear Regression', 'Random Forest', 'XGBoost']\n",
    "bar_data = top10[model_names].values.T\n",
    "\n",
    "x = np.arange(len(players))\n",
    "width = 0.15\n",
    "\n",
    "\n",
    "fig, ax = plt.subplots(figsize=(14, 10))\n",
    "\n",
    "for i, model in enumerate(model_names):\n",
    "     ax.bar(x + i * width - width*1.5, bar_data[i], width, label=model)\n",
    "\n",
    "ax.set_xticks(x)\n",
    "ax.set_xticklabels(players, rotation=45, ha=\"right\")\n",
    "ax.set_ylabel(\"Win Shares\")\n",
    "ax.set_title(\"Actual vs Predicted Win Shares (Top 10 Players) in 2024\")\n",
    "ax.legend()\n",
    "\n",
    "plt.tight_layout()\n",
    "plt.show()"
   ]
  },
  {
   "cell_type": "markdown",
   "metadata": {},
   "source": [
    "From the top 10 players with the highest win shares, we can that XGboost and Random forest are the bstter options for our model. Lets plot residuals to see if there is any bias in our model."
   ]
  },
  {
   "cell_type": "markdown",
   "metadata": {},
   "source": [
    "### Linear Regression Residuals"
   ]
  },
  {
   "cell_type": "code",
   "execution_count": 50,
   "metadata": {},
   "outputs": [
    {
     "data": {
      "image/png": "[encoded data removed]",
      "text/plain": [
       "<Figure size 640x480 with 1 Axes>"
      ]
     },
     "metadata": {},
     "output_type": "display_data"
    }
   ],
   "source": [
    "ypredLR = LR_Model.predict(X_test)\n",
    "residuals = y_test - ypredLR\n",
    "plt.scatter(ypredLR, residuals)\n",
    "plt.axhline(0, color='red', linestyle='--',alpha=0.6) \n",
    "plt.xlabel('Predicted Values')\n",
    "plt.ylabel('Residuals')\n",
    "plt.title('Residual Plot')\n",
    "plt.show()"
   ]
  },
  {
   "cell_type": "markdown",
   "metadata": {},
   "source": [
    "### XGBoost Model Residuals"
   ]
  },
  {
   "cell_type": "code",
   "execution_count": 51,
   "metadata": {},
   "outputs": [
    {
     "data": {
      "image/png": "[encoded data removed]",
      "text/plain": [
       "<Figure size 640x480 with 1 Axes>"
      ]
     },
     "metadata": {},
     "output_type": "display_data"
    }
   ],
   "source": [
    "y_test_array = y_test.values.ravel() \n",
    "ypredXGB = XGB_reg.predict(X_test)\n",
    "residuals = y_test_array - ypredXGB\n",
    "plt.scatter(ypredXGB, residuals,alpha = 0.6)\n",
    "plt.axhline(0, color='red', linestyle='--')\n",
    "plt.xlabel('Predicted Values')\n",
    "plt.ylabel('Residuals')\n",
    "plt.title('Residual Plot For XGBoost')\n",
    "plt.show()"
   ]
  },
  {
   "cell_type": "markdown",
   "metadata": {},
   "source": [
    "### Random Forest Residuals"
   ]
  },
  {
   "cell_type": "code",
   "execution_count": 53,
   "metadata": {},
   "outputs": [
    {
     "data": {
      "text/plain": [
       "Text(0.5, 1.0, 'Residual Plot For Random Forest')"
      ]
     },
     "execution_count": 53,
     "metadata": {},
     "output_type": "execute_result"
    },
    {
     "data": {
      "image/png": "[encoded data removed]",
      "text/plain": [
       "<Figure size 640x480 with 1 Axes>"
      ]
     },
     "metadata": {},
     "output_type": "display_data"
    }
   ],
   "source": [
    "y_test_array = y_test.values.ravel() \n",
    "ypredRF =best_rf_model.predict(X_test)\n",
    "residuals = y_test_array - ypredRF\n",
    "plt.scatter(ypredRF, residuals,alpha = 0.6)\n",
    "plt.axhline(0, color='red', linestyle='--')\n",
    "plt.xlabel('Predicted Values')\n",
    "plt.ylabel('Residuals')\n",
    "plt.title('Residual Plot For Random Forest')"
   ]
  },
  {
   "cell_type": "markdown",
   "metadata": {},
   "source": [
    "The residual plot for the linear regression shows curvature, indicating that a linear regression model may not be the best fit for the data.\n",
    "Both the residal plot of XGBmodel and RandomForest model are almost similar, But the R2 and RMSE score of the XGB model is better than the RandomForest model. So the final model to be chosen is XGB model."
   ]
  },
  {
   "cell_type": "code",
   "execution_count": 54,
   "metadata": {},
   "outputs": [],
   "source": [
    "import joblib"
   ]
  },
  {
   "cell_type": "code",
   "execution_count": 57,
   "metadata": {},
   "outputs": [
    {
     "data": {
      "text/plain": [
       "['best_xgboost_model.pkl']"
      ]
     },
     "execution_count": 57,
     "metadata": {},
     "output_type": "execute_result"
    }
   ],
   "source": [
    "joblib.dump(XGB_reg, \"best_xgboost_model.pkl\")"
   ]
  },
  {
   "cell_type": "code",
   "execution_count": null,
   "metadata": {},
   "outputs": [],
   "source": []
  }
 ],
 "metadata": {
  "kernelspec": {
   "display_name": "base",
   "language": "python",
   "name": "python3"
  },
  "language_info": {
   "codemirror_mode": {
    "name": "ipython",
    "version": 3
   },
   "file_extension": ".py",
   "mimetype": "text/x-python",
   "name": "python",
   "nbconvert_exporter": "python",
   "pygments_lexer": "ipython3",
   "version": "3.11.5"
  }
 },
 "nbformat": 4,
 "nbformat_minor": 2
}
